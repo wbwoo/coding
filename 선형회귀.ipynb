{
  "nbformat": 4,
  "nbformat_minor": 0,
  "metadata": {
    "colab": {
      "provenance": [],
      "authorship_tag": "ABX9TyNOMm2YJ4ekWid748zi2jOb",
      "include_colab_link": true
    },
    "kernelspec": {
      "name": "python3",
      "display_name": "Python 3"
    },
    "language_info": {
      "name": "python"
    }
  },
  "cells": [
    {
      "cell_type": "markdown",
      "metadata": {
        "id": "view-in-github",
        "colab_type": "text"
      },
      "source": [
        "<a href=\"https://colab.research.google.com/github/wbwoo/colab/blob/main/%EC%84%A0%ED%98%95%ED%9A%8C%EA%B7%80.ipynb\" target=\"_parent\"><img src=\"https://colab.research.google.com/assets/colab-badge.svg\" alt=\"Open In Colab\"/></a>"
      ]
    },
    {
      "cell_type": "code",
      "execution_count": null,
      "metadata": {
        "colab": {
          "base_uri": "https://localhost:8080/",
          "height": 299
        },
        "id": "QBSb8I_lIVek",
        "outputId": "8a26c8d7-d9bb-4abc-ab72-4d3491cab0c1"
      },
      "outputs": [
        {
          "output_type": "stream",
          "name": "stdout",
          "text": [
            "[168, 176, 170, 180, 166, 172] [60, 72, 50, 74, 58, 74]\n"
          ]
        },
        {
          "output_type": "display_data",
          "data": {
            "text/plain": [
              "<Figure size 432x288 with 1 Axes>"
            ],
            "image/png": "[encoded data removed]"
          },
          "metadata": {
            "needs_background": "light"
          }
        }
      ],
      "source": [
        "#선형회귀 (1/2)\n",
        "#키로 체중을 예측하는 간단한 선형회귀 모델 만들기\n",
        "data=[[1,'영희',168,60],[2,'현호',176,72],[3,'수희',170,50],[4,'영철',180,74],\n",
        "      [5,'민식',166,58],[6,'희수',172,74]]\n",
        "#데이터 시각화\n",
        "import matplotlib.pyplot as plt\n",
        "plt.title('maker')\n",
        "data_x=[]        # 키 값\n",
        "data_y=[]        # 체중 값\n",
        "\n",
        "for k in data :\n",
        "  data_x.append(k[2])\n",
        "  data_y.append(k[3])\n",
        "print(data_x,data_y)\n",
        "plt.grid(True)\n",
        "plt.scatter(data_x, data_y, c='blue')\n",
        "plt.show()"
      ]
    },
    {
      "cell_type": "code",
      "source": [
        "#선형회귀(2/2)\n",
        "#키, 체중 합 구하고 평균 구하기\n",
        "sum_x=avg_x=sum_y=avg_y=0\n",
        "sum_x=sum(data_x)\n",
        "sum_y=sum(data_y)\n",
        "avg_x = sum_x/len(data_x)\n",
        "avg_y = sum_y/len(data_y)\n",
        "print('키 합:',sum_x,'키 평균:',avg_x,'체중합:',sum_y,'체중 평균:',avg_y)\n",
        "\n",
        "# 기울기와 절편 구하기 : 최소제곱법\n",
        "um=b1=0\n",
        "for i,j in zip(data_x,data_y) :\n",
        "  u1 = (i-avg_x)\n",
        "  u2 = (j-avg_y)\n",
        "  um += (u1 * u2)\n",
        "  b1 += (i - avg_x) ** 2\n",
        "a = um/b1                    # 시그마[(x-x')(y-y')]/(x-x')**2\n",
        "b = avg_y - (avg_x * a)      # y'-(x'*a)\n",
        "print('기울기:',a,'절편:',b)"
      ],
      "metadata": {
        "colab": {
          "base_uri": "https://localhost:8080/"
        },
        "id": "oUnvA6sRLfiA",
        "outputId": "4837d75c-af4a-4295-f23b-e637aeb71c74"
      },
      "execution_count": null,
      "outputs": [
        {
          "output_type": "stream",
          "name": "stdout",
          "text": [
            "키 합: 1032 키 평균: 172.0 체중합: 388 체중 평균: 64.66666666666667\n",
            "기울기: 1.411764705882353 절편: -178.15686274509807\n"
          ]
        }
      ]
    },
    {
      "cell_type": "code",
      "source": [
        "x=input(\"키를 입력하시오!!! \")\n",
        "y=a*int(x)+b\n",
        "print(y)"
      ],
      "metadata": {
        "colab": {
          "base_uri": "https://localhost:8080/"
        },
        "id": "98LWxkRINq6j",
        "outputId": "cc8395c9-a8af-43bb-b3e9-6783310bd608"
      },
      "execution_count": null,
      "outputs": [
        {
          "output_type": "stream",
          "name": "stdout",
          "text": [
            "키를 입력하시오!!! 175\n",
            "68.9019607843137\n"
          ]
        }
      ]
    },
    {
      "cell_type": "markdown",
      "source": [
        "5명의 학생 신발크기와 키 조사\n",
        "245,161\n",
        "260,177\n",
        "275,185\n",
        "220,151\n",
        "255,172"
      ],
      "metadata": {
        "id": "v4LZ84zyRSAh"
      }
    },
    {
      "cell_type": "code",
      "source": [
        "#신발 크기와 키를 예측하는 간단한 선형회귀모델 만들기\n",
        "data=[[245,161],[260,177],[275,185],[220,151],[255,172]]\n",
        "#데이터 시각화\n",
        "import matplotlib.pyplot as plt\n",
        "plt.title('marker')\n",
        "x=[]               #신발크기\n",
        "y=[]               #키\n",
        "\n",
        "for k in data :\n",
        "  x.append(k[0])\n",
        "  y.append(k[1])\n",
        "print(x,y);print()\n",
        "plt.grid(True)\n",
        "plt.scatter(x,y)\n",
        "plt.show()"
      ],
      "metadata": {
        "colab": {
          "base_uri": "https://localhost:8080/",
          "height": 318
        },
        "id": "5AXqbydiR402",
        "outputId": "694fe48b-65d2-4c30-cf89-17e85b1e0503"
      },
      "execution_count": null,
      "outputs": [
        {
          "output_type": "stream",
          "name": "stdout",
          "text": [
            "[245, 260, 275, 220, 255] [161, 177, 185, 151, 172]\n",
            "\n"
          ]
        },
        {
          "output_type": "display_data",
          "data": {
            "text/plain": [
              "<Figure size 432x288 with 1 Axes>"
            ],
            "image/png": "[encoded data removed]"
          },
          "metadata": {
            "needs_background": "light"
          }
        }
      ]
    },
    {
      "cell_type": "code",
      "source": [
        "a=0.6;b=18\n",
        "import numpy as np\n",
        "xx=np.array(x)\n",
        "y_line = a * xx + b\n",
        "print(y_line,type(y_line))\n",
        "plt.plot(x, y_line, color='b')\n",
        "plt.grid(True)\n",
        "plt.show()"
      ],
      "metadata": {
        "colab": {
          "base_uri": "https://localhost:8080/",
          "height": 283
        },
        "id": "rfoj81BQVp5E",
        "outputId": "13caa7d5-f76d-4f2a-f69c-26f994249de1"
      },
      "execution_count": null,
      "outputs": [
        {
          "output_type": "stream",
          "name": "stdout",
          "text": [
            "[165. 174. 183. 150. 171.] <class 'numpy.ndarray'>\n"
          ]
        },
        {
          "output_type": "display_data",
          "data": {
            "text/plain": [
              "<Figure size 432x288 with 1 Axes>"
            ],
            "image/png": "[encoded data removed]"
          },
          "metadata": {
            "needs_background": "light"
          }
        }
      ]
    },
    {
      "cell_type": "code",
      "source": [
        "#신발크기, 키 합 구하고 평균 구하기\n",
        "sum_x=avg_x=sum_y=avg_y=cnt=0\n",
        "for k in data :\n",
        " sum_x = sum_x + (k[0])\n",
        " sum_y = sum_y + (k[1])\n",
        " cnt = cnt + 1\n",
        "avg_x = sum_x/cnt\n",
        "avg_y = sum_y/cnt\n",
        "print('신발크기 합:',sum_x,'신발크기 평균:',avg_x,'키 합:',sum_y,'키 평균:',avg_y)\n",
        "\n",
        "# 기울기와 절편 구하기 : 최소제곱법\n",
        "um=b1=0\n",
        "for k in data :\n",
        "  u1 = (k[0]-avg_x)\n",
        "  u2 = (k[1]-avg_y)\n",
        "  um += (u1 * u2)\n",
        "  b1 += (k[0] - avg_x) ** 2\n",
        "a = um/b1                    # 시그마[(x-x')(y-y')]/(x-x')**2\n",
        "b = avg_y - (avg_x * a)      # y'-(x'*a)\n",
        "print('기울기:',a,'절편:',b)"
      ],
      "metadata": {
        "colab": {
          "base_uri": "https://localhost:8080/"
        },
        "id": "g-Z6uODMTocM",
        "outputId": "97a4a4f5-22c7-4317-b428-f8727dfdaf45"
      },
      "execution_count": null,
      "outputs": [
        {
          "output_type": "stream",
          "name": "stdout",
          "text": [
            "신발크기 합: 1255 신발크기 평균: 251.0 키 합: 846 키 평균: 169.2\n",
            "기울기: 0.6431137724550898 절편: 7.778443113772454\n"
          ]
        }
      ]
    },
    {
      "cell_type": "code",
      "source": [
        "x=input(\"신발크기를 입력하시오!!! \")\n",
        "y=a*int(x)+b\n",
        "print('예상되는 키 :',y)"
      ],
      "metadata": {
        "colab": {
          "base_uri": "https://localhost:8080/"
        },
        "id": "_7PmQSSrUmSk",
        "outputId": "70270e91-6937-46df-a8aa-da77d022f123"
      },
      "execution_count": null,
      "outputs": [
        {
          "output_type": "stream",
          "name": "stdout",
          "text": [
            "신발크기를 입력하시오!!! 265\n",
            "예상되는 키 : 178.20359281437126\n"
          ]
        }
      ]
    }
  ]
}