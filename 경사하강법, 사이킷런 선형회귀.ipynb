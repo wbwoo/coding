{
  "nbformat": 4,
  "nbformat_minor": 0,
  "metadata": {
    "colab": {
      "provenance": [],
      "collapsed_sections": [
        "zAW76AFc-gNx",
        "OV1oLYLhJvDs",
        "sP573SQqnnXe"
      ],
      "toc_visible": true,
      "authorship_tag": "ABX9TyOwVatT5B26gma0EejcUnCx",
      "include_colab_link": true
    },
    "kernelspec": {
      "name": "python3",
      "display_name": "Python 3"
    },
    "language_info": {
      "name": "python"
    }
  },
  "cells": [
    {
      "cell_type": "markdown",
      "metadata": {
        "id": "view-in-github",
        "colab_type": "text"
      },
      "source": [
        "<a href=\"https://colab.research.google.com/github/wbwoo/colab/blob/main/%EA%B2%BD%EC%82%AC%ED%95%98%EA%B0%95%EB%B2%95%2C%20%EC%82%AC%EC%9D%B4%ED%82%B7%EB%9F%B0%20%EC%84%A0%ED%98%95%ED%9A%8C%EA%B7%80.ipynb\" target=\"_parent\"><img src=\"https://colab.research.google.com/assets/colab-badge.svg\" alt=\"Open In Colab\"/></a>"
      ]
    },
    {
      "cell_type": "code",
      "execution_count": null,
      "metadata": {
        "colab": {
          "base_uri": "https://localhost:8080/"
        },
        "id": "GqzwD8dZ83iS",
        "outputId": "aa4210a0-5a11-436b-afc5-02cc2742dae7"
      },
      "outputs": [
        {
          "output_type": "execute_result",
          "data": {
            "text/plain": [
              "11"
            ]
          },
          "metadata": {},
          "execution_count": 7
        }
      ],
      "source": [
        "9+2"
      ]
    },
    {
      "cell_type": "markdown",
      "source": [
        "#1일차"
      ],
      "metadata": {
        "id": "zAW76AFc-gNx"
      }
    },
    {
      "cell_type": "code",
      "source": [
        "print(\"김\")"
      ],
      "metadata": {
        "colab": {
          "base_uri": "https://localhost:8080/"
        },
        "id": "Qdhq1wyC-mIF",
        "outputId": "7a7485a6-30a0-4e8c-e508-08942e0563e7"
      },
      "execution_count": null,
      "outputs": [
        {
          "output_type": "stream",
          "name": "stdout",
          "text": [
            "김\n"
          ]
        }
      ]
    },
    {
      "cell_type": "markdown",
      "source": [
        "##1-1"
      ],
      "metadata": {
        "id": "U7tMP51n-p7q"
      }
    },
    {
      "cell_type": "code",
      "source": [
        "print(\"예\")"
      ],
      "metadata": {
        "colab": {
          "base_uri": "https://localhost:8080/"
        },
        "id": "wDg-clw0-rYB",
        "outputId": "569959dc-89ec-4d0e-c029-6fa7abf371ed"
      },
      "execution_count": null,
      "outputs": [
        {
          "output_type": "stream",
          "name": "stdout",
          "text": [
            "예\n"
          ]
        }
      ]
    },
    {
      "cell_type": "markdown",
      "source": [
        "###1-1"
      ],
      "metadata": {
        "id": "fSldrSyr-x3N"
      }
    },
    {
      "cell_type": "code",
      "source": [
        "print(\"준\")"
      ],
      "metadata": {
        "colab": {
          "base_uri": "https://localhost:8080/"
        },
        "id": "0qzSU2dj-zPz",
        "outputId": "16b437c6-e28c-4ae7-a880-7b5f589c5233"
      },
      "execution_count": null,
      "outputs": [
        {
          "output_type": "stream",
          "name": "stdout",
          "text": [
            "준\n"
          ]
        }
      ]
    },
    {
      "cell_type": "markdown",
      "source": [
        "# 2일차\n"
      ],
      "metadata": {
        "id": "OV1oLYLhJvDs"
      }
    },
    {
      "cell_type": "code",
      "source": [
        "#문자열 만들기\n",
        "#큰 따옴표\n",
        "print(\"보현이 ㅎㅇ\")\n",
        "#작은 따옴표\n",
        "print('ㅎㅇㅎㅇ')\n",
        "#큰 따옴표 3개 연속\n",
        "c=\"\"\"Life is too short, You need python\"\"\"\n",
        "print(c)\n",
        "#작은 따옴표 3개 연속\n",
        "print('''Life is too short, You need python''')"
      ],
      "metadata": {
        "colab": {
          "base_uri": "https://localhost:8080/"
        },
        "id": "oRJcflXPJv7r",
        "outputId": "2a840489-0c68-4d43-e3b2-2258c441a993"
      },
      "execution_count": 1,
      "outputs": [
        {
          "output_type": "stream",
          "name": "stdout",
          "text": [
            "보현이 ㅎㅇ\n",
            "ㅎㅇㅎㅇ\n",
            "Life is too short, You need python\n",
            "Life is too short, You need python\n"
          ]
        }
      ]
    },
    {
      "cell_type": "code",
      "source": [
        "# 문자열에 작은 따옴표가 포함된 경우\n",
        "#print('python\\'s my life!')\n",
        "print(\"python's my life!\")\n",
        "\n",
        "# 문자열에 큰 따옴표가 포함된 경우\n",
        "#print(\"\"python is very easy!\"\")\n",
        "print('\"python is very easy!\"')"
      ],
      "metadata": {
        "colab": {
          "base_uri": "https://localhost:8080/"
        },
        "id": "IZKVDvUEKxQc",
        "outputId": "40155650-2c84-46b3-a269-2774da7708db"
      },
      "execution_count": null,
      "outputs": [
        {
          "output_type": "stream",
          "name": "stdout",
          "text": [
            "python's my life!\n",
            "\"python is very easy!\"\n"
          ]
        }
      ]
    },
    {
      "cell_type": "code",
      "source": [
        "# \\를 사용하여 작은 따옴표, 큰 따옴표 사용하기\n",
        "print('python\\'s my life!')\n",
        "print(\"python\\\"s my life!\")"
      ],
      "metadata": {
        "colab": {
          "base_uri": "https://localhost:8080/"
        },
        "id": "FPJ4bf-OL8fY",
        "outputId": "f9d3b3fb-b82d-4ed9-d9b6-840b4395ccaf"
      },
      "execution_count": null,
      "outputs": [
        {
          "output_type": "stream",
          "name": "stdout",
          "text": [
            "python's my life!\n",
            "python\"s my life!\n"
          ]
        }
      ]
    },
    {
      "cell_type": "code",
      "source": [
        "# \\n 를 사용하여 줄바꾸기\n",
        "print(\"Life is too short\\nYou need python!\")\n",
        "print()\n",
        "# ''' 또는 \"\"\" 를 사용하여 보이는 대로 출력하기\n",
        "print('''Life is too short\n",
        "\n",
        "     You need python!\n",
        "\n",
        "OK!''')"
      ],
      "metadata": {
        "colab": {
          "base_uri": "https://localhost:8080/"
        },
        "id": "wtke7jThMKtu",
        "outputId": "bcaba6be-8d59-4daa-f062-5a25fe5cbe7c"
      },
      "execution_count": null,
      "outputs": [
        {
          "output_type": "stream",
          "name": "stdout",
          "text": [
            "Life is too short\n",
            "You need python!\n",
            "\n",
            "Life is too short\n",
            "                             \n",
            "     You need python!\n",
            "     \n",
            "OK!\n"
          ]
        }
      ]
    },
    {
      "cell_type": "code",
      "source": [
        "# 이스케이프 코드 : \\n, \\t, \\\\, \\', \\\"\n",
        "print(\"python\\njava\\nC\")\n",
        "print()\n",
        "print(\"python\\tjava\\tC\")\n",
        "print()\n",
        "print(\"python\\\\java\\\\C\")\n",
        "print()\n",
        "print(\"python\\'java\\\"C\")"
      ],
      "metadata": {
        "colab": {
          "base_uri": "https://localhost:8080/"
        },
        "id": "iEOYzZPNNNUG",
        "outputId": "44c27cfc-8e8a-4c2d-ca6c-195be8e497f6"
      },
      "execution_count": null,
      "outputs": [
        {
          "output_type": "stream",
          "name": "stdout",
          "text": [
            "python\n",
            "java\n",
            "C\n",
            "\n",
            "python\tjava\tC\n",
            "\n",
            "python\\java\\C\n",
            "\n",
            "python'java\"C\n"
          ]
        }
      ]
    },
    {
      "cell_type": "code",
      "source": [
        "#문자열 연산\n",
        "#1. 문자열 연결\n",
        "head=\"Python\"\n",
        "tail=\"is fun!!!\"\n",
        "print(head,tail); print(head+tail)\n",
        "#2. 문자열 곱하기\n",
        "print(head*3)\n",
        "#3. 응용\n",
        "print(\"=\" * 20); print(\"My Program\"); print(\"=\" * 20)\n",
        "#4. 문자열 같이 구하기\n",
        "print(len(head))"
      ],
      "metadata": {
        "colab": {
          "base_uri": "https://localhost:8080/"
        },
        "id": "qDEVWu6jOEVn",
        "outputId": "fcd6edd6-7146-4fd2-9e0b-e123cc0f5688"
      },
      "execution_count": null,
      "outputs": [
        {
          "output_type": "stream",
          "name": "stdout",
          "text": [
            "Python is fun!!!\n",
            "Pythonis fun!!!\n",
            "PythonPythonPython\n",
            "====================\n",
            "My Program\n",
            "====================\n",
            "6\n"
          ]
        }
      ]
    },
    {
      "cell_type": "code",
      "source": [
        "#문자열 인덱싱\n",
        "a=\"Life is short, You need Python\"\n",
        "print(a[3])\n",
        "print(a[0],a[12],a[-1],a[-2],a[-6])\n",
        "print(len(a))"
      ],
      "metadata": {
        "colab": {
          "base_uri": "https://localhost:8080/"
        },
        "id": "q9l05FTQPfAu",
        "outputId": "a11265bc-bc7a-4806-d97b-3cb7bc3fa50b"
      },
      "execution_count": null,
      "outputs": [
        {
          "output_type": "stream",
          "name": "stdout",
          "text": [
            "e\n",
            "L t n o P\n",
            "30\n"
          ]
        }
      ]
    },
    {
      "cell_type": "code",
      "source": [
        "#문자열 슬라이싱\n",
        "a=\"Life is short, You need Python\"\n",
        "print(a[0]+a[1]+a[2]+a[3])\n",
        "print(a[0:4],a[:4])\n",
        "print(a[8:13])\n",
        "print(a[15:])\n",
        "print(a[:13])\n",
        "print(a[:])\n",
        "print(a[15:-7])"
      ],
      "metadata": {
        "colab": {
          "base_uri": "https://localhost:8080/"
        },
        "id": "9jJCIdSsQTSu",
        "outputId": "26015e8d-f1fe-4741-e65a-4bb46dcbb346"
      },
      "execution_count": null,
      "outputs": [
        {
          "output_type": "stream",
          "name": "stdout",
          "text": [
            "Life\n",
            "Life Life\n",
            "short\n",
            "You need Python\n",
            "Life is short\n",
            "Life is short, You need Python\n",
            "You need\n"
          ]
        }
      ]
    },
    {
      "cell_type": "code",
      "source": [
        "#슬라이싱 테스트\n",
        "a=\"20220323sunny\"\n",
        "print(\"date: \",a[:8])\n",
        "print(\"month:\",a[4:6])\n",
        "print(\"Day:\",a[6:8])\n",
        "print(\"Weater:\",a[8:])"
      ],
      "metadata": {
        "colab": {
          "base_uri": "https://localhost:8080/"
        },
        "id": "LBagHtZKRWkF",
        "outputId": "45612b2a-04bd-4c08-acb3-071ea6fcf924"
      },
      "execution_count": null,
      "outputs": [
        {
          "output_type": "stream",
          "name": "stdout",
          "text": [
            "date:  20220323\n",
            "month: 03\n",
            "Day: 23\n",
            "Weater: sunny\n"
          ]
        }
      ]
    },
    {
      "cell_type": "code",
      "source": [
        "#문자열데이터 교체(X)\n",
        "a=\"pithon\"\n",
        "print(a[1])\n",
        "print(a[:1]+\"y\"+a[2:])\n",
        "\n",
        "a=a.replace(\"i\", \"y\")\n",
        "print(a)"
      ],
      "metadata": {
        "colab": {
          "base_uri": "https://localhost:8080/"
        },
        "id": "vveO82b5R-PX",
        "outputId": "429e97cb-df54-433e-cbdd-c2895edec541"
      },
      "execution_count": null,
      "outputs": [
        {
          "output_type": "stream",
          "name": "stdout",
          "text": [
            "i\n",
            "python\n",
            "python\n"
          ]
        }
      ]
    },
    {
      "cell_type": "code",
      "source": [
        "#문자열 포매팅\n",
        "#1. 숫자 발 대입 %d\n",
        "print(\"I eat %d apples.\" %5)\n",
        "#2. 숫자값을 나타내는 변수 대입\n",
        "num=8\n",
        "print(\"I eat %d apples.\" %num)\n",
        "#3. 문자 바로 대입 %s\n",
        "print(\"I eat %s apples.\" % \"five\")\n",
        "#4. 2개 이상의 값 넣기\n",
        "print(\"I ate %d apples. so I was sick %s days\" %(10, \"three\"))"
      ],
      "metadata": {
        "colab": {
          "base_uri": "https://localhost:8080/"
        },
        "id": "cy_LobT1TA2k",
        "outputId": "06e50037-2ae5-4279-b2e2-4cc92aafdf8a"
      },
      "execution_count": null,
      "outputs": [
        {
          "output_type": "stream",
          "name": "stdout",
          "text": [
            "I eat 5 apples.\n",
            "I eat 8 apples.\n",
            "I eat five apples.\n",
            "I ate 10 apples. so I was sick three days\n"
          ]
        }
      ]
    },
    {
      "cell_type": "markdown",
      "source": [
        "[문자열 포맷]\n",
        "\n",
        "1. %s:문자열\n",
        "2. %c:문자 1개\n",
        "3. %d:정수\n",
        "4. %f:부동소수(실수)\n",
        "5. %o:8진수\n",
        "6. %x:16진수\n",
        "7. %%:'%'"
      ],
      "metadata": {
        "id": "FUUZpJcaUIL1"
      }
    },
    {
      "cell_type": "code",
      "source": [
        "#독특한 %s\n",
        "print(\"I have %s apples.\" %3)\n",
        "print(\"PI is %s\" % 3.14)\n",
        "# 퍼센트(%) 기호 표시\n",
        "#print(\"Error is %d%\" % 95)\n",
        "print(\"Error is %d%%\" % 95)"
      ],
      "metadata": {
        "colab": {
          "base_uri": "https://localhost:8080/"
        },
        "id": "pOXWMkuuUiuB",
        "outputId": "6473b488-6ab7-4bfa-e668-19d691d0707a"
      },
      "execution_count": null,
      "outputs": [
        {
          "output_type": "stream",
          "name": "stdout",
          "text": [
            "I have 3 apples.\n",
            "PI is 3.14\n",
            "Error is 95%\n"
          ]
        }
      ]
    },
    {
      "cell_type": "markdown",
      "source": [
        "# 3일차"
      ],
      "metadata": {
        "id": "sP573SQqnnXe"
      }
    },
    {
      "cell_type": "code",
      "source": [
        "#문자열 관련 함수\n",
        "a=\"happy\"\n",
        "print(a.count('p'))  #문자열 내 p 개수\n",
        "b=\"python is the best choice\"\n",
        "print(b.find('o'))   #문자열 내 위치find\n",
        "print(b.find('z'))   #문자열 내 위치find, X : -1\n",
        "print(b.index('o'))  #문자열 내 위치index\n",
        "#print(b.index('z')) #문자열 내 위치index, X : 오류"
      ],
      "metadata": {
        "colab": {
          "base_uri": "https://localhost:8080/"
        },
        "id": "Qu8ssGDImQhz",
        "outputId": "8a2bc0e8-851b-4d4d-81db-2b7167cf405b"
      },
      "execution_count": null,
      "outputs": [
        {
          "output_type": "stream",
          "name": "stdout",
          "text": [
            "2\n",
            "4\n",
            "-1\n",
            "4\n"
          ]
        }
      ]
    },
    {
      "cell_type": "code",
      "source": [
        "#문자열 삽입\n",
        "a='abcde'\n",
        "b=\"/\".join(a)\n",
        "print(b)\n",
        "a=\"hi\" ; b=\"Hi\"\n",
        "print(a.upper())  #소->대문자로\n",
        "print(b.lower())  #대->소문자로\n",
        "c=\"    happy     \"\n",
        "print(c.lstrip()) #왼쪽 공백 삭제\n",
        "print(c.rstrip()) #오른쪽 공백 삭제\n",
        "print(c.strip())  #양쪽 공백 삭제"
      ],
      "metadata": {
        "colab": {
          "base_uri": "https://localhost:8080/"
        },
        "id": "eqd32FZxntkJ",
        "outputId": "3fc199a9-67b6-4601-9b3a-576ded50bb3c"
      },
      "execution_count": null,
      "outputs": [
        {
          "output_type": "stream",
          "name": "stdout",
          "text": [
            "a/b/c/d/e\n",
            "HI\n",
            "hi\n",
            "happy     \n",
            "    happy\n",
            "happy\n"
          ]
        }
      ]
    },
    {
      "cell_type": "code",
      "source": [
        "#문자열 바꾸기\n",
        "a=\"LoLoLo\"\n",
        "b=a.replace(\"L\",\"N\");print(b)\n",
        "c=a.replace(\"L\",\"N\",1);print(c)\n",
        "\n",
        "tmp=a[::-1];print(tmp);\n",
        "tmp=a[::-1].replace(\"L\",\"Z\",1); print(tmp); #뒤에서 부터 바꾸기\n",
        "print(tmp[::-1])\n",
        "\n",
        "#문자열 나누기\n",
        "a=\"Life is too short\"\n",
        "b=a.split()            #공백 기준 나누기\n",
        "print(b); print(b[3])\n",
        "a=\"a,b,c,d,e\"\n",
        "b=a.split(\",\")         # , 기준 나누기\n",
        "print(b); print(b[1])"
      ],
      "metadata": {
        "colab": {
          "base_uri": "https://localhost:8080/"
        },
        "id": "N3BUt4bao-zm",
        "outputId": "0cd7085e-8dd7-4788-9688-2f1b4e5f6397"
      },
      "execution_count": null,
      "outputs": [
        {
          "output_type": "stream",
          "name": "stdout",
          "text": [
            "NoNoNo\n",
            "NoLoLo\n",
            "oLoLoL\n",
            "oZoLoL\n",
            "LoLoZo\n",
            "['Life', 'is', 'too', 'short']\n",
            "short\n",
            "['a', 'b', 'c', 'd', 'e']\n",
            "b\n"
          ]
        }
      ]
    },
    {
      "cell_type": "code",
      "source": [
        "# bool data type\n",
        "a=True ; b=False\n",
        "print(type(a))\n",
        "print(1==1) ; print(2<1)"
      ],
      "metadata": {
        "colab": {
          "base_uri": "https://localhost:8080/"
        },
        "id": "8YSRdgUFsXI-",
        "outputId": "61e5877a-28ae-4563-9d98-ae902e34f94c"
      },
      "execution_count": null,
      "outputs": [
        {
          "output_type": "stream",
          "name": "stdout",
          "text": [
            "<class 'bool'>\n",
            "True\n",
            "False\n"
          ]
        }
      ]
    },
    {
      "cell_type": "markdown",
      "source": [
        "[자료형별 거짓] 숫자형:0, 문자형:\"\", 리스트:[], 튜플:() 딕션어리:{}, System:None"
      ],
      "metadata": {
        "id": "cvfHddeLtHrD"
      }
    },
    {
      "cell_type": "code",
      "source": [
        "# 불(bool) 연산\n",
        "print(bool(0))\n",
        "print(bool(-123))\n",
        "print(bool(''))\n",
        "print(bool('abc'))\n",
        "print(bool([]))\n",
        "print(bool([1,2,3,]))"
      ],
      "metadata": {
        "colab": {
          "base_uri": "https://localhost:8080/"
        },
        "id": "TpB_5PM8s7Jj",
        "outputId": "960cbd6d-d0fa-4535-8e78-9209c290562e"
      },
      "execution_count": null,
      "outputs": [
        {
          "output_type": "stream",
          "name": "stdout",
          "text": [
            "False\n",
            "True\n",
            "False\n",
            "True\n",
            "False\n",
            "True\n"
          ]
        }
      ]
    },
    {
      "cell_type": "code",
      "source": [
        "if [] :\n",
        "  print(\"참\")\n",
        "else :\n",
        "  print(\"거짓\")"
      ],
      "metadata": {
        "colab": {
          "base_uri": "https://localhost:8080/"
        },
        "id": "9q785RtBt6CO",
        "outputId": "bae3b222-ad72-485f-cfc2-d0a4e236f2cb"
      },
      "execution_count": null,
      "outputs": [
        {
          "output_type": "stream",
          "name": "stdout",
          "text": [
            "거짓\n"
          ]
        }
      ]
    },
    {
      "cell_type": "code",
      "source": [
        "a=[1,2,3,4]\n",
        "print(type(a))\n",
        "#while 참이면 계속 돌아감\n",
        "while a :\n",
        "  print(a.pop())\n",
        "  print(a)\n",
        "print('end')"
      ],
      "metadata": {
        "colab": {
          "base_uri": "https://localhost:8080/"
        },
        "id": "-USe-d47uaD_",
        "outputId": "34eb8692-bc38-40c1-eabc-b1929e17345b"
      },
      "execution_count": null,
      "outputs": [
        {
          "output_type": "stream",
          "name": "stdout",
          "text": [
            "<class 'list'>\n",
            "4\n",
            "[1, 2, 3]\n",
            "3\n",
            "[1, 2]\n",
            "2\n",
            "[1]\n",
            "1\n",
            "[]\n",
            "end\n"
          ]
        }
      ]
    },
    {
      "cell_type": "markdown",
      "source": [
        "구성\n",
        "odd=[1,3,5,7,9]\n",
        "형태\n",
        "1. a=[]\n",
        "2. b=[1,2,3]\n",
        "3. c=['life,'is',"
      ],
      "metadata": {
        "id": "36UfginTvhrl"
      }
    },
    {
      "cell_type": "code",
      "source": [
        "#list 인덱싱\n",
        "a=[1,2,3]\n",
        "print(a)\n",
        "print(a[0]+a[2])\n",
        "b=[1,2,3,['a','b','c']]\n",
        "print(b[0]);print(b[-1]); print(b[3])\n",
        "print(b[3][0]);print(b[-1]);print(b[3])\n",
        "c=[1,2,['a','b',['life','is']]]\n",
        "print(c[2][2][0])"
      ],
      "metadata": {
        "colab": {
          "base_uri": "https://localhost:8080/"
        },
        "id": "9z17lGFPy2Q9",
        "outputId": "00e6575e-7589-45d6-b6bf-e8ea438d6ea1"
      },
      "execution_count": null,
      "outputs": [
        {
          "output_type": "stream",
          "name": "stdout",
          "text": [
            "[1, 2, 3]\n",
            "4\n",
            "1\n",
            "['a', 'b', 'c']\n",
            "['a', 'b', 'c']\n",
            "a\n",
            "['a', 'b', 'c']\n",
            "['a', 'b', 'c']\n",
            "life\n"
          ]
        }
      ]
    },
    {
      "cell_type": "code",
      "source": [
        "#list 슬라이싱\n",
        "a=[1,2,3,4,5]\n",
        "print(a[:2]);print(a[2:]);print(a[1:3])\n",
        "a=[1,2,3,['a','b','c'],4,5]\n",
        "print(a[2:4])\n",
        "print(a[3][:2])"
      ],
      "metadata": {
        "colab": {
          "base_uri": "https://localhost:8080/"
        },
        "id": "EYPyV6Cbz1pu",
        "outputId": "3f5f6cba-15b0-41ef-b218-a80d2f42f9db"
      },
      "execution_count": null,
      "outputs": [
        {
          "output_type": "stream",
          "name": "stdout",
          "text": [
            "[1, 2]\n",
            "[3, 4, 5]\n",
            "[2, 3]\n",
            "[3, ['a', 'b', 'c']]\n",
            "['a', 'b']\n"
          ]
        }
      ]
    },
    {
      "cell_type": "code",
      "source": [
        "#list 연산하기(+,*)\n",
        "a=[1,2,3]; b=[4,5,6]\n",
        "print(a+b); print(a*3)\n",
        "print(len(a))\n",
        "#print(a[2]+\"hi\")\n",
        "print(a[2],\"hi\")\n",
        "print(str(a[2])+\"hi\")"
      ],
      "metadata": {
        "colab": {
          "base_uri": "https://localhost:8080/"
        },
        "id": "BDpX33RU0vuB",
        "outputId": "90e2c44b-82ef-4645-8134-a412454d1c92"
      },
      "execution_count": null,
      "outputs": [
        {
          "output_type": "stream",
          "name": "stdout",
          "text": [
            "[1, 2, 3, 4, 5, 6]\n",
            "[1, 2, 3, 1, 2, 3, 1, 2, 3]\n",
            "3\n",
            "3 hi\n",
            "3hi\n"
          ]
        }
      ]
    },
    {
      "cell_type": "code",
      "source": [
        "#리스트 값 수정\n",
        "a=[1,2,3,4,5]\n",
        "a[2]=7\n",
        "print(a)\n",
        "#리스트 값 삭제\n",
        "del a[1]; print(a)\n",
        "del a[2:]; print(a)"
      ],
      "metadata": {
        "colab": {
          "base_uri": "https://localhost:8080/"
        },
        "id": "IX23bJcy103e",
        "outputId": "c8b632ff-aa4f-47e7-88b7-88ec544f1321"
      },
      "execution_count": null,
      "outputs": [
        {
          "output_type": "stream",
          "name": "stdout",
          "text": [
            "[1, 2, 7, 4, 5]\n",
            "[1, 7, 4, 5]\n",
            "[1, 7]\n"
          ]
        }
      ]
    },
    {
      "cell_type": "code",
      "source": [
        "#리스트 관련 함수\n",
        "##리스트 요소 추가\n",
        "a=[1,2,3]\n",
        "a.append(4); print(a)\n",
        "a.append([5,6]); print(a)\n",
        "#리스트 정렬\n",
        "a=[1,4,3,2]\n",
        "a.sort(reverse=True); print(a)\n",
        "a=['a','c','b']\n",
        "print(a); a.sort(); print(a)\n",
        "#리스트 뒤집기\n",
        "a=['a','c','b']\n",
        "print(a); a.reverse(); print(a)\n",
        "##리스트 위치반환\n",
        "a=[1,2,3,4,5]\n",
        "print(a.index(3)); print(a.index(5))\n",
        "#print(a.index(7)) <-- 하지말라고 적은거"
      ],
      "metadata": {
        "colab": {
          "base_uri": "https://localhost:8080/"
        },
        "id": "iLKGZ97f2WzG",
        "outputId": "478636b7-197d-4b26-a976-1d2882b94548"
      },
      "execution_count": null,
      "outputs": [
        {
          "output_type": "stream",
          "name": "stdout",
          "text": [
            "[1, 2, 3, 4]\n",
            "[1, 2, 3, 4, [5, 6]]\n",
            "[4, 3, 2, 1]\n",
            "['a', 'c', 'b']\n",
            "['a', 'b', 'c']\n",
            "['a', 'c', 'b']\n",
            "['b', 'c', 'a']\n",
            "2\n",
            "4\n"
          ]
        }
      ]
    },
    {
      "cell_type": "code",
      "source": [
        "##리스트에 요소 삽입\n",
        "a=[1,2,3]\n",
        "a.insert(0,4); print(a)\n",
        "a.insert(3,5); print(a)\n",
        "##리스트 요소 제거\n",
        "a=[1,2,3,1,2,3]\n",
        "a.remove(3); print(a)\n",
        "a.remove(3); print(a)\n",
        "##리스트 요소 끄집어내기\n",
        "a=[1,2,3,4,5]\n",
        "a.pop(); print(a)\n",
        "a.pop(1); print(a)"
      ],
      "metadata": {
        "colab": {
          "base_uri": "https://localhost:8080/"
        },
        "id": "0ncntvNh4Z7i",
        "outputId": "6696c56d-5658-47cd-a190-9293a7252cea"
      },
      "execution_count": null,
      "outputs": [
        {
          "output_type": "stream",
          "name": "stdout",
          "text": [
            "[4, 1, 2, 3]\n",
            "[4, 1, 2, 5, 3]\n",
            "[1, 2, 1, 2, 3]\n",
            "[1, 2, 1, 2]\n",
            "[1, 2, 3, 4]\n",
            "[1, 3, 4]\n"
          ]
        }
      ]
    },
    {
      "cell_type": "code",
      "source": [
        "##리스트에 포함된 요소 갯수 세기\n",
        "a=[1,2,3,4,1,2,3]\n",
        "print(a.count(1)); print(a.count(4))\n",
        "##리스트 확장\n",
        "a=[1,2,3]\n",
        "a.extend([4,5,6,7]); print(a)\n",
        "a.extend([1,2]); print(a)\n",
        "a=[1,2,3]\n",
        "a += [4,5]; print(a)   #a=a+[4,5]"
      ],
      "metadata": {
        "colab": {
          "base_uri": "https://localhost:8080/"
        },
        "id": "WaB-sXFD5KoR",
        "outputId": "7d7550be-e5fa-474f-e608-a6960602f999"
      },
      "execution_count": null,
      "outputs": [
        {
          "output_type": "stream",
          "name": "stdout",
          "text": [
            "2\n",
            "1\n",
            "[1, 2, 3, 4, 5, 6, 7]\n",
            "[1, 2, 3, 4, 5, 6, 7, 1, 2]\n",
            "[1, 2, 3, 4, 5]\n"
          ]
        }
      ]
    },
    {
      "cell_type": "markdown",
      "source": [
        "튜플은 리스트와 흡사하나 그 값을 밖ㄹ 수 없다(수정, 삭제 안됨)\n",
        "\n",
        "일반형 t=()\n",
        "t=(1,)\n",
        "t=(1,2,3)\n",
        "t=('a','b',('c','d'))"
      ],
      "metadata": {
        "id": "kv4iOf3J6fLi"
      }
    },
    {
      "cell_type": "code",
      "source": [
        "#삭제, 수정 X\n",
        "t1=(1,2,'a','b')\n",
        "#del t1[0]\n",
        "#t1[0]=5\n",
        "#인덱싱\n",
        "print(t1[0],t1[3])\n",
        "#슬라이싱\n",
        "print(t1[1:])\n",
        "#더하기\n",
        "t2=(3,4) ; print(t1+t2)\n",
        "#곱하기\n",
        "print(t2*3)\n",
        "#길이 구하기\n",
        "print(len(t1),len(t2))\n",
        "#만약 t2에 5를 추가하고 싶다면\n",
        "print(t2+(5,))"
      ],
      "metadata": {
        "colab": {
          "base_uri": "https://localhost:8080/"
        },
        "id": "uvTSaMAT6r63",
        "outputId": "9136f022-a775-4d34-bbb9-13e8eccef63c"
      },
      "execution_count": null,
      "outputs": [
        {
          "output_type": "stream",
          "name": "stdout",
          "text": [
            "1 b\n",
            "(2, 'a', 'b')\n",
            "(1, 2, 'a', 'b', 3, 4)\n",
            "(3, 4, 3, 4, 3, 4)\n",
            "4 2\n",
            "(3, 4, 5)\n"
          ]
        }
      ]
    },
    {
      "cell_type": "markdown",
      "source": [
        "# 4일차\n"
      ],
      "metadata": {
        "id": "gmADK7hq2Q8B"
      }
    },
    {
      "cell_type": "code",
      "source": [
        "import matplotlib.pyplot as plt\n",
        "def draw_graph(x_data, y_data, x_name, y_name) :\n",
        "  plt.scatter(x_data, y_data, color='r',alpha=0.9)\n",
        "  plt.xlabel(x_name)\n",
        "  plt.ylabel(y_name)\n",
        "  plt.grid(True)\n",
        "  plt.show()\n",
        "\n",
        "x=[4,12,18,22,28]\n",
        "y=[16,42,50,75,70]\n",
        "draw_graph(x,y,'stress','disorder')"
      ],
      "metadata": {
        "colab": {
          "base_uri": "https://localhost:8080/",
          "height": 279
        },
        "id": "Ffq8PIMh2Ui3",
        "outputId": "725faefa-11cf-443e-ac87-54fe7f634b3a"
      },
      "execution_count": null,
      "outputs": [
        {
          "output_type": "display_data",
          "data": {
            "text/plain": [
              "<Figure size 432x288 with 1 Axes>"
            ],
            "image/png": "[encoded data removed]"
          },
          "metadata": {
            "needs_background": "light"
          }
        }
      ]
    },
    {
      "cell_type": "code",
      "source": [
        "# numpy의 np.array 학습 : list\n",
        "x=[1,2,3,4,5]\n",
        "a=2;b=1\n",
        "y=[]\n",
        "print(x, type(x))\n",
        "for i in x :\n",
        "  cal= a * i + b\n",
        "  y.append(cal)\n",
        "print(y, type(y))"
      ],
      "metadata": {
        "colab": {
          "base_uri": "https://localhost:8080/"
        },
        "id": "kkFumSUV43lC",
        "outputId": "b47f4701-bd75-4104-b444-2db0a8cdc36d"
      },
      "execution_count": null,
      "outputs": [
        {
          "output_type": "stream",
          "name": "stdout",
          "text": [
            "[1, 2, 3, 4, 5] <class 'list'>\n",
            "[3, 5, 7, 9, 11] <class 'list'>\n"
          ]
        }
      ]
    },
    {
      "cell_type": "code",
      "source": [
        "# numpy의 np.array 학습 : ndarray\n",
        "x=[1,2,3,4,5]\n",
        "a=2;b=1\n",
        "y=[]\n",
        "print(x, type(x))\n",
        "import numpy as np\n",
        "xx=np.array(x)\n",
        "print(xx,type(xx))\n",
        "y=a * xx + b\n",
        "print(y,type(y))"
      ],
      "metadata": {
        "colab": {
          "base_uri": "https://localhost:8080/"
        },
        "id": "D4-ynfKn6UqK",
        "outputId": "aa8c522b-2c44-4f54-fc16-da4ed49b908e"
      },
      "execution_count": null,
      "outputs": [
        {
          "output_type": "stream",
          "name": "stdout",
          "text": [
            "[1, 2, 3, 4, 5] <class 'list'>\n",
            "[1 2 3 4 5] <class 'numpy.ndarray'>\n",
            "[ 3  5  7  9 11] <class 'numpy.ndarray'>\n"
          ]
        }
      ]
    },
    {
      "cell_type": "code",
      "source": [
        "#데이터 시각화 산점도와 추세선 그리기\n",
        "import matplotlib.pyplot as plt\n",
        "import numpy as np\n",
        "def draw_graph_line(x_data,y_data,a,b,x_name,y_name):\n",
        "#산점도 그리기\n",
        "  plt.scatter(x_data, y_data, color='r',alpha=0.7)\n",
        "  plt.xlabel(x_name); plt.ylabel(y_name)\n",
        "\n",
        "  x_data = np.array(x_data) #: print(x_data)\n",
        "  y_line = a * x_data + b #: print(y_line)\n",
        "  plt.plot(x_data,y_line, color='b')\n",
        "  plt.grid(True)\n",
        "  plt.show()\n",
        "\n",
        "x=[4,12,18,22,28]; y=[16,42,50,75,70]\n",
        "draw_graph_line(x,y,3,6,'stress','disorder');print()\n",
        "draw_graph_line(x,y,2,16,'stress','disorder')"
      ],
      "metadata": {
        "colab": {
          "base_uri": "https://localhost:8080/",
          "height": 559
        },
        "id": "L6c-wkoV7fY9",
        "outputId": "7346fde5-4c16-4322-f878-22b2945bed7c"
      },
      "execution_count": null,
      "outputs": [
        {
          "output_type": "display_data",
          "data": {
            "text/plain": [
              "<Figure size 432x288 with 1 Axes>"
            ],
            "image/png": "[encoded data removed]"
          },
          "metadata": {
            "needs_background": "light"
          }
        },
        {
          "output_type": "stream",
          "name": "stdout",
          "text": [
            "\n"
          ]
        },
        {
          "output_type": "display_data",
          "data": {
            "text/plain": [
              "<Figure size 432x288 with 1 Axes>"
            ],
            "image/png": "[encoded data removed]"
          },
          "metadata": {
            "needs_background": "light"
          }
        }
      ]
    },
    {
      "cell_type": "markdown",
      "source": [
        "평균제곱오차(MSE)"
      ],
      "metadata": {
        "id": "RhxmX5nM_2sA"
      }
    },
    {
      "cell_type": "code",
      "source": [
        "import numpy as np\n",
        "#평균제곱오차구하기\n",
        "def mse(x_data,y_data,a,b) :\n",
        "  x_data = np.array(x_data)\n",
        "  y_data = np.array(y_data)\n",
        "  y_predict = a * x_data + b\n",
        "  error = (y_predict - y_data); print(error)\n",
        "  square_error = error ** 2; print(square_error)\n",
        "  mean_square_error = square_error.sum() / len(error)\n",
        "  print(a,'x +',b,'의 평균 제곱 오차 =', mean_square_error)\n",
        "  return mean_square_error\n",
        "x=[4,12,18,22,28]; y=[16,42,50,75,70]\n",
        "mse1=mse(x,y,3,6); print()\n",
        "mse2=mse(x,y,2,16)\n"
      ],
      "metadata": {
        "colab": {
          "base_uri": "https://localhost:8080/"
        },
        "id": "d_2A5H6G_7R9",
        "outputId": "499f9609-0aad-464f-d1b5-812db4b809e8"
      },
      "execution_count": null,
      "outputs": [
        {
          "output_type": "stream",
          "name": "stdout",
          "text": [
            "[ 2  0 10 -3 20]\n",
            "[  4   0 100   9 400]\n",
            "3 x + 6 의 평균 제곱 오차 = 102.6\n",
            "\n",
            "[  8  -2   2 -15   2]\n",
            "[ 64   4   4 225   4]\n",
            "2 x + 16 의 평균 제곱 오차 = 60.2\n"
          ]
        }
      ]
    },
    {
      "cell_type": "markdown",
      "source": [
        "경사하강법"
      ],
      "metadata": {
        "id": "L9XncC0hGrfz"
      }
    },
    {
      "cell_type": "code",
      "source": [
        "#절편고정\n",
        "mse_3=mse(x,y,-3,6);print()\n",
        "mse0=mse(x,y,0,6);print()\n",
        "mse3=mse(x,y,3,6);print()\n",
        "mse6=mse(x,y,6,6);print()\n",
        "mse9=mse(x,y,9,6)"
      ],
      "metadata": {
        "colab": {
          "base_uri": "https://localhost:8080/"
        },
        "id": "l19XG1ibGtcC",
        "outputId": "6a3fb6b4-03c2-4271-d759-84053da048db"
      },
      "execution_count": null,
      "outputs": [
        {
          "output_type": "stream",
          "name": "stdout",
          "text": [
            "[ -22  -72  -98 -135 -148]\n",
            "[  484  5184  9604 18225 21904]\n",
            "-3 x + 6 의 평균 제곱 오차 = 11080.2\n",
            "\n",
            "[-10 -36 -44 -69 -64]\n",
            "[ 100 1296 1936 4761 4096]\n",
            "0 x + 6 의 평균 제곱 오차 = 2437.8\n",
            "\n",
            "[ 2  0 10 -3 20]\n",
            "[  4   0 100   9 400]\n",
            "3 x + 6 의 평균 제곱 오차 = 102.6\n",
            "\n",
            "[ 14  36  64  63 104]\n",
            "[  196  1296  4096  3969 10816]\n",
            "6 x + 6 의 평균 제곱 오차 = 4074.6\n",
            "\n",
            "[ 26  72 118 129 188]\n",
            "[  676  5184 13924 16641 35344]\n",
            "9 x + 6 의 평균 제곱 오차 = 14353.8\n"
          ]
        }
      ]
    },
    {
      "cell_type": "code",
      "source": [
        "x_test=[-3,0,3,6,9]\n",
        "y_test=[mse_3,mse0,mse3,mse6,mse9]\n",
        "plt.xlabel('gradent : w')\n",
        "plt.ylabel('cost')\n",
        "plt.plot(x_test,y_test)\n",
        "plt.grid(True)\n",
        "plt.show()"
      ],
      "metadata": {
        "colab": {
          "base_uri": "https://localhost:8080/",
          "height": 279
        },
        "id": "4biBFHJNHVa0",
        "outputId": "b535cc7b-3229-432a-8877-02b52197b89e"
      },
      "execution_count": null,
      "outputs": [
        {
          "output_type": "display_data",
          "data": {
            "text/plain": [
              "<Figure size 432x288 with 1 Axes>"
            ],
            "image/png": "[encoded data removed]"
          },
          "metadata": {
            "needs_background": "light"
          }
        }
      ]
    },
    {
      "cell_type": "code",
      "source": [
        "#절편 고정, 기울기 변화에 따른 오차\n",
        "def loss_function(x_data,y_data,a_list,b_list) :\n",
        "  loss_list = []\n",
        "  for i in range(len(a_list)) :\n",
        "    loss_list.append(mse(x_data,y_data,a_list[i],b_list[i]))\n",
        "  return loss_list\n",
        "\n",
        "  #x=[4,12,18,22,18]; y=[16,42,50,75,70]\n",
        "a=np.arange(-10,10,0.5)\n",
        "b=np.full_like(a,0)\n",
        "loss_list = loss_function(x,y,a,b)"
      ],
      "metadata": {
        "colab": {
          "base_uri": "https://localhost:8080/"
        },
        "id": "Rt_uyOQLI2kz",
        "outputId": "9d5aa505-196f-4f43-8d3f-d9a149eeeefd"
      },
      "execution_count": null,
      "outputs": [
        {
          "output_type": "stream",
          "name": "stdout",
          "text": [
            "[ -56. -162. -230. -295. -350.]\n",
            "[  3136.  26244.  52900.  87025. 122500.]\n",
            "-10.0 x + 0.0 의 평균 제곱 오차 = 58361.0\n",
            "[ -54. -156. -221. -284. -336.]\n",
            "[  2916.  24336.  48841.  80656. 112896.]\n",
            "-9.5 x + 0.0 의 평균 제곱 오차 = 53929.0\n",
            "[ -52. -150. -212. -273. -322.]\n",
            "[  2704.  22500.  44944.  74529. 103684.]\n",
            "-9.0 x + 0.0 의 평균 제곱 오차 = 49672.2\n",
            "[ -50. -144. -203. -262. -308.]\n",
            "[ 2500. 20736. 41209. 68644. 94864.]\n",
            "-8.5 x + 0.0 의 평균 제곱 오차 = 45590.6\n",
            "[ -48. -138. -194. -251. -294.]\n",
            "[ 2304. 19044. 37636. 63001. 86436.]\n",
            "-8.0 x + 0.0 의 평균 제곱 오차 = 41684.2\n",
            "[ -46. -132. -185. -240. -280.]\n",
            "[ 2116. 17424. 34225. 57600. 78400.]\n",
            "-7.5 x + 0.0 의 평균 제곱 오차 = 37953.0\n",
            "[ -44. -126. -176. -229. -266.]\n",
            "[ 1936. 15876. 30976. 52441. 70756.]\n",
            "-7.0 x + 0.0 의 평균 제곱 오차 = 34397.0\n",
            "[ -42. -120. -167. -218. -252.]\n",
            "[ 1764. 14400. 27889. 47524. 63504.]\n",
            "-6.5 x + 0.0 의 평균 제곱 오차 = 31016.2\n",
            "[ -40. -114. -158. -207. -238.]\n",
            "[ 1600. 12996. 24964. 42849. 56644.]\n",
            "-6.0 x + 0.0 의 평균 제곱 오차 = 27810.6\n",
            "[ -38. -108. -149. -196. -224.]\n",
            "[ 1444. 11664. 22201. 38416. 50176.]\n",
            "-5.5 x + 0.0 의 평균 제곱 오차 = 24780.2\n",
            "[ -36. -102. -140. -185. -210.]\n",
            "[ 1296. 10404. 19600. 34225. 44100.]\n",
            "-5.0 x + 0.0 의 평균 제곱 오차 = 21925.0\n",
            "[ -34.  -96. -131. -174. -196.]\n",
            "[ 1156.  9216. 17161. 30276. 38416.]\n",
            "-4.5 x + 0.0 의 평균 제곱 오차 = 19245.0\n",
            "[ -32.  -90. -122. -163. -182.]\n",
            "[ 1024.  8100. 14884. 26569. 33124.]\n",
            "-4.0 x + 0.0 의 평균 제곱 오차 = 16740.2\n",
            "[ -30.  -84. -113. -152. -168.]\n",
            "[  900.  7056. 12769. 23104. 28224.]\n",
            "-3.5 x + 0.0 의 평균 제곱 오차 = 14410.6\n",
            "[ -28.  -78. -104. -141. -154.]\n",
            "[  784.  6084. 10816. 19881. 23716.]\n",
            "-3.0 x + 0.0 의 평균 제곱 오차 = 12256.2\n",
            "[ -26.  -72.  -95. -130. -140.]\n",
            "[  676.  5184.  9025. 16900. 19600.]\n",
            "-2.5 x + 0.0 의 평균 제곱 오차 = 10277.0\n",
            "[ -24.  -66.  -86. -119. -126.]\n",
            "[  576.  4356.  7396. 14161. 15876.]\n",
            "-2.0 x + 0.0 의 평균 제곱 오차 = 8473.0\n",
            "[ -22.  -60.  -77. -108. -112.]\n",
            "[  484.  3600.  5929. 11664. 12544.]\n",
            "-1.5 x + 0.0 의 평균 제곱 오차 = 6844.2\n",
            "[-20. -54. -68. -97. -98.]\n",
            "[ 400. 2916. 4624. 9409. 9604.]\n",
            "-1.0 x + 0.0 의 평균 제곱 오차 = 5390.6\n",
            "[-18. -48. -59. -86. -84.]\n",
            "[ 324. 2304. 3481. 7396. 7056.]\n",
            "-0.5 x + 0.0 의 평균 제곱 오차 = 4112.2\n",
            "[-16. -42. -50. -75. -70.]\n",
            "[ 256. 1764. 2500. 5625. 4900.]\n",
            "0.0 x + 0.0 의 평균 제곱 오차 = 3009.0\n",
            "[-14. -36. -41. -64. -56.]\n",
            "[ 196. 1296. 1681. 4096. 3136.]\n",
            "0.5 x + 0.0 의 평균 제곱 오차 = 2081.0\n",
            "[-12. -30. -32. -53. -42.]\n",
            "[ 144.  900. 1024. 2809. 1764.]\n",
            "1.0 x + 0.0 의 평균 제곱 오차 = 1328.2\n",
            "[-10. -24. -23. -42. -28.]\n",
            "[ 100.  576.  529. 1764.  784.]\n",
            "1.5 x + 0.0 의 평균 제곱 오차 = 750.6\n",
            "[ -8. -18. -14. -31. -14.]\n",
            "[ 64. 324. 196. 961. 196.]\n",
            "2.0 x + 0.0 의 평균 제곱 오차 = 348.2\n",
            "[ -6. -12.  -5. -20.   0.]\n",
            "[ 36. 144.  25. 400.   0.]\n",
            "2.5 x + 0.0 의 평균 제곱 오차 = 121.0\n",
            "[-4. -6.  4. -9. 14.]\n",
            "[ 16.  36.  16.  81. 196.]\n",
            "3.0 x + 0.0 의 평균 제곱 오차 = 69.0\n",
            "[-2.  0. 13.  2. 28.]\n",
            "[  4.   0. 169.   4. 784.]\n",
            "3.5 x + 0.0 의 평균 제곱 오차 = 192.2\n",
            "[ 0.  6. 22. 13. 42.]\n",
            "[   0.   36.  484.  169. 1764.]\n",
            "4.0 x + 0.0 의 평균 제곱 오차 = 490.6\n",
            "[ 2. 12. 31. 24. 56.]\n",
            "[   4.  144.  961.  576. 3136.]\n",
            "4.5 x + 0.0 의 평균 제곱 오차 = 964.2\n",
            "[ 4. 18. 40. 35. 70.]\n",
            "[  16.  324. 1600. 1225. 4900.]\n",
            "5.0 x + 0.0 의 평균 제곱 오차 = 1613.0\n",
            "[ 6. 24. 49. 46. 84.]\n",
            "[  36.  576. 2401. 2116. 7056.]\n",
            "5.5 x + 0.0 의 평균 제곱 오차 = 2437.0\n",
            "[ 8. 30. 58. 57. 98.]\n",
            "[  64.  900. 3364. 3249. 9604.]\n",
            "6.0 x + 0.0 의 평균 제곱 오차 = 3436.2\n",
            "[ 10.  36.  67.  68. 112.]\n",
            "[  100.  1296.  4489.  4624. 12544.]\n",
            "6.5 x + 0.0 의 평균 제곱 오차 = 4610.6\n",
            "[ 12.  42.  76.  79. 126.]\n",
            "[  144.  1764.  5776.  6241. 15876.]\n",
            "7.0 x + 0.0 의 평균 제곱 오차 = 5960.2\n",
            "[ 14.  48.  85.  90. 140.]\n",
            "[  196.  2304.  7225.  8100. 19600.]\n",
            "7.5 x + 0.0 의 평균 제곱 오차 = 7485.0\n",
            "[ 16.  54.  94. 101. 154.]\n",
            "[  256.  2916.  8836. 10201. 23716.]\n",
            "8.0 x + 0.0 의 평균 제곱 오차 = 9185.0\n",
            "[ 18.  60. 103. 112. 168.]\n",
            "[  324.  3600. 10609. 12544. 28224.]\n",
            "8.5 x + 0.0 의 평균 제곱 오차 = 11060.2\n",
            "[ 20.  66. 112. 123. 182.]\n",
            "[  400.  4356. 12544. 15129. 33124.]\n",
            "9.0 x + 0.0 의 평균 제곱 오차 = 13110.6\n",
            "[ 22.  72. 121. 134. 196.]\n",
            "[  484.  5184. 14641. 17956. 38416.]\n",
            "9.5 x + 0.0 의 평균 제곱 오차 = 15336.2\n"
          ]
        }
      ]
    },
    {
      "cell_type": "code",
      "source": [
        "draw_graph(a,loss_list,'gradient','error')"
      ],
      "metadata": {
        "colab": {
          "base_uri": "https://localhost:8080/",
          "height": 279
        },
        "id": "GAbQQx96Lbta",
        "outputId": "9c3c4da4-cee3-45d6-a33c-3715e4c6e453"
      },
      "execution_count": null,
      "outputs": [
        {
          "output_type": "display_data",
          "data": {
            "text/plain": [
              "<Figure size 432x288 with 1 Axes>"
            ],
            "image/png": "[encoded data removed]"
          },
          "metadata": {
            "needs_background": "light"
          }
        }
      ]
    },
    {
      "cell_type": "code",
      "source": [
        "#기울기 고정, 절편 변화에 따른 오차\n",
        "b=np.arange(-10,10,0.5)\n",
        "a=np.full_like(b,3)\n",
        "loss_list = loss_function(x,y,a,b)"
      ],
      "metadata": {
        "colab": {
          "base_uri": "https://localhost:8080/"
        },
        "id": "RWW_xQCwMt-C",
        "outputId": "08c75e5d-5d6f-411d-c45d-80ebd6d346b3"
      },
      "execution_count": null,
      "outputs": [
        {
          "output_type": "stream",
          "name": "stdout",
          "text": [
            "[-14. -16.  -6. -19.   4.]\n",
            "[196. 256.  36. 361.  16.]\n",
            "3.0 x + -10.0 의 평균 제곱 오차 = 173.0\n",
            "[-13.5 -15.5  -5.5 -18.5   4.5]\n",
            "[182.25 240.25  30.25 342.25  20.25]\n",
            "3.0 x + -9.5 의 평균 제곱 오차 = 163.05\n",
            "[-13. -15.  -5. -18.   5.]\n",
            "[169. 225.  25. 324.  25.]\n",
            "3.0 x + -9.0 의 평균 제곱 오차 = 153.6\n",
            "[-12.5 -14.5  -4.5 -17.5   5.5]\n",
            "[156.25 210.25  20.25 306.25  30.25]\n",
            "3.0 x + -8.5 의 평균 제곱 오차 = 144.65\n",
            "[-12. -14.  -4. -17.   6.]\n",
            "[144. 196.  16. 289.  36.]\n",
            "3.0 x + -8.0 의 평균 제곱 오차 = 136.2\n",
            "[-11.5 -13.5  -3.5 -16.5   6.5]\n",
            "[132.25 182.25  12.25 272.25  42.25]\n",
            "3.0 x + -7.5 의 평균 제곱 오차 = 128.25\n",
            "[-11. -13.  -3. -16.   7.]\n",
            "[121. 169.   9. 256.  49.]\n",
            "3.0 x + -7.0 의 평균 제곱 오차 = 120.8\n",
            "[-10.5 -12.5  -2.5 -15.5   7.5]\n",
            "[110.25 156.25   6.25 240.25  56.25]\n",
            "3.0 x + -6.5 의 평균 제곱 오차 = 113.85\n",
            "[-10. -12.  -2. -15.   8.]\n",
            "[100. 144.   4. 225.  64.]\n",
            "3.0 x + -6.0 의 평균 제곱 오차 = 107.4\n",
            "[ -9.5 -11.5  -1.5 -14.5   8.5]\n",
            "[ 90.25 132.25   2.25 210.25  72.25]\n",
            "3.0 x + -5.5 의 평균 제곱 오차 = 101.45\n",
            "[ -9. -11.  -1. -14.   9.]\n",
            "[ 81. 121.   1. 196.  81.]\n",
            "3.0 x + -5.0 의 평균 제곱 오차 = 96.0\n",
            "[ -8.5 -10.5  -0.5 -13.5   9.5]\n",
            "[ 72.25 110.25   0.25 182.25  90.25]\n",
            "3.0 x + -4.5 의 평균 제곱 오차 = 91.05\n",
            "[ -8. -10.   0. -13.  10.]\n",
            "[ 64. 100.   0. 169. 100.]\n",
            "3.0 x + -4.0 의 평균 제곱 오차 = 86.6\n",
            "[ -7.5  -9.5   0.5 -12.5  10.5]\n",
            "[ 56.25  90.25   0.25 156.25 110.25]\n",
            "3.0 x + -3.5 의 평균 제곱 오차 = 82.65\n",
            "[ -7.  -9.   1. -12.  11.]\n",
            "[ 49.  81.   1. 144. 121.]\n",
            "3.0 x + -3.0 의 평균 제곱 오차 = 79.2\n",
            "[ -6.5  -8.5   1.5 -11.5  11.5]\n",
            "[ 42.25  72.25   2.25 132.25 132.25]\n",
            "3.0 x + -2.5 의 평균 제곱 오차 = 76.25\n",
            "[ -6.  -8.   2. -11.  12.]\n",
            "[ 36.  64.   4. 121. 144.]\n",
            "3.0 x + -2.0 의 평균 제곱 오차 = 73.8\n",
            "[ -5.5  -7.5   2.5 -10.5  12.5]\n",
            "[ 30.25  56.25   6.25 110.25 156.25]\n",
            "3.0 x + -1.5 의 평균 제곱 오차 = 71.85\n",
            "[ -5.  -7.   3. -10.  13.]\n",
            "[ 25.  49.   9. 100. 169.]\n",
            "3.0 x + -1.0 의 평균 제곱 오차 = 70.4\n",
            "[-4.5 -6.5  3.5 -9.5 13.5]\n",
            "[ 20.25  42.25  12.25  90.25 182.25]\n",
            "3.0 x + -0.5 의 평균 제곱 오차 = 69.45\n",
            "[-4. -6.  4. -9. 14.]\n",
            "[ 16.  36.  16.  81. 196.]\n",
            "3.0 x + 0.0 의 평균 제곱 오차 = 69.0\n",
            "[-3.5 -5.5  4.5 -8.5 14.5]\n",
            "[ 12.25  30.25  20.25  72.25 210.25]\n",
            "3.0 x + 0.5 의 평균 제곱 오차 = 69.05\n",
            "[-3. -5.  5. -8. 15.]\n",
            "[  9.  25.  25.  64. 225.]\n",
            "3.0 x + 1.0 의 평균 제곱 오차 = 69.6\n",
            "[-2.5 -4.5  5.5 -7.5 15.5]\n",
            "[  6.25  20.25  30.25  56.25 240.25]\n",
            "3.0 x + 1.5 의 평균 제곱 오차 = 70.65\n",
            "[-2. -4.  6. -7. 16.]\n",
            "[  4.  16.  36.  49. 256.]\n",
            "3.0 x + 2.0 의 평균 제곱 오차 = 72.2\n",
            "[-1.5 -3.5  6.5 -6.5 16.5]\n",
            "[  2.25  12.25  42.25  42.25 272.25]\n",
            "3.0 x + 2.5 의 평균 제곱 오차 = 74.25\n",
            "[-1. -3.  7. -6. 17.]\n",
            "[  1.   9.  49.  36. 289.]\n",
            "3.0 x + 3.0 의 평균 제곱 오차 = 76.8\n",
            "[-0.5 -2.5  7.5 -5.5 17.5]\n",
            "[2.5000e-01 6.2500e+00 5.6250e+01 3.0250e+01 3.0625e+02]\n",
            "3.0 x + 3.5 의 평균 제곱 오차 = 79.85\n",
            "[ 0. -2.  8. -5. 18.]\n",
            "[  0.   4.  64.  25. 324.]\n",
            "3.0 x + 4.0 의 평균 제곱 오차 = 83.4\n",
            "[ 0.5 -1.5  8.5 -4.5 18.5]\n",
            "[2.5000e-01 2.2500e+00 7.2250e+01 2.0250e+01 3.4225e+02]\n",
            "3.0 x + 4.5 의 평균 제곱 오차 = 87.45\n",
            "[ 1. -1.  9. -4. 19.]\n",
            "[  1.   1.  81.  16. 361.]\n",
            "3.0 x + 5.0 의 평균 제곱 오차 = 92.0\n",
            "[ 1.5 -0.5  9.5 -3.5 19.5]\n",
            "[2.2500e+00 2.5000e-01 9.0250e+01 1.2250e+01 3.8025e+02]\n",
            "3.0 x + 5.5 의 평균 제곱 오차 = 97.05\n",
            "[ 2.  0. 10. -3. 20.]\n",
            "[  4.   0. 100.   9. 400.]\n",
            "3.0 x + 6.0 의 평균 제곱 오차 = 102.6\n",
            "[ 2.5  0.5 10.5 -2.5 20.5]\n",
            "[6.2500e+00 2.5000e-01 1.1025e+02 6.2500e+00 4.2025e+02]\n",
            "3.0 x + 6.5 의 평균 제곱 오차 = 108.65\n",
            "[ 3.  1. 11. -2. 21.]\n",
            "[  9.   1. 121.   4. 441.]\n",
            "3.0 x + 7.0 의 평균 제곱 오차 = 115.2\n",
            "[ 3.5  1.5 11.5 -1.5 21.5]\n",
            "[ 12.25   2.25 132.25   2.25 462.25]\n",
            "3.0 x + 7.5 의 평균 제곱 오차 = 122.25\n",
            "[ 4.  2. 12. -1. 22.]\n",
            "[ 16.   4. 144.   1. 484.]\n",
            "3.0 x + 8.0 의 평균 제곱 오차 = 129.8\n",
            "[ 4.5  2.5 12.5 -0.5 22.5]\n",
            "[2.0250e+01 6.2500e+00 1.5625e+02 2.5000e-01 5.0625e+02]\n",
            "3.0 x + 8.5 의 평균 제곱 오차 = 137.85\n",
            "[ 5.  3. 13.  0. 23.]\n",
            "[ 25.   9. 169.   0. 529.]\n",
            "3.0 x + 9.0 의 평균 제곱 오차 = 146.4\n",
            "[ 5.5  3.5 13.5  0.5 23.5]\n",
            "[3.0250e+01 1.2250e+01 1.8225e+02 2.5000e-01 5.5225e+02]\n",
            "3.0 x + 9.5 의 평균 제곱 오차 = 155.45\n"
          ]
        }
      ]
    },
    {
      "cell_type": "code",
      "source": [
        "draw_graph(b,loss_list,'x=3,b=?','error')"
      ],
      "metadata": {
        "colab": {
          "base_uri": "https://localhost:8080/",
          "height": 279
        },
        "id": "F1wJLFzzNcuY",
        "outputId": "3cc11c8c-ef2e-4f80-c862-da960048e47d"
      },
      "execution_count": null,
      "outputs": [
        {
          "output_type": "display_data",
          "data": {
            "text/plain": [
              "<Figure size 432x288 with 1 Axes>"
            ],
            "image/png": "[encoded data removed]"
          },
          "metadata": {
            "needs_background": "light"
          }
        }
      ]
    },
    {
      "cell_type": "code",
      "source": [
        "def gradient(x_data,y_data,a,b,lr) :\n",
        "  x_data = np.array(x)\n",
        "  y_data = np.array(y)\n",
        "  y_prediot = a * x_data + b #예측값\n",
        "  loss = y_prediot - y_data  #오차\n",
        "  #a미분계수\n",
        "  a_gradient = (2/len(x_data)) * sum(loss * x_data)\n",
        "  #b의 미분계수\n",
        "  b_gradient = (2/len(x_data)) * sum(loss)\n",
        "  #수정된 기울기아 절편\n",
        "  a = a - lr * a_gradient\n",
        "  b = b - lr * b_gradient\n",
        "  return a,b\n",
        "\n",
        "epochs = 10001\n",
        "lr = 0.0025\n",
        "a = 0\n",
        "b = 0\n",
        "for i in range(epochs) :\n",
        "  a,b = gradient(x,y,a,b,lr)\n",
        "  if i % 1000 == 0 :\n",
        "    print('학습횟수 :',i,'기울기 :',a,'절편 :',b)"
      ],
      "metadata": {
        "colab": {
          "base_uri": "https://localhost:8080/"
        },
        "id": "UiShaS26NunL",
        "outputId": "5df4ca19-917a-4d1a-c5ce-0abf5f64da1d"
      },
      "execution_count": null,
      "outputs": [
        {
          "output_type": "stream",
          "name": "stdout",
          "text": [
            "학습횟수 : 0 기울기 : 5.078 절편 : 0.253\n",
            "학습횟수 : 1000 기울기 : 2.6038295527327056 절편 : 6.14596252018485\n",
            "학습횟수 : 2000 기울기 : 2.494848730660905 절편 : 8.417732144644402\n",
            "학습횟수 : 3000 기울기 : 2.453570719645121 절편 : 9.278196672265455\n",
            "학습횟수 : 4000 기울기 : 2.4379360954880696 절편 : 9.60410965011426\n",
            "학습횟수 : 5000 기울기 : 2.4320142628581296 절편 : 9.72755375004009\n",
            "학습횟수 : 6000 기울기 : 2.429771285902319 절편 : 9.774309929886272\n",
            "학습횟수 : 7000 기울기 : 2.428921727000762 절편 : 9.792019487128135\n",
            "학습횟수 : 8000 기울기 : 2.428599944681357 절편 : 9.79872722969252\n",
            "학습횟수 : 9000 기울기 : 2.428478065126105 절편 : 9.801267881030984\n",
            "학습횟수 : 10000 기울기 : 2.4284319015394407 절편 : 9.802230188269506\n"
          ]
        }
      ]
    },
    {
      "cell_type": "markdown",
      "source": [
        "사이킷런 선형회귀"
      ],
      "metadata": {
        "id": "Y9NXu4S8VRAk"
      }
    },
    {
      "cell_type": "code",
      "source": [
        "from sklearn.datasets import load_boston\n",
        "boston = load_boston()"
      ],
      "metadata": {
        "colab": {
          "base_uri": "https://localhost:8080/"
        },
        "id": "l45tbksRVXEI",
        "outputId": "34a75b2f-8aa9-4d37-ef27-537c3f55742d"
      },
      "execution_count": null,
      "outputs": [
        {
          "output_type": "stream",
          "name": "stderr",
          "text": [
            "/usr/local/lib/python3.7/dist-packages/sklearn/utils/deprecation.py:87: FutureWarning: Function load_boston is deprecated; `load_boston` is deprecated in 1.0 and will be removed in 1.2.\n",
            "\n",
            "    The Boston housing prices dataset has an ethical problem. You can refer to\n",
            "    the documentation of this function for further details.\n",
            "\n",
            "    The scikit-learn maintainers therefore strongly discourage the use of this\n",
            "    dataset unless the purpose of the code is to study and educate about\n",
            "    ethical issues in data science and machine learning.\n",
            "\n",
            "    In this special case, you can fetch the dataset from the original\n",
            "    source::\n",
            "\n",
            "        import pandas as pd\n",
            "        import numpy as np\n",
            "\n",
            "\n",
            "        data_url = \"http://lib.stat.cmu.edu/datasets/boston\"\n",
            "        raw_df = pd.read_csv(data_url, sep=\"\\s+\", skiprows=22, header=None)\n",
            "        data = np.hstack([raw_df.values[::2, :], raw_df.values[1::2, :2]])\n",
            "        target = raw_df.values[1::2, 2]\n",
            "\n",
            "    Alternative datasets include the California housing dataset (i.e.\n",
            "    :func:`~sklearn.datasets.fetch_california_housing`) and the Ames housing\n",
            "    dataset. You can load the datasets as follows::\n",
            "\n",
            "        from sklearn.datasets import fetch_california_housing\n",
            "        housing = fetch_california_housing()\n",
            "\n",
            "    for the California housing dataset and::\n",
            "\n",
            "        from sklearn.datasets import fetch_openml\n",
            "        housing = fetch_openml(name=\"house_prices\", as_frame=True)\n",
            "\n",
            "    for the Ames housing dataset.\n",
            "    \n",
            "  warnings.warn(msg, category=FutureWarning)\n"
          ]
        }
      ]
    },
    {
      "cell_type": "code",
      "source": [
        "X=boston.data\n",
        "print(X)\n",
        "y=boston.target\n",
        "print(y)"
      ],
      "metadata": {
        "colab": {
          "base_uri": "https://localhost:8080/"
        },
        "id": "Xp5o0dllVw-Q",
        "outputId": "179f659f-e24a-487b-91dd-f3f67bf67af3"
      },
      "execution_count": null,
      "outputs": [
        {
          "output_type": "stream",
          "name": "stdout",
          "text": [
            "[[6.3200e-03 1.8000e+01 2.3100e+00 ... 1.5300e+01 3.9690e+02 4.9800e+00]\n",
            " [2.7310e-02 0.0000e+00 7.0700e+00 ... 1.7800e+01 3.9690e+02 9.1400e+00]\n",
            " [2.7290e-02 0.0000e+00 7.0700e+00 ... 1.7800e+01 3.9283e+02 4.0300e+00]\n",
            " ...\n",
            " [6.0760e-02 0.0000e+00 1.1930e+01 ... 2.1000e+01 3.9690e+02 5.6400e+00]\n",
            " [1.0959e-01 0.0000e+00 1.1930e+01 ... 2.1000e+01 3.9345e+02 6.4800e+00]\n",
            " [4.7410e-02 0.0000e+00 1.1930e+01 ... 2.1000e+01 3.9690e+02 7.8800e+00]]\n",
            "[24.  21.6 34.7 33.4 36.2 28.7 22.9 27.1 16.5 18.9 15.  18.9 21.7 20.4\n",
            " 18.2 19.9 23.1 17.5 20.2 18.2 13.6 19.6 15.2 14.5 15.6 13.9 16.6 14.8\n",
            " 18.4 21.  12.7 14.5 13.2 13.1 13.5 18.9 20.  21.  24.7 30.8 34.9 26.6\n",
            " 25.3 24.7 21.2 19.3 20.  16.6 14.4 19.4 19.7 20.5 25.  23.4 18.9 35.4\n",
            " 24.7 31.6 23.3 19.6 18.7 16.  22.2 25.  33.  23.5 19.4 22.  17.4 20.9\n",
            " 24.2 21.7 22.8 23.4 24.1 21.4 20.  20.8 21.2 20.3 28.  23.9 24.8 22.9\n",
            " 23.9 26.6 22.5 22.2 23.6 28.7 22.6 22.  22.9 25.  20.6 28.4 21.4 38.7\n",
            " 43.8 33.2 27.5 26.5 18.6 19.3 20.1 19.5 19.5 20.4 19.8 19.4 21.7 22.8\n",
            " 18.8 18.7 18.5 18.3 21.2 19.2 20.4 19.3 22.  20.3 20.5 17.3 18.8 21.4\n",
            " 15.7 16.2 18.  14.3 19.2 19.6 23.  18.4 15.6 18.1 17.4 17.1 13.3 17.8\n",
            " 14.  14.4 13.4 15.6 11.8 13.8 15.6 14.6 17.8 15.4 21.5 19.6 15.3 19.4\n",
            " 17.  15.6 13.1 41.3 24.3 23.3 27.  50.  50.  50.  22.7 25.  50.  23.8\n",
            " 23.8 22.3 17.4 19.1 23.1 23.6 22.6 29.4 23.2 24.6 29.9 37.2 39.8 36.2\n",
            " 37.9 32.5 26.4 29.6 50.  32.  29.8 34.9 37.  30.5 36.4 31.1 29.1 50.\n",
            " 33.3 30.3 34.6 34.9 32.9 24.1 42.3 48.5 50.  22.6 24.4 22.5 24.4 20.\n",
            " 21.7 19.3 22.4 28.1 23.7 25.  23.3 28.7 21.5 23.  26.7 21.7 27.5 30.1\n",
            " 44.8 50.  37.6 31.6 46.7 31.5 24.3 31.7 41.7 48.3 29.  24.  25.1 31.5\n",
            " 23.7 23.3 22.  20.1 22.2 23.7 17.6 18.5 24.3 20.5 24.5 26.2 24.4 24.8\n",
            " 29.6 42.8 21.9 20.9 44.  50.  36.  30.1 33.8 43.1 48.8 31.  36.5 22.8\n",
            " 30.7 50.  43.5 20.7 21.1 25.2 24.4 35.2 32.4 32.  33.2 33.1 29.1 35.1\n",
            " 45.4 35.4 46.  50.  32.2 22.  20.1 23.2 22.3 24.8 28.5 37.3 27.9 23.9\n",
            " 21.7 28.6 27.1 20.3 22.5 29.  24.8 22.  26.4 33.1 36.1 28.4 33.4 28.2\n",
            " 22.8 20.3 16.1 22.1 19.4 21.6 23.8 16.2 17.8 19.8 23.1 21.  23.8 23.1\n",
            " 20.4 18.5 25.  24.6 23.  22.2 19.3 22.6 19.8 17.1 19.4 22.2 20.7 21.1\n",
            " 19.5 18.5 20.6 19.  18.7 32.7 16.5 23.9 31.2 17.5 17.2 23.1 24.5 26.6\n",
            " 22.9 24.1 18.6 30.1 18.2 20.6 17.8 21.7 22.7 22.6 25.  19.9 20.8 16.8\n",
            " 21.9 27.5 21.9 23.1 50.  50.  50.  50.  50.  13.8 13.8 15.  13.9 13.3\n",
            " 13.1 10.2 10.4 10.9 11.3 12.3  8.8  7.2 10.5  7.4 10.2 11.5 15.1 23.2\n",
            "  9.7 13.8 12.7 13.1 12.5  8.5  5.   6.3  5.6  7.2 12.1  8.3  8.5  5.\n",
            " 11.9 27.9 17.2 27.5 15.  17.2 17.9 16.3  7.   7.2  7.5 10.4  8.8  8.4\n",
            " 16.7 14.2 20.8 13.4 11.7  8.3 10.2 10.9 11.   9.5 14.5 14.1 16.1 14.3\n",
            " 11.7 13.4  9.6  8.7  8.4 12.8 10.5 17.1 18.4 15.4 10.8 11.8 14.9 12.6\n",
            " 14.1 13.  13.4 15.2 16.1 17.8 14.9 14.1 12.7 13.5 14.9 20.  16.4 17.7\n",
            " 19.5 20.2 21.4 19.9 19.  19.1 19.1 20.1 19.9 19.6 23.2 29.8 13.8 13.3\n",
            " 16.7 12.  14.6 21.4 23.  23.7 25.  21.8 20.6 21.2 19.1 20.6 15.2  7.\n",
            "  8.1 13.6 20.1 21.8 24.5 23.1 19.7 18.3 21.2 17.5 16.8 22.4 20.6 23.9\n",
            " 22.  11.9]\n"
          ]
        }
      ]
    },
    {
      "cell_type": "code",
      "source": [
        "from sklearn.model_selection import train_test_split\n",
        "X_train, X_test, y_train, y_test = train_test_split(X,y,test_size=0.3, random_state=0)"
      ],
      "metadata": {
        "id": "6qNuXd1wWGUp"
      },
      "execution_count": null,
      "outputs": []
    },
    {
      "cell_type": "code",
      "source": [
        "from sklearn.linear_model import LinearRegression\n",
        "model = LinearRegression()"
      ],
      "metadata": {
        "id": "E6x6oli9W5vI"
      },
      "execution_count": null,
      "outputs": []
    },
    {
      "cell_type": "code",
      "source": [
        "model.fit(X_train, y_train)"
      ],
      "metadata": {
        "colab": {
          "base_uri": "https://localhost:8080/"
        },
        "id": "VCfGiAGXXU8m",
        "outputId": "b82aac6a-9efd-40dd-af8a-67a0d0f43ec1"
      },
      "execution_count": null,
      "outputs": [
        {
          "output_type": "execute_result",
          "data": {
            "text/plain": [
              "LinearRegression()"
            ]
          },
          "metadata": {},
          "execution_count": 69
        }
      ]
    },
    {
      "cell_type": "code",
      "source": [
        "model.coef_"
      ],
      "metadata": {
        "colab": {
          "base_uri": "https://localhost:8080/"
        },
        "id": "D09C6_AqX0iK",
        "outputId": "374cf8f4-b168-4eec-ec5d-e920bb40df6c"
      },
      "execution_count": null,
      "outputs": [
        {
          "output_type": "execute_result",
          "data": {
            "text/plain": [
              "array([-1.21310401e-01,  4.44664254e-02,  1.13416945e-02,  2.51124642e+00,\n",
              "       -1.62312529e+01,  3.85906801e+00, -9.98516565e-03, -1.50026956e+00,\n",
              "        2.42143466e-01, -1.10716124e-02, -1.01775264e+00,  6.81446545e-03,\n",
              "       -4.86738066e-01])"
            ]
          },
          "metadata": {},
          "execution_count": 70
        }
      ]
    },
    {
      "cell_type": "code",
      "source": [
        "model.intercept_"
      ],
      "metadata": {
        "colab": {
          "base_uri": "https://localhost:8080/"
        },
        "id": "4-SIbZx9X3dn",
        "outputId": "e9523347-abeb-449d-dcee-7bf4fb19ddad"
      },
      "execution_count": null,
      "outputs": [
        {
          "output_type": "execute_result",
          "data": {
            "text/plain": [
              "37.93710774183309"
            ]
          },
          "metadata": {},
          "execution_count": 71
        }
      ]
    },
    {
      "cell_type": "code",
      "source": [
        "model.predict([X_test[0]])"
      ],
      "metadata": {
        "colab": {
          "base_uri": "https://localhost:8080/"
        },
        "id": "DdrPZh_TX7x0",
        "outputId": "ab2bcc4c-7de8-4786-e2a8-6777ed5d7d5d"
      },
      "execution_count": null,
      "outputs": [
        {
          "output_type": "execute_result",
          "data": {
            "text/plain": [
              "array([24.9357079])"
            ]
          },
          "metadata": {},
          "execution_count": 72
        }
      ]
    },
    {
      "cell_type": "code",
      "source": [
        "y_test[0]"
      ],
      "metadata": {
        "colab": {
          "base_uri": "https://localhost:8080/"
        },
        "id": "dVJDKfODYFJm",
        "outputId": "74795675-2bb1-4bc1-e168-1f1d7bb44566"
      },
      "execution_count": null,
      "outputs": [
        {
          "output_type": "execute_result",
          "data": {
            "text/plain": [
              "22.6"
            ]
          },
          "metadata": {},
          "execution_count": 74
        }
      ]
    },
    {
      "cell_type": "code",
      "source": [
        "from sklearn.metrics import mean_squared_error\n",
        "y_pred = model.predict(X_test)\n",
        "mean_squared_error(y_test, y_pred)"
      ],
      "metadata": {
        "colab": {
          "base_uri": "https://localhost:8080/"
        },
        "id": "1dyJMKfbYIXD",
        "outputId": "9519a46f-19a0-4e0e-f971-1a2dd9499195"
      },
      "execution_count": null,
      "outputs": [
        {
          "output_type": "execute_result",
          "data": {
            "text/plain": [
              "27.195965766883408"
            ]
          },
          "metadata": {},
          "execution_count": 75
        }
      ]
    },
    {
      "cell_type": "markdown",
      "source": [
        "# 5일차\n"
      ],
      "metadata": {
        "id": "xIMdSlQS5Uj1"
      }
    },
    {
      "cell_type": "code",
      "source": [
        "#분류 모델 만들기"
      ],
      "metadata": {
        "id": "BB_4JiDB_ows"
      },
      "execution_count": null,
      "outputs": []
    },
    {
      "cell_type": "code",
      "source": [
        "import pandas as pd\n",
        "import matplotlib.pyplot as plt\n",
        "import seaborn as sns"
      ],
      "metadata": {
        "id": "QlQGKt3C_tAp"
      },
      "execution_count": null,
      "outputs": []
    },
    {
      "cell_type": "code",
      "source": [
        "from google.colab import drive\n",
        "drive.mount('/content/gdrive')"
      ],
      "metadata": {
        "colab": {
          "base_uri": "https://localhost:8080/"
        },
        "id": "c2Sf4yU5IYN0",
        "outputId": "807e1da1-a30c-459c-9a93-bc60e9067cb2"
      },
      "execution_count": null,
      "outputs": [
        {
          "output_type": "stream",
          "name": "stdout",
          "text": [
            "Mounted at /content/gdrive\n"
          ]
        }
      ]
    },
    {
      "cell_type": "code",
      "source": [
        "data_iris = pd.read_csv('/content/gdrive/My Drive/data/iris_data.csv', encoding = 'cp949')\n",
        "#data_iris = pd.read_csv('iris_data.csv',encoding='CP949')\n",
        "data_iris.head()"
      ],
      "metadata": {
        "colab": {
          "base_uri": "https://localhost:8080/",
          "height": 206
        },
        "id": "rDLy4nA9_8JG",
        "outputId": "4ed3dbad-3052-465b-c393-4c28f18edb06"
      },
      "execution_count": null,
      "outputs": [
        {
          "output_type": "execute_result",
          "data": {
            "text/plain": [
              "   sepal_length  sepal_width  petal_length  petal_width species  root  stem  \\\n",
              "0           5.1          3.5           1.4          0.2  setosa     0    56   \n",
              "1           4.9          3.0           1.4          0.2  setosa     0    56   \n",
              "2           4.7          3.2           1.3          0.2  setosa     0    59   \n",
              "3           4.6          3.1           1.5          0.2  setosa     0    58   \n",
              "4           5.0          3.6           1.4          0.2  setosa     0    59   \n",
              "\n",
              "   longitude  latitude  count  \n",
              "0          0         6      5  \n",
              "1         53        41      5  \n",
              "2         29        26      5  \n",
              "3         84        23      6  \n",
              "4          1        30      6  "
            ],
            "text/html": [
              "\n",
              "  <div id=\"df-397316bb-6a6c-4bc9-8950-f1fe34e81a0e\">\n",
              "    <div class=\"colab-df-container\">\n",
              "      <div>\n",
              "<style scoped>\n",
              "    .dataframe tbody tr th:only-of-type {\n",
              "        vertical-align: middle;\n",
              "    }\n",
              "\n",
              "    .dataframe tbody tr th {\n",
              "        vertical-align: top;\n",
              "    }\n",
              "\n",
              "    .dataframe thead th {\n",
              "        text-align: right;\n",
              "    }\n",
              "</style>\n",
              "<table border=\"1\" class=\"dataframe\">\n",
              "  <thead>\n",
              "    <tr style=\"text-align: right;\">\n",
              "      <th></th>\n",
              "      <th>sepal_length</th>\n",
              "      <th>sepal_width</th>\n",
              "      <th>petal_length</th>\n",
              "      <th>petal_width</th>\n",
              "      <th>species</th>\n",
              "      <th>root</th>\n",
              "      <th>stem</th>\n",
              "      <th>longitude</th>\n",
              "      <th>latitude</th>\n",
              "      <th>count</th>\n",
              "    </tr>\n",
              "  </thead>\n",
              "  <tbody>\n",
              "    <tr>\n",
              "      <th>0</th>\n",
              "      <td>5.1</td>\n",
              "      <td>3.5</td>\n",
              "      <td>1.4</td>\n",
              "      <td>0.2</td>\n",
              "      <td>setosa</td>\n",
              "      <td>0</td>\n",
              "      <td>56</td>\n",
              "      <td>0</td>\n",
              "      <td>6</td>\n",
              "      <td>5</td>\n",
              "    </tr>\n",
              "    <tr>\n",
              "      <th>1</th>\n",
              "      <td>4.9</td>\n",
              "      <td>3.0</td>\n",
              "      <td>1.4</td>\n",
              "      <td>0.2</td>\n",
              "      <td>setosa</td>\n",
              "      <td>0</td>\n",
              "      <td>56</td>\n",
              "      <td>53</td>\n",
              "      <td>41</td>\n",
              "      <td>5</td>\n",
              "    </tr>\n",
              "    <tr>\n",
              "      <th>2</th>\n",
              "      <td>4.7</td>\n",
              "      <td>3.2</td>\n",
              "      <td>1.3</td>\n",
              "      <td>0.2</td>\n",
              "      <td>setosa</td>\n",
              "      <td>0</td>\n",
              "      <td>59</td>\n",
              "      <td>29</td>\n",
              "      <td>26</td>\n",
              "      <td>5</td>\n",
              "    </tr>\n",
              "    <tr>\n",
              "      <th>3</th>\n",
              "      <td>4.6</td>\n",
              "      <td>3.1</td>\n",
              "      <td>1.5</td>\n",
              "      <td>0.2</td>\n",
              "      <td>setosa</td>\n",
              "      <td>0</td>\n",
              "      <td>58</td>\n",
              "      <td>84</td>\n",
              "      <td>23</td>\n",
              "      <td>6</td>\n",
              "    </tr>\n",
              "    <tr>\n",
              "      <th>4</th>\n",
              "      <td>5.0</td>\n",
              "      <td>3.6</td>\n",
              "      <td>1.4</td>\n",
              "      <td>0.2</td>\n",
              "      <td>setosa</td>\n",
              "      <td>0</td>\n",
              "      <td>59</td>\n",
              "      <td>1</td>\n",
              "      <td>30</td>\n",
              "      <td>6</td>\n",
              "    </tr>\n",
              "  </tbody>\n",
              "</table>\n",
              "</div>\n",
              "      <button class=\"colab-df-convert\" onclick=\"convertToInteractive('df-397316bb-6a6c-4bc9-8950-f1fe34e81a0e')\"\n",
              "              title=\"Convert this dataframe to an interactive table.\"\n",
              "              style=\"display:none;\">\n",
              "        \n",
              "  <svg xmlns=\"http://www.w3.org/2000/svg\" height=\"24px\"viewBox=\"0 0 24 24\"\n",
              "       width=\"24px\">\n",
              "    <path d=\"M0 0h24v24H0V0z\" fill=\"none\"/>\n",
              "    <path d=\"M18.56 5.44l.94 2.06.94-2.06 2.06-.94-2.06-.94-.94-2.06-.94 2.06-2.06.94zm-11 1L8.5 8.5l.94-2.06 2.06-.94-2.06-.94L8.5 2.5l-.94 2.06-2.06.94zm10 10l.94 2.06.94-2.06 2.06-.94-2.06-.94-.94-2.06-.94 2.06-2.06.94z\"/><path d=\"M17.41 7.96l-1.37-1.37c-.4-.4-.92-.59-1.43-.59-.52 0-1.04.2-1.43.59L10.3 9.45l-7.72 7.72c-.78.78-.78 2.05 0 2.83L4 21.41c.39.39.9.59 1.41.59.51 0 1.02-.2 1.41-.59l7.78-7.78 2.81-2.81c.8-.78.8-2.07 0-2.86zM5.41 20L4 18.59l7.72-7.72 1.47 1.35L5.41 20z\"/>\n",
              "  </svg>\n",
              "      </button>\n",
              "      \n",
              "  <style>\n",
              "    .colab-df-container {\n",
              "      display:flex;\n",
              "      flex-wrap:wrap;\n",
              "      gap: 12px;\n",
              "    }\n",
              "\n",
              "    .colab-df-convert {\n",
              "      background-color: #E8F0FE;\n",
              "      border: none;\n",
              "      border-radius: 50%;\n",
              "      cursor: pointer;\n",
              "      display: none;\n",
              "      fill: #1967D2;\n",
              "      height: 32px;\n",
              "      padding: 0 0 0 0;\n",
              "      width: 32px;\n",
              "    }\n",
              "\n",
              "    .colab-df-convert:hover {\n",
              "      background-color: #E2EBFA;\n",
              "      box-shadow: 0px 1px 2px rgba(60, 64, 67, 0.3), 0px 1px 3px 1px rgba(60, 64, 67, 0.15);\n",
              "      fill: #174EA6;\n",
              "    }\n",
              "\n",
              "    [theme=dark] .colab-df-convert {\n",
              "      background-color: #3B4455;\n",
              "      fill: #D2E3FC;\n",
              "    }\n",
              "\n",
              "    [theme=dark] .colab-df-convert:hover {\n",
              "      background-color: #434B5C;\n",
              "      box-shadow: 0px 1px 3px 1px rgba(0, 0, 0, 0.15);\n",
              "      filter: drop-shadow(0px 1px 2px rgba(0, 0, 0, 0.3));\n",
              "      fill: #FFFFFF;\n",
              "    }\n",
              "  </style>\n",
              "\n",
              "      <script>\n",
              "        const buttonEl =\n",
              "          document.querySelector('#df-397316bb-6a6c-4bc9-8950-f1fe34e81a0e button.colab-df-convert');\n",
              "        buttonEl.style.display =\n",
              "          google.colab.kernel.accessAllowed ? 'block' : 'none';\n",
              "\n",
              "        async function convertToInteractive(key) {\n",
              "          const element = document.querySelector('#df-397316bb-6a6c-4bc9-8950-f1fe34e81a0e');\n",
              "          const dataTable =\n",
              "            await google.colab.kernel.invokeFunction('convertToInteractive',\n",
              "                                                     [key], {});\n",
              "          if (!dataTable) return;\n",
              "\n",
              "          const docLinkHtml = 'Like what you see? Visit the ' +\n",
              "            '<a target=\"_blank\" href=https://colab.research.google.com/notebooks/data_table.ipynb>data table notebook</a>'\n",
              "            + ' to learn more about interactive tables.';\n",
              "          element.innerHTML = '';\n",
              "          dataTable['output_type'] = 'display_data';\n",
              "          await google.colab.output.renderOutput(dataTable, element);\n",
              "          const docLink = document.createElement('div');\n",
              "          docLink.innerHTML = docLinkHtml;\n",
              "          element.appendChild(docLink);\n",
              "        }\n",
              "      </script>\n",
              "    </div>\n",
              "  </div>\n",
              "  "
            ]
          },
          "metadata": {},
          "execution_count": 31
        }
      ]
    },
    {
      "cell_type": "code",
      "source": [
        "data_iris.describe()"
      ],
      "metadata": {
        "colab": {
          "base_uri": "https://localhost:8080/",
          "height": 300
        },
        "id": "KRkU0z68B7Z4",
        "outputId": "3d57615b-6223-41ae-bc8c-af4b010cfbf7"
      },
      "execution_count": null,
      "outputs": [
        {
          "output_type": "execute_result",
          "data": {
            "text/plain": [
              "       sepal_length  sepal_width  petal_length  petal_width   root  \\\n",
              "count    150.000000   150.000000    150.000000   150.000000  150.0   \n",
              "mean       5.843333     3.054000      3.758667     1.198667    0.0   \n",
              "std        0.828066     0.433594      1.764420     0.763161    0.0   \n",
              "min        4.300000     2.000000      1.000000     0.100000    0.0   \n",
              "25%        5.100000     2.800000      1.600000     0.300000    0.0   \n",
              "50%        5.800000     3.000000      4.350000     1.300000    0.0   \n",
              "75%        6.400000     3.300000      5.100000     1.800000    0.0   \n",
              "max        7.900000     4.400000      6.900000     2.500000    0.0   \n",
              "\n",
              "             stem   longitude    latitude       count  \n",
              "count  150.000000  150.000000  150.000000  150.000000  \n",
              "mean    58.053333   41.906667   23.386667    5.060000  \n",
              "std      1.913522   25.579025   12.688729    0.804601  \n",
              "min     55.000000    0.000000    0.000000    4.000000  \n",
              "25%     57.000000   20.000000   13.000000    4.000000  \n",
              "50%     58.000000   40.500000   23.000000    5.000000  \n",
              "75%     60.000000   64.000000   34.000000    6.000000  \n",
              "max     61.000000   89.000000   44.000000    6.000000  "
            ],
            "text/html": [
              "\n",
              "  <div id=\"df-cd146ee6-1f91-464b-bff5-ed2f2a3f64f8\">\n",
              "    <div class=\"colab-df-container\">\n",
              "      <div>\n",
              "<style scoped>\n",
              "    .dataframe tbody tr th:only-of-type {\n",
              "        vertical-align: middle;\n",
              "    }\n",
              "\n",
              "    .dataframe tbody tr th {\n",
              "        vertical-align: top;\n",
              "    }\n",
              "\n",
              "    .dataframe thead th {\n",
              "        text-align: right;\n",
              "    }\n",
              "</style>\n",
              "<table border=\"1\" class=\"dataframe\">\n",
              "  <thead>\n",
              "    <tr style=\"text-align: right;\">\n",
              "      <th></th>\n",
              "      <th>sepal_length</th>\n",
              "      <th>sepal_width</th>\n",
              "      <th>petal_length</th>\n",
              "      <th>petal_width</th>\n",
              "      <th>root</th>\n",
              "      <th>stem</th>\n",
              "      <th>longitude</th>\n",
              "      <th>latitude</th>\n",
              "      <th>count</th>\n",
              "    </tr>\n",
              "  </thead>\n",
              "  <tbody>\n",
              "    <tr>\n",
              "      <th>count</th>\n",
              "      <td>150.000000</td>\n",
              "      <td>150.000000</td>\n",
              "      <td>150.000000</td>\n",
              "      <td>150.000000</td>\n",
              "      <td>150.0</td>\n",
              "      <td>150.000000</td>\n",
              "      <td>150.000000</td>\n",
              "      <td>150.000000</td>\n",
              "      <td>150.000000</td>\n",
              "    </tr>\n",
              "    <tr>\n",
              "      <th>mean</th>\n",
              "      <td>5.843333</td>\n",
              "      <td>3.054000</td>\n",
              "      <td>3.758667</td>\n",
              "      <td>1.198667</td>\n",
              "      <td>0.0</td>\n",
              "      <td>58.053333</td>\n",
              "      <td>41.906667</td>\n",
              "      <td>23.386667</td>\n",
              "      <td>5.060000</td>\n",
              "    </tr>\n",
              "    <tr>\n",
              "      <th>std</th>\n",
              "      <td>0.828066</td>\n",
              "      <td>0.433594</td>\n",
              "      <td>1.764420</td>\n",
              "      <td>0.763161</td>\n",
              "      <td>0.0</td>\n",
              "      <td>1.913522</td>\n",
              "      <td>25.579025</td>\n",
              "      <td>12.688729</td>\n",
              "      <td>0.804601</td>\n",
              "    </tr>\n",
              "    <tr>\n",
              "      <th>min</th>\n",
              "      <td>4.300000</td>\n",
              "      <td>2.000000</td>\n",
              "      <td>1.000000</td>\n",
              "      <td>0.100000</td>\n",
              "      <td>0.0</td>\n",
              "      <td>55.000000</td>\n",
              "      <td>0.000000</td>\n",
              "      <td>0.000000</td>\n",
              "      <td>4.000000</td>\n",
              "    </tr>\n",
              "    <tr>\n",
              "      <th>25%</th>\n",
              "      <td>5.100000</td>\n",
              "      <td>2.800000</td>\n",
              "      <td>1.600000</td>\n",
              "      <td>0.300000</td>\n",
              "      <td>0.0</td>\n",
              "      <td>57.000000</td>\n",
              "      <td>20.000000</td>\n",
              "      <td>13.000000</td>\n",
              "      <td>4.000000</td>\n",
              "    </tr>\n",
              "    <tr>\n",
              "      <th>50%</th>\n",
              "      <td>5.800000</td>\n",
              "      <td>3.000000</td>\n",
              "      <td>4.350000</td>\n",
              "      <td>1.300000</td>\n",
              "      <td>0.0</td>\n",
              "      <td>58.000000</td>\n",
              "      <td>40.500000</td>\n",
              "      <td>23.000000</td>\n",
              "      <td>5.000000</td>\n",
              "    </tr>\n",
              "    <tr>\n",
              "      <th>75%</th>\n",
              "      <td>6.400000</td>\n",
              "      <td>3.300000</td>\n",
              "      <td>5.100000</td>\n",
              "      <td>1.800000</td>\n",
              "      <td>0.0</td>\n",
              "      <td>60.000000</td>\n",
              "      <td>64.000000</td>\n",
              "      <td>34.000000</td>\n",
              "      <td>6.000000</td>\n",
              "    </tr>\n",
              "    <tr>\n",
              "      <th>max</th>\n",
              "      <td>7.900000</td>\n",
              "      <td>4.400000</td>\n",
              "      <td>6.900000</td>\n",
              "      <td>2.500000</td>\n",
              "      <td>0.0</td>\n",
              "      <td>61.000000</td>\n",
              "      <td>89.000000</td>\n",
              "      <td>44.000000</td>\n",
              "      <td>6.000000</td>\n",
              "    </tr>\n",
              "  </tbody>\n",
              "</table>\n",
              "</div>\n",
              "      <button class=\"colab-df-convert\" onclick=\"convertToInteractive('df-cd146ee6-1f91-464b-bff5-ed2f2a3f64f8')\"\n",
              "              title=\"Convert this dataframe to an interactive table.\"\n",
              "              style=\"display:none;\">\n",
              "        \n",
              "  <svg xmlns=\"http://www.w3.org/2000/svg\" height=\"24px\"viewBox=\"0 0 24 24\"\n",
              "       width=\"24px\">\n",
              "    <path d=\"M0 0h24v24H0V0z\" fill=\"none\"/>\n",
              "    <path d=\"M18.56 5.44l.94 2.06.94-2.06 2.06-.94-2.06-.94-.94-2.06-.94 2.06-2.06.94zm-11 1L8.5 8.5l.94-2.06 2.06-.94-2.06-.94L8.5 2.5l-.94 2.06-2.06.94zm10 10l.94 2.06.94-2.06 2.06-.94-2.06-.94-.94-2.06-.94 2.06-2.06.94z\"/><path d=\"M17.41 7.96l-1.37-1.37c-.4-.4-.92-.59-1.43-.59-.52 0-1.04.2-1.43.59L10.3 9.45l-7.72 7.72c-.78.78-.78 2.05 0 2.83L4 21.41c.39.39.9.59 1.41.59.51 0 1.02-.2 1.41-.59l7.78-7.78 2.81-2.81c.8-.78.8-2.07 0-2.86zM5.41 20L4 18.59l7.72-7.72 1.47 1.35L5.41 20z\"/>\n",
              "  </svg>\n",
              "      </button>\n",
              "      \n",
              "  <style>\n",
              "    .colab-df-container {\n",
              "      display:flex;\n",
              "      flex-wrap:wrap;\n",
              "      gap: 12px;\n",
              "    }\n",
              "\n",
              "    .colab-df-convert {\n",
              "      background-color: #E8F0FE;\n",
              "      border: none;\n",
              "      border-radius: 50%;\n",
              "      cursor: pointer;\n",
              "      display: none;\n",
              "      fill: #1967D2;\n",
              "      height: 32px;\n",
              "      padding: 0 0 0 0;\n",
              "      width: 32px;\n",
              "    }\n",
              "\n",
              "    .colab-df-convert:hover {\n",
              "      background-color: #E2EBFA;\n",
              "      box-shadow: 0px 1px 2px rgba(60, 64, 67, 0.3), 0px 1px 3px 1px rgba(60, 64, 67, 0.15);\n",
              "      fill: #174EA6;\n",
              "    }\n",
              "\n",
              "    [theme=dark] .colab-df-convert {\n",
              "      background-color: #3B4455;\n",
              "      fill: #D2E3FC;\n",
              "    }\n",
              "\n",
              "    [theme=dark] .colab-df-convert:hover {\n",
              "      background-color: #434B5C;\n",
              "      box-shadow: 0px 1px 3px 1px rgba(0, 0, 0, 0.15);\n",
              "      filter: drop-shadow(0px 1px 2px rgba(0, 0, 0, 0.3));\n",
              "      fill: #FFFFFF;\n",
              "    }\n",
              "  </style>\n",
              "\n",
              "      <script>\n",
              "        const buttonEl =\n",
              "          document.querySelector('#df-cd146ee6-1f91-464b-bff5-ed2f2a3f64f8 button.colab-df-convert');\n",
              "        buttonEl.style.display =\n",
              "          google.colab.kernel.accessAllowed ? 'block' : 'none';\n",
              "\n",
              "        async function convertToInteractive(key) {\n",
              "          const element = document.querySelector('#df-cd146ee6-1f91-464b-bff5-ed2f2a3f64f8');\n",
              "          const dataTable =\n",
              "            await google.colab.kernel.invokeFunction('convertToInteractive',\n",
              "                                                     [key], {});\n",
              "          if (!dataTable) return;\n",
              "\n",
              "          const docLinkHtml = 'Like what you see? Visit the ' +\n",
              "            '<a target=\"_blank\" href=https://colab.research.google.com/notebooks/data_table.ipynb>data table notebook</a>'\n",
              "            + ' to learn more about interactive tables.';\n",
              "          element.innerHTML = '';\n",
              "          dataTable['output_type'] = 'display_data';\n",
              "          await google.colab.output.renderOutput(dataTable, element);\n",
              "          const docLink = document.createElement('div');\n",
              "          docLink.innerHTML = docLinkHtml;\n",
              "          element.appendChild(docLink);\n",
              "        }\n",
              "      </script>\n",
              "    </div>\n",
              "  </div>\n",
              "  "
            ]
          },
          "metadata": {},
          "execution_count": 8
        }
      ]
    },
    {
      "cell_type": "code",
      "source": [
        "%matplotlib inline"
      ],
      "metadata": {
        "id": "MEWfX7tXCjA1"
      },
      "execution_count": null,
      "outputs": []
    },
    {
      "cell_type": "code",
      "source": [
        "data_f = data_iris.corr(method='pearson')"
      ],
      "metadata": {
        "id": "XxCoWWueCtO-"
      },
      "execution_count": null,
      "outputs": []
    },
    {
      "cell_type": "code",
      "source": [
        "plt.figure(figsize=(10,10))"
      ],
      "metadata": {
        "colab": {
          "base_uri": "https://localhost:8080/",
          "height": 54
        },
        "id": "h0CVPJmnC8bD",
        "outputId": "b6f7f446-9d57-46f9-87b6-c8fd65eee35e"
      },
      "execution_count": null,
      "outputs": [
        {
          "output_type": "execute_result",
          "data": {
            "text/plain": [
              "<Figure size 720x720 with 0 Axes>"
            ]
          },
          "metadata": {},
          "execution_count": 15
        },
        {
          "output_type": "display_data",
          "data": {
            "text/plain": [
              "<Figure size 720x720 with 0 Axes>"
            ]
          },
          "metadata": {}
        }
      ]
    },
    {
      "cell_type": "code",
      "source": [
        "sns.heatmap(data=data_f, annot=True, fmt='.2f', linewidth=.5, cmap='RdYlGn_r')\n",
        "plt.show()"
      ],
      "metadata": {
        "colab": {
          "base_uri": "https://localhost:8080/",
          "height": 323
        },
        "id": "PvJ-A5zLDGCk",
        "outputId": "33c3c2c7-89ec-40e6-e632-ef6ec8a8a468"
      },
      "execution_count": null,
      "outputs": [
        {
          "output_type": "display_data",
          "data": {
            "text/plain": [
              "<Figure size 432x288 with 2 Axes>"
            ],
            "image/png": "[encoded data removed]"
          },
          "metadata": {
            "needs_background": "light"
          }
        }
      ]
    },
    {
      "cell_type": "code",
      "source": [
        "plt.figure(figsize=(8,8))\n",
        "sns.pairplot(data=data_iris, vars=['sepal_length','sepal_width','petal_length','petal_width'], hue='species')\n",
        "plt.show()"
      ],
      "metadata": {
        "colab": {
          "base_uri": "https://localhost:8080/",
          "height": 744
        },
        "id": "DoETcy4REsIE",
        "outputId": "a7309685-5157-43a7-ca7d-5c903b7905d2"
      },
      "execution_count": null,
      "outputs": [
        {
          "output_type": "display_data",
          "data": {
            "text/plain": [
              "<Figure size 576x576 with 0 Axes>"
            ]
          },
          "metadata": {}
        },
        {
          "output_type": "display_data",
          "data": {
            "text/plain": [
              "<Figure size 804.75x720 with 20 Axes>"
            ],
            "image/png": "[encoded data removed]"
          },
          "metadata": {
            "needs_background": "light"
          }
        }
      ]
    },
    {
      "cell_type": "code",
      "source": [
        "from sklearn import datasets\n",
        "iris=datasets.load_iris()\n",
        "#print(iris)\n",
        "print(iris.feature_names)\n",
        "print(iris.target)"
      ],
      "metadata": {
        "colab": {
          "base_uri": "https://localhost:8080/"
        },
        "id": "qZOIcSPVLEpD",
        "outputId": "8bf981b6-4b07-4532-cb1e-7712ae8c80e2"
      },
      "execution_count": null,
      "outputs": [
        {
          "output_type": "stream",
          "name": "stdout",
          "text": [
            "['sepal length (cm)', 'sepal width (cm)', 'petal length (cm)', 'petal width (cm)']\n",
            "[0 0 0 0 0 0 0 0 0 0 0 0 0 0 0 0 0 0 0 0 0 0 0 0 0 0 0 0 0 0 0 0 0 0 0 0 0\n",
            " 0 0 0 0 0 0 0 0 0 0 0 0 0 1 1 1 1 1 1 1 1 1 1 1 1 1 1 1 1 1 1 1 1 1 1 1 1\n",
            " 1 1 1 1 1 1 1 1 1 1 1 1 1 1 1 1 1 1 1 1 1 1 1 1 1 1 2 2 2 2 2 2 2 2 2 2 2\n",
            " 2 2 2 2 2 2 2 2 2 2 2 2 2 2 2 2 2 2 2 2 2 2 2 2 2 2 2 2 2 2 2 2 2 2 2 2 2\n",
            " 2 2]\n"
          ]
        }
      ]
    },
    {
      "cell_type": "code",
      "source": [
        "from sklearn.model_selection import train_test_split\n",
        "X=iris.data\n",
        "y=iris.target\n",
        "\n",
        "X_train, X_test, y_train, y_test = train_test_split(X, y, test_size=0.2, shuffle=True)\n",
        "print(X_train.shape)\n",
        "print(X_test.shape)"
      ],
      "metadata": {
        "colab": {
          "base_uri": "https://localhost:8080/"
        },
        "id": "7wgKORTXLcx7",
        "outputId": "fd79f6af-2fbe-455b-8b88-89e07df43731"
      },
      "execution_count": null,
      "outputs": [
        {
          "output_type": "stream",
          "name": "stdout",
          "text": [
            "(120, 4)\n",
            "(30, 4)\n"
          ]
        }
      ]
    },
    {
      "cell_type": "code",
      "source": [
        "from sklearn.svm import SVC\n",
        "my_model = SVC()\n",
        "my_model.fit(X_train,y_train)"
      ],
      "metadata": {
        "colab": {
          "base_uri": "https://localhost:8080/"
        },
        "id": "I7Y962kkN_FI",
        "outputId": "495ee165-5539-42c4-d207-10269b53d450"
      },
      "execution_count": null,
      "outputs": [
        {
          "output_type": "execute_result",
          "data": {
            "text/plain": [
              "SVC()"
            ]
          },
          "metadata": {},
          "execution_count": 52
        }
      ]
    },
    {
      "cell_type": "code",
      "source": [
        "y_prediction=my_model.predict(X_test)\n",
        "y_prediction"
      ],
      "metadata": {
        "colab": {
          "base_uri": "https://localhost:8080/"
        },
        "id": "MfkcQDTcOyrE",
        "outputId": "c1eac886-8c2f-461f-86ff-1c997cb84232"
      },
      "execution_count": null,
      "outputs": [
        {
          "output_type": "execute_result",
          "data": {
            "text/plain": [
              "array([2, 2, 2, 2, 1, 1, 0, 0, 1, 1, 1, 2, 1, 2, 2, 0, 2, 0, 0, 1, 1, 0,\n",
              "       0, 0, 0, 1, 1, 2, 0, 0])"
            ]
          },
          "metadata": {},
          "execution_count": 54
        }
      ]
    },
    {
      "cell_type": "code",
      "source": [
        "from sklearn.metrics import accuracy_score\n",
        "print(\"정답률 : \",accuracy_score(y_test,y_prediction))"
      ],
      "metadata": {
        "colab": {
          "base_uri": "https://localhost:8080/"
        },
        "id": "7ABcg0cnO8WO",
        "outputId": "8dbbce90-d7b2-43cc-a159-3b97f8cd6a4e"
      },
      "execution_count": null,
      "outputs": [
        {
          "output_type": "stream",
          "name": "stdout",
          "text": [
            "정답률 :  0.9333333333333333\n"
          ]
        }
      ]
    },
    {
      "cell_type": "code",
      "source": [
        "my_model.predict([[5.0, 2.0, 3.5, 1.]])"
      ],
      "metadata": {
        "colab": {
          "base_uri": "https://localhost:8080/"
        },
        "id": "J81eQrx2PQBF",
        "outputId": "2c926777-abc7-4fe4-9234-c90a65b34955"
      },
      "execution_count": null,
      "outputs": [
        {
          "output_type": "execute_result",
          "data": {
            "text/plain": [
              "array([1])"
            ]
          },
          "metadata": {},
          "execution_count": 58
        }
      ]
    },
    {
      "cell_type": "code",
      "source": [
        "from sklearn.metrics import confusion_matrix, classification_report\n",
        "import pandas as pd\n",
        "import seaborn as sns\n",
        "classNames = iris.target_names\n",
        "cm = confusion_matrix(y_test, y_prediction)\n",
        "df_cm = pd.DataFrame(cm, index=[i for i in classNames], columns=[i for i in classNames])\n",
        "sns.heatmap(data=df_cm, annot=True, fmt='0.2f', cmap='YlGnBu')"
      ],
      "metadata": {
        "colab": {
          "base_uri": "https://localhost:8080/",
          "height": 283
        },
        "id": "0QEn9l77QhWr",
        "outputId": "33234a03-4042-4c2b-b11a-d14bb8b63427"
      },
      "execution_count": null,
      "outputs": [
        {
          "output_type": "execute_result",
          "data": {
            "text/plain": [
              "<matplotlib.axes._subplots.AxesSubplot at 0x7f563d039a50>"
            ]
          },
          "metadata": {},
          "execution_count": 66
        },
        {
          "output_type": "display_data",
          "data": {
            "text/plain": [
              "<Figure size 432x288 with 2 Axes>"
            ],
            "image/png": "[encoded data removed]"
          },
          "metadata": {
            "needs_background": "light"
          }
        }
      ]
    },
    {
      "cell_type": "code",
      "source": [
        "print(classification_report(y_test, y_prediction, target_names=classNames))"
      ],
      "metadata": {
        "colab": {
          "base_uri": "https://localhost:8080/"
        },
        "id": "CZiUH_gtSYZk",
        "outputId": "1ed33c46-29de-497e-936f-94f87a06a70f"
      },
      "execution_count": null,
      "outputs": [
        {
          "output_type": "stream",
          "name": "stdout",
          "text": [
            "              precision    recall  f1-score   support\n",
            "\n",
            "      setosa       1.00      1.00      1.00        11\n",
            "  versicolor       0.80      1.00      0.89         8\n",
            "   virginica       1.00      0.82      0.90        11\n",
            "\n",
            "    accuracy                           0.93        30\n",
            "   macro avg       0.93      0.94      0.93        30\n",
            "weighted avg       0.95      0.93      0.93        30\n",
            "\n"
          ]
        }
      ]
    },
    {
      "cell_type": "code",
      "source": [],
      "metadata": {
        "id": "EDbqxV4sUN5-"
      },
      "execution_count": null,
      "outputs": []
    },
    {
      "cell_type": "code",
      "source": [
        "from sklearn.svm import SVC\n",
        "from sklearn.model_selection import train_test_split\n",
        "from sklearn.metrics import accuracy_score\n",
        "df = pd.read_csv('/content/gdrive/My Drive/data/iris_data.csv', encoding = 'cp949')\n",
        "\n",
        "X = df.loc[:,['sepal_length', 'petal_width', 'stem', 'latitude']]\n",
        "y = df.loc[:, 'species']\n",
        "\n",
        "X_train, X_test, y_train, y_test = train_test_split(X, y, test_size=0.2, shuffle=True)\n",
        "\n",
        "my_model = SVC()\n",
        "my_model.fit(X_train, y_train)\n",
        "y_pred = my_model.predict(X_test)\n",
        "print(accuracy_score(y_test, y_pred))"
      ],
      "metadata": {
        "colab": {
          "base_uri": "https://localhost:8080/"
        },
        "id": "5tVxY-r8TsHI",
        "outputId": "8b3cc989-9f60-4f01-8894-5e49e98200f5"
      },
      "execution_count": null,
      "outputs": [
        {
          "output_type": "stream",
          "name": "stdout",
          "text": [
            "0.13333333333333333\n"
          ]
        }
      ]
    },
    {
      "cell_type": "code",
      "source": [
        "X = df.loc[:,['sepal_length', 'sepal_width', 'petal_length', 'petal_width']]\n",
        "y = df.loc[:, 'species']\n",
        "\n",
        "X_train, X_test, y_train, y_test = train_test_split(X, y, test_size=0.2, shuffle=True)\n",
        "\n",
        "my_model = SVC()\n",
        "my_model.fit(X_train, y_train)\n",
        "y_pred = my_model.predict(X_test)\n",
        "print (accuracy_score(y_test, y_pred))"
      ],
      "metadata": {
        "colab": {
          "base_uri": "https://localhost:8080/"
        },
        "id": "NcZywoFrTchS",
        "outputId": "83ebb75e-93aa-4cc6-fbd4-facba85e98d1"
      },
      "execution_count": null,
      "outputs": [
        {
          "output_type": "stream",
          "name": "stdout",
          "text": [
            "0.9333333333333333\n"
          ]
        }
      ]
    },
    {
      "cell_type": "code",
      "source": [
        "from google.colab import drive\n",
        "drive.mount('/content/gdrive')"
      ],
      "metadata": {
        "colab": {
          "base_uri": "https://localhost:8080/"
        },
        "id": "q42-uBGgWVjo",
        "outputId": "e9e44640-5cc8-4099-cdfb-7cd664070ad5"
      },
      "execution_count": null,
      "outputs": [
        {
          "output_type": "stream",
          "name": "stdout",
          "text": [
            "Drive already mounted at /content/gdrive; to attempt to forcibly remount, call drive.mount(\"/content/gdrive\", force_remount=True).\n"
          ]
        }
      ]
    },
    {
      "cell_type": "code",
      "source": [
        "import pandas as pd\n",
        "import matplotlib.pyplot as plt\n",
        "import seaborn as sns\n",
        "df = pd.read_excel('/content/gdrive/My Drive/data/sns_162.xlsx')\n",
        "print(df.head())\n",
        "df.describe()"
      ],
      "metadata": {
        "colab": {
          "base_uri": "https://localhost:8080/",
          "height": 410
        },
        "id": "eebYt-VoWlxT",
        "outputId": "403e8758-1858-41cb-8198-05d9b9e30ea8"
      },
      "execution_count": null,
      "outputs": [
        {
          "output_type": "stream",
          "name": "stdout",
          "text": [
            "    No  sex  age  code  grade  jumsu  follower  download\n",
            "0  N01    1   15    82      5     10    260000    280000\n",
            "1  N02    1   23    82      5      9    270000    285000\n",
            "2  N03    2   17    82      4      8    220000    200000\n",
            "3  N04    1   21    82      4      7    230000    210000\n",
            "4  N05    1   30    82      3      6    180000    160000\n"
          ]
        },
        {
          "output_type": "execute_result",
          "data": {
            "text/plain": [
              "             sex        age       code     grade      jumsu       follower  \\\n",
              "count  30.000000  30.000000  30.000000  30.00000  30.000000      30.000000   \n",
              "mean    1.466667  18.933333  42.333333   3.00000   5.333333  133800.000000   \n",
              "std     0.507416   3.561609  33.654772   1.43839   2.916461   96866.919018   \n",
              "min     1.000000  13.000000   1.000000   1.00000   1.000000    7000.000000   \n",
              "25%     1.000000  16.250000   1.000000   2.00000   3.000000   36750.000000   \n",
              "50%     1.000000  19.000000  44.000000   3.00000   5.000000  150000.000000   \n",
              "75%     2.000000  21.000000  82.000000   4.00000   7.750000  225000.000000   \n",
              "max     2.000000  30.000000  82.000000   5.00000  10.000000  275000.000000   \n",
              "\n",
              "            download  \n",
              "count      30.000000  \n",
              "mean   148666.666667  \n",
              "std    101400.565643  \n",
              "min      5000.000000  \n",
              "25%     66250.000000  \n",
              "50%    167500.000000  \n",
              "75%    213750.000000  \n",
              "max    300000.000000  "
            ],
            "text/html": [
              "\n",
              "  <div id=\"df-e540851d-5f5c-499d-9dc0-14d748914092\">\n",
              "    <div class=\"colab-df-container\">\n",
              "      <div>\n",
              "<style scoped>\n",
              "    .dataframe tbody tr th:only-of-type {\n",
              "        vertical-align: middle;\n",
              "    }\n",
              "\n",
              "    .dataframe tbody tr th {\n",
              "        vertical-align: top;\n",
              "    }\n",
              "\n",
              "    .dataframe thead th {\n",
              "        text-align: right;\n",
              "    }\n",
              "</style>\n",
              "<table border=\"1\" class=\"dataframe\">\n",
              "  <thead>\n",
              "    <tr style=\"text-align: right;\">\n",
              "      <th></th>\n",
              "      <th>sex</th>\n",
              "      <th>age</th>\n",
              "      <th>code</th>\n",
              "      <th>grade</th>\n",
              "      <th>jumsu</th>\n",
              "      <th>follower</th>\n",
              "      <th>download</th>\n",
              "    </tr>\n",
              "  </thead>\n",
              "  <tbody>\n",
              "    <tr>\n",
              "      <th>count</th>\n",
              "      <td>30.000000</td>\n",
              "      <td>30.000000</td>\n",
              "      <td>30.000000</td>\n",
              "      <td>30.00000</td>\n",
              "      <td>30.000000</td>\n",
              "      <td>30.000000</td>\n",
              "      <td>30.000000</td>\n",
              "    </tr>\n",
              "    <tr>\n",
              "      <th>mean</th>\n",
              "      <td>1.466667</td>\n",
              "      <td>18.933333</td>\n",
              "      <td>42.333333</td>\n",
              "      <td>3.00000</td>\n",
              "      <td>5.333333</td>\n",
              "      <td>133800.000000</td>\n",
              "      <td>148666.666667</td>\n",
              "    </tr>\n",
              "    <tr>\n",
              "      <th>std</th>\n",
              "      <td>0.507416</td>\n",
              "      <td>3.561609</td>\n",
              "      <td>33.654772</td>\n",
              "      <td>1.43839</td>\n",
              "      <td>2.916461</td>\n",
              "      <td>96866.919018</td>\n",
              "      <td>101400.565643</td>\n",
              "    </tr>\n",
              "    <tr>\n",
              "      <th>min</th>\n",
              "      <td>1.000000</td>\n",
              "      <td>13.000000</td>\n",
              "      <td>1.000000</td>\n",
              "      <td>1.00000</td>\n",
              "      <td>1.000000</td>\n",
              "      <td>7000.000000</td>\n",
              "      <td>5000.000000</td>\n",
              "    </tr>\n",
              "    <tr>\n",
              "      <th>25%</th>\n",
              "      <td>1.000000</td>\n",
              "      <td>16.250000</td>\n",
              "      <td>1.000000</td>\n",
              "      <td>2.00000</td>\n",
              "      <td>3.000000</td>\n",
              "      <td>36750.000000</td>\n",
              "      <td>66250.000000</td>\n",
              "    </tr>\n",
              "    <tr>\n",
              "      <th>50%</th>\n",
              "      <td>1.000000</td>\n",
              "      <td>19.000000</td>\n",
              "      <td>44.000000</td>\n",
              "      <td>3.00000</td>\n",
              "      <td>5.000000</td>\n",
              "      <td>150000.000000</td>\n",
              "      <td>167500.000000</td>\n",
              "    </tr>\n",
              "    <tr>\n",
              "      <th>75%</th>\n",
              "      <td>2.000000</td>\n",
              "      <td>21.000000</td>\n",
              "      <td>82.000000</td>\n",
              "      <td>4.00000</td>\n",
              "      <td>7.750000</td>\n",
              "      <td>225000.000000</td>\n",
              "      <td>213750.000000</td>\n",
              "    </tr>\n",
              "    <tr>\n",
              "      <th>max</th>\n",
              "      <td>2.000000</td>\n",
              "      <td>30.000000</td>\n",
              "      <td>82.000000</td>\n",
              "      <td>5.00000</td>\n",
              "      <td>10.000000</td>\n",
              "      <td>275000.000000</td>\n",
              "      <td>300000.000000</td>\n",
              "    </tr>\n",
              "  </tbody>\n",
              "</table>\n",
              "</div>\n",
              "      <button class=\"colab-df-convert\" onclick=\"convertToInteractive('df-e540851d-5f5c-499d-9dc0-14d748914092')\"\n",
              "              title=\"Convert this dataframe to an interactive table.\"\n",
              "              style=\"display:none;\">\n",
              "        \n",
              "  <svg xmlns=\"http://www.w3.org/2000/svg\" height=\"24px\"viewBox=\"0 0 24 24\"\n",
              "       width=\"24px\">\n",
              "    <path d=\"M0 0h24v24H0V0z\" fill=\"none\"/>\n",
              "    <path d=\"M18.56 5.44l.94 2.06.94-2.06 2.06-.94-2.06-.94-.94-2.06-.94 2.06-2.06.94zm-11 1L8.5 8.5l.94-2.06 2.06-.94-2.06-.94L8.5 2.5l-.94 2.06-2.06.94zm10 10l.94 2.06.94-2.06 2.06-.94-2.06-.94-.94-2.06-.94 2.06-2.06.94z\"/><path d=\"M17.41 7.96l-1.37-1.37c-.4-.4-.92-.59-1.43-.59-.52 0-1.04.2-1.43.59L10.3 9.45l-7.72 7.72c-.78.78-.78 2.05 0 2.83L4 21.41c.39.39.9.59 1.41.59.51 0 1.02-.2 1.41-.59l7.78-7.78 2.81-2.81c.8-.78.8-2.07 0-2.86zM5.41 20L4 18.59l7.72-7.72 1.47 1.35L5.41 20z\"/>\n",
              "  </svg>\n",
              "      </button>\n",
              "      \n",
              "  <style>\n",
              "    .colab-df-container {\n",
              "      display:flex;\n",
              "      flex-wrap:wrap;\n",
              "      gap: 12px;\n",
              "    }\n",
              "\n",
              "    .colab-df-convert {\n",
              "      background-color: #E8F0FE;\n",
              "      border: none;\n",
              "      border-radius: 50%;\n",
              "      cursor: pointer;\n",
              "      display: none;\n",
              "      fill: #1967D2;\n",
              "      height: 32px;\n",
              "      padding: 0 0 0 0;\n",
              "      width: 32px;\n",
              "    }\n",
              "\n",
              "    .colab-df-convert:hover {\n",
              "      background-color: #E2EBFA;\n",
              "      box-shadow: 0px 1px 2px rgba(60, 64, 67, 0.3), 0px 1px 3px 1px rgba(60, 64, 67, 0.15);\n",
              "      fill: #174EA6;\n",
              "    }\n",
              "\n",
              "    [theme=dark] .colab-df-convert {\n",
              "      background-color: #3B4455;\n",
              "      fill: #D2E3FC;\n",
              "    }\n",
              "\n",
              "    [theme=dark] .colab-df-convert:hover {\n",
              "      background-color: #434B5C;\n",
              "      box-shadow: 0px 1px 3px 1px rgba(0, 0, 0, 0.15);\n",
              "      filter: drop-shadow(0px 1px 2px rgba(0, 0, 0, 0.3));\n",
              "      fill: #FFFFFF;\n",
              "    }\n",
              "  </style>\n",
              "\n",
              "      <script>\n",
              "        const buttonEl =\n",
              "          document.querySelector('#df-e540851d-5f5c-499d-9dc0-14d748914092 button.colab-df-convert');\n",
              "        buttonEl.style.display =\n",
              "          google.colab.kernel.accessAllowed ? 'block' : 'none';\n",
              "\n",
              "        async function convertToInteractive(key) {\n",
              "          const element = document.querySelector('#df-e540851d-5f5c-499d-9dc0-14d748914092');\n",
              "          const dataTable =\n",
              "            await google.colab.kernel.invokeFunction('convertToInteractive',\n",
              "                                                     [key], {});\n",
              "          if (!dataTable) return;\n",
              "\n",
              "          const docLinkHtml = 'Like what you see? Visit the ' +\n",
              "            '<a target=\"_blank\" href=https://colab.research.google.com/notebooks/data_table.ipynb>data table notebook</a>'\n",
              "            + ' to learn more about interactive tables.';\n",
              "          element.innerHTML = '';\n",
              "          dataTable['output_type'] = 'display_data';\n",
              "          await google.colab.output.renderOutput(dataTable, element);\n",
              "          const docLink = document.createElement('div');\n",
              "          docLink.innerHTML = docLinkHtml;\n",
              "          element.appendChild(docLink);\n",
              "        }\n",
              "      </script>\n",
              "    </div>\n",
              "  </div>\n",
              "  "
            ]
          },
          "metadata": {},
          "execution_count": 84
        }
      ]
    },
    {
      "cell_type": "code",
      "source": [
        "%matplotlib inline"
      ],
      "metadata": {
        "id": "JWY7Ome2XWwv"
      },
      "execution_count": null,
      "outputs": []
    },
    {
      "cell_type": "code",
      "source": [
        "data_f = df.corr(method='pearson')"
      ],
      "metadata": {
        "id": "Qdp1PG7mXaC3"
      },
      "execution_count": null,
      "outputs": []
    },
    {
      "cell_type": "code",
      "source": [
        "plt.figure(figsize=(10,10))"
      ],
      "metadata": {
        "colab": {
          "base_uri": "https://localhost:8080/",
          "height": 54
        },
        "id": "fO9X7LYcXfDz",
        "outputId": "321aa289-2fc0-4041-88c8-cd1fc8669efa"
      },
      "execution_count": null,
      "outputs": [
        {
          "output_type": "execute_result",
          "data": {
            "text/plain": [
              "<Figure size 720x720 with 0 Axes>"
            ]
          },
          "metadata": {},
          "execution_count": 88
        },
        {
          "output_type": "display_data",
          "data": {
            "text/plain": [
              "<Figure size 720x720 with 0 Axes>"
            ]
          },
          "metadata": {}
        }
      ]
    },
    {
      "cell_type": "code",
      "source": [
        "sns.heatmap(data=data_f, annot=True, fmt='.2f', linewidth=.5, cmap='YlGnBu')\n",
        "plt.show()"
      ],
      "metadata": {
        "colab": {
          "base_uri": "https://localhost:8080/",
          "height": 308
        },
        "id": "wr_Kg4zMXkUo",
        "outputId": "866b1401-4619-4bf8-801c-f908d015d23c"
      },
      "execution_count": null,
      "outputs": [
        {
          "output_type": "display_data",
          "data": {
            "text/plain": [
              "<Figure size 432x288 with 2 Axes>"
            ],
            "image/png": "[encoded data removed]"
          },
          "metadata": {
            "needs_background": "light"
          }
        }
      ]
    },
    {
      "cell_type": "code",
      "source": [
        "plt.figure(figsize=(10,10))\n",
        "sns.pairplot(data=df, vars=['sex','age','code'], hue='grade')\n",
        "plt.figure()\n",
        "print()\n",
        "sns.pairplot(data=df, vars=['jumsu','follower','download'], hue='grade')\n",
        "plt.show()"
      ],
      "metadata": {
        "colab": {
          "base_uri": "https://localhost:8080/",
          "height": 1000
        },
        "id": "4xhy5VRmZLNK",
        "outputId": "c45de33c-29e9-46f1-e5a7-18f4fc71b414"
      },
      "execution_count": null,
      "outputs": [
        {
          "output_type": "stream",
          "name": "stdout",
          "text": [
            "\n"
          ]
        },
        {
          "output_type": "display_data",
          "data": {
            "text/plain": [
              "<Figure size 720x720 with 0 Axes>"
            ]
          },
          "metadata": {}
        },
        {
          "output_type": "display_data",
          "data": {
            "text/plain": [
              "<Figure size 582.375x540 with 12 Axes>"
            ],
            "image/png": "[encoded data removed]"
          },
          "metadata": {
            "needs_background": "light"
          }
        },
        {
          "output_type": "display_data",
          "data": {
            "text/plain": [
              "<Figure size 432x288 with 0 Axes>"
            ]
          },
          "metadata": {}
        },
        {
          "output_type": "display_data",
          "data": {
            "text/plain": [
              "<Figure size 582.375x540 with 12 Axes>"
            ],
            "image/png": "[encoded data removed]"
          },
          "metadata": {
            "needs_background": "light"
          }
        }
      ]
    },
    {
      "cell_type": "code",
      "source": [
        "import pandas as pd\n",
        "df = pd.read_excel('/content/gdrive/My Drive/data/star_data.xlsx')\n",
        "print(df.tail())\n",
        "df.describe()"
      ],
      "metadata": {
        "colab": {
          "base_uri": "https://localhost:8080/",
          "height": 410
        },
        "id": "iO6-5kn3ZjJW",
        "outputId": "ad587bca-3d59-445a-c4df-bb5e42cb8f35"
      },
      "execution_count": null,
      "outputs": [
        {
          "output_type": "stream",
          "name": "stdout",
          "text": [
            "   name sex  count  care  saving  manner   star\n",
            "35  박xx   여      9     8       7       8   ★★★★\n",
            "36  박xx   여     10     9       9      10  ★★★★★\n",
            "37  김xx   여     10     9       9      10  ★★★★★\n",
            "38  이xx   여     10     9       9      10  ★★★★★\n",
            "39  박xx   여      7     6       5       7    ★★★\n"
          ]
        },
        {
          "output_type": "execute_result",
          "data": {
            "text/plain": [
              "           count       care     saving     manner\n",
              "count  40.000000  40.000000  40.000000  40.000000\n",
              "mean    6.800000   5.800000   5.000000   7.000000\n",
              "std     2.593878   2.593878   2.864459   2.025479\n",
              "min     3.000000   2.000000   1.000000   4.000000\n",
              "25%     5.000000   4.000000   3.000000   6.000000\n",
              "50%     7.000000   6.000000   5.000000   7.000000\n",
              "75%     9.000000   8.000000   7.000000   8.000000\n",
              "max    10.000000   9.000000   9.000000  10.000000"
            ],
            "text/html": [
              "\n",
              "  <div id=\"df-a1d52f9f-9a69-477d-b23d-4f6bb103863b\">\n",
              "    <div class=\"colab-df-container\">\n",
              "      <div>\n",
              "<style scoped>\n",
              "    .dataframe tbody tr th:only-of-type {\n",
              "        vertical-align: middle;\n",
              "    }\n",
              "\n",
              "    .dataframe tbody tr th {\n",
              "        vertical-align: top;\n",
              "    }\n",
              "\n",
              "    .dataframe thead th {\n",
              "        text-align: right;\n",
              "    }\n",
              "</style>\n",
              "<table border=\"1\" class=\"dataframe\">\n",
              "  <thead>\n",
              "    <tr style=\"text-align: right;\">\n",
              "      <th></th>\n",
              "      <th>count</th>\n",
              "      <th>care</th>\n",
              "      <th>saving</th>\n",
              "      <th>manner</th>\n",
              "    </tr>\n",
              "  </thead>\n",
              "  <tbody>\n",
              "    <tr>\n",
              "      <th>count</th>\n",
              "      <td>40.000000</td>\n",
              "      <td>40.000000</td>\n",
              "      <td>40.000000</td>\n",
              "      <td>40.000000</td>\n",
              "    </tr>\n",
              "    <tr>\n",
              "      <th>mean</th>\n",
              "      <td>6.800000</td>\n",
              "      <td>5.800000</td>\n",
              "      <td>5.000000</td>\n",
              "      <td>7.000000</td>\n",
              "    </tr>\n",
              "    <tr>\n",
              "      <th>std</th>\n",
              "      <td>2.593878</td>\n",
              "      <td>2.593878</td>\n",
              "      <td>2.864459</td>\n",
              "      <td>2.025479</td>\n",
              "    </tr>\n",
              "    <tr>\n",
              "      <th>min</th>\n",
              "      <td>3.000000</td>\n",
              "      <td>2.000000</td>\n",
              "      <td>1.000000</td>\n",
              "      <td>4.000000</td>\n",
              "    </tr>\n",
              "    <tr>\n",
              "      <th>25%</th>\n",
              "      <td>5.000000</td>\n",
              "      <td>4.000000</td>\n",
              "      <td>3.000000</td>\n",
              "      <td>6.000000</td>\n",
              "    </tr>\n",
              "    <tr>\n",
              "      <th>50%</th>\n",
              "      <td>7.000000</td>\n",
              "      <td>6.000000</td>\n",
              "      <td>5.000000</td>\n",
              "      <td>7.000000</td>\n",
              "    </tr>\n",
              "    <tr>\n",
              "      <th>75%</th>\n",
              "      <td>9.000000</td>\n",
              "      <td>8.000000</td>\n",
              "      <td>7.000000</td>\n",
              "      <td>8.000000</td>\n",
              "    </tr>\n",
              "    <tr>\n",
              "      <th>max</th>\n",
              "      <td>10.000000</td>\n",
              "      <td>9.000000</td>\n",
              "      <td>9.000000</td>\n",
              "      <td>10.000000</td>\n",
              "    </tr>\n",
              "  </tbody>\n",
              "</table>\n",
              "</div>\n",
              "      <button class=\"colab-df-convert\" onclick=\"convertToInteractive('df-a1d52f9f-9a69-477d-b23d-4f6bb103863b')\"\n",
              "              title=\"Convert this dataframe to an interactive table.\"\n",
              "              style=\"display:none;\">\n",
              "        \n",
              "  <svg xmlns=\"http://www.w3.org/2000/svg\" height=\"24px\"viewBox=\"0 0 24 24\"\n",
              "       width=\"24px\">\n",
              "    <path d=\"M0 0h24v24H0V0z\" fill=\"none\"/>\n",
              "    <path d=\"M18.56 5.44l.94 2.06.94-2.06 2.06-.94-2.06-.94-.94-2.06-.94 2.06-2.06.94zm-11 1L8.5 8.5l.94-2.06 2.06-.94-2.06-.94L8.5 2.5l-.94 2.06-2.06.94zm10 10l.94 2.06.94-2.06 2.06-.94-2.06-.94-.94-2.06-.94 2.06-2.06.94z\"/><path d=\"M17.41 7.96l-1.37-1.37c-.4-.4-.92-.59-1.43-.59-.52 0-1.04.2-1.43.59L10.3 9.45l-7.72 7.72c-.78.78-.78 2.05 0 2.83L4 21.41c.39.39.9.59 1.41.59.51 0 1.02-.2 1.41-.59l7.78-7.78 2.81-2.81c.8-.78.8-2.07 0-2.86zM5.41 20L4 18.59l7.72-7.72 1.47 1.35L5.41 20z\"/>\n",
              "  </svg>\n",
              "      </button>\n",
              "      \n",
              "  <style>\n",
              "    .colab-df-container {\n",
              "      display:flex;\n",
              "      flex-wrap:wrap;\n",
              "      gap: 12px;\n",
              "    }\n",
              "\n",
              "    .colab-df-convert {\n",
              "      background-color: #E8F0FE;\n",
              "      border: none;\n",
              "      border-radius: 50%;\n",
              "      cursor: pointer;\n",
              "      display: none;\n",
              "      fill: #1967D2;\n",
              "      height: 32px;\n",
              "      padding: 0 0 0 0;\n",
              "      width: 32px;\n",
              "    }\n",
              "\n",
              "    .colab-df-convert:hover {\n",
              "      background-color: #E2EBFA;\n",
              "      box-shadow: 0px 1px 2px rgba(60, 64, 67, 0.3), 0px 1px 3px 1px rgba(60, 64, 67, 0.15);\n",
              "      fill: #174EA6;\n",
              "    }\n",
              "\n",
              "    [theme=dark] .colab-df-convert {\n",
              "      background-color: #3B4455;\n",
              "      fill: #D2E3FC;\n",
              "    }\n",
              "\n",
              "    [theme=dark] .colab-df-convert:hover {\n",
              "      background-color: #434B5C;\n",
              "      box-shadow: 0px 1px 3px 1px rgba(0, 0, 0, 0.15);\n",
              "      filter: drop-shadow(0px 1px 2px rgba(0, 0, 0, 0.3));\n",
              "      fill: #FFFFFF;\n",
              "    }\n",
              "  </style>\n",
              "\n",
              "      <script>\n",
              "        const buttonEl =\n",
              "          document.querySelector('#df-a1d52f9f-9a69-477d-b23d-4f6bb103863b button.colab-df-convert');\n",
              "        buttonEl.style.display =\n",
              "          google.colab.kernel.accessAllowed ? 'block' : 'none';\n",
              "\n",
              "        async function convertToInteractive(key) {\n",
              "          const element = document.querySelector('#df-a1d52f9f-9a69-477d-b23d-4f6bb103863b');\n",
              "          const dataTable =\n",
              "            await google.colab.kernel.invokeFunction('convertToInteractive',\n",
              "                                                     [key], {});\n",
              "          if (!dataTable) return;\n",
              "\n",
              "          const docLinkHtml = 'Like what you see? Visit the ' +\n",
              "            '<a target=\"_blank\" href=https://colab.research.google.com/notebooks/data_table.ipynb>data table notebook</a>'\n",
              "            + ' to learn more about interactive tables.';\n",
              "          element.innerHTML = '';\n",
              "          dataTable['output_type'] = 'display_data';\n",
              "          await google.colab.output.renderOutput(dataTable, element);\n",
              "          const docLink = document.createElement('div');\n",
              "          docLink.innerHTML = docLinkHtml;\n",
              "          element.appendChild(docLink);\n",
              "        }\n",
              "      </script>\n",
              "    </div>\n",
              "  </div>\n",
              "  "
            ]
          },
          "metadata": {},
          "execution_count": 98
        }
      ]
    },
    {
      "cell_type": "code",
      "source": [
        "from sklearn.svm import SVC\n",
        "\n",
        "X= df.loc[:,['count','care','saving','manner']]\n",
        "y= df.loc[:,'star']\n",
        "print(X); print(y)\n",
        "\n",
        "X_train, X_test, y_train, y_tset = train_test_split(X,y,test_size=0.2,shuffle=True)\n",
        "\n",
        "my_model = SVC()\n",
        "\n",
        "my_model.fit(X_train,y_train)"
      ],
      "metadata": {
        "colab": {
          "base_uri": "https://localhost:8080/"
        },
        "id": "jFMGRaSlceHK",
        "outputId": "2fd18f22-c6fb-4378-e01e-be5963f6705e"
      },
      "execution_count": null,
      "outputs": [
        {
          "output_type": "stream",
          "name": "stdout",
          "text": [
            "    count  care  saving  manner\n",
            "0       5     4       3       6\n",
            "1       9     8       7       8\n",
            "2       7     6       5       7\n",
            "3       5     4       3       6\n",
            "4       7     6       5       7\n",
            "5      10     9       9      10\n",
            "6       9     8       7       8\n",
            "7       5     4       3       6\n",
            "8       3     2       1       4\n",
            "9       3     2       1       4\n",
            "10      9     8       7       8\n",
            "11      7     6       5       7\n",
            "12      3     2       1       4\n",
            "13     10     9       9      10\n",
            "14      9     8       7       8\n",
            "15      3     2       1       4\n",
            "16     10     9       9      10\n",
            "17      7     6       5       7\n",
            "18      5     4       3       6\n",
            "19      9     8       7       8\n",
            "20      5     4       3       6\n",
            "21      9     8       7       8\n",
            "22      3     2       1       4\n",
            "23      5     4       3       6\n",
            "24     10     9       9      10\n",
            "25      3     2       1       4\n",
            "26      5     4       3       6\n",
            "27      7     6       5       7\n",
            "28      7     6       5       7\n",
            "29      7     6       5       7\n",
            "30      5     4       3       6\n",
            "31      3     2       1       4\n",
            "32      3     2       1       4\n",
            "33      9     8       7       8\n",
            "34     10     9       9      10\n",
            "35      9     8       7       8\n",
            "36     10     9       9      10\n",
            "37     10     9       9      10\n",
            "38     10     9       9      10\n",
            "39      7     6       5       7\n",
            "0        ★★\n",
            "1      ★★★★\n",
            "2       ★★★\n",
            "3        ★★\n",
            "4       ★★★\n",
            "5     ★★★★★\n",
            "6      ★★★★\n",
            "7        ★★\n",
            "8         ★\n",
            "9         ★\n",
            "10     ★★★★\n",
            "11      ★★★\n",
            "12        ★\n",
            "13    ★★★★★\n",
            "14     ★★★★\n",
            "15        ★\n",
            "16    ★★★★★\n",
            "17      ★★★\n",
            "18       ★★\n",
            "19     ★★★★\n",
            "20       ★★\n",
            "21     ★★★★\n",
            "22        ★\n",
            "23       ★★\n",
            "24    ★★★★★\n",
            "25        ★\n",
            "26       ★★\n",
            "27      ★★★\n",
            "28      ★★★\n",
            "29      ★★★\n",
            "30       ★★\n",
            "31        ★\n",
            "32        ★\n",
            "33     ★★★★\n",
            "34    ★★★★★\n",
            "35     ★★★★\n",
            "36    ★★★★★\n",
            "37    ★★★★★\n",
            "38    ★★★★★\n",
            "39      ★★★\n",
            "Name: star, dtype: object\n"
          ]
        },
        {
          "output_type": "execute_result",
          "data": {
            "text/plain": [
              "SVC()"
            ]
          },
          "metadata": {},
          "execution_count": 99
        }
      ]
    },
    {
      "cell_type": "code",
      "source": [
        "print(my_model.predict([[5,6,7,5]]))\n",
        "print(my_model.predict([[2,2,2,2]]))\n",
        "print(my_model.predict([[5,5,5,5]]))\n",
        "print(my_model.predict([[7,7,7,7]]))\n",
        "print(my_model.predict([[8,8,8,8]]))\n",
        "print(my_model.predict([[9,9,9,9]]))"
      ],
      "metadata": {
        "colab": {
          "base_uri": "https://localhost:8080/"
        },
        "id": "Q8Fsrz-td4Wy",
        "outputId": "150b0d6a-0ea1-4045-c9da-f7498a7e533b"
      },
      "execution_count": null,
      "outputs": [
        {
          "output_type": "stream",
          "name": "stdout",
          "text": [
            "['★★★']\n",
            "['★']\n",
            "['★★']\n",
            "['★★★']\n",
            "['★★★★']\n",
            "['★★★★★']\n"
          ]
        },
        {
          "output_type": "stream",
          "name": "stderr",
          "text": [
            "/usr/local/lib/python3.7/dist-packages/sklearn/base.py:451: UserWarning: X does not have valid feature names, but SVC was fitted with feature names\n",
            "  \"X does not have valid feature names, but\"\n",
            "/usr/local/lib/python3.7/dist-packages/sklearn/base.py:451: UserWarning: X does not have valid feature names, but SVC was fitted with feature names\n",
            "  \"X does not have valid feature names, but\"\n",
            "/usr/local/lib/python3.7/dist-packages/sklearn/base.py:451: UserWarning: X does not have valid feature names, but SVC was fitted with feature names\n",
            "  \"X does not have valid feature names, but\"\n",
            "/usr/local/lib/python3.7/dist-packages/sklearn/base.py:451: UserWarning: X does not have valid feature names, but SVC was fitted with feature names\n",
            "  \"X does not have valid feature names, but\"\n",
            "/usr/local/lib/python3.7/dist-packages/sklearn/base.py:451: UserWarning: X does not have valid feature names, but SVC was fitted with feature names\n",
            "  \"X does not have valid feature names, but\"\n",
            "/usr/local/lib/python3.7/dist-packages/sklearn/base.py:451: UserWarning: X does not have valid feature names, but SVC was fitted with feature names\n",
            "  \"X does not have valid feature names, but\"\n"
          ]
        }
      ]
    },
    {
      "cell_type": "code",
      "source": [],
      "metadata": {
        "id": "oerUfM_Wefkm"
      },
      "execution_count": null,
      "outputs": []
    },
    {
      "cell_type": "markdown",
      "source": [
        "#6일차"
      ],
      "metadata": {
        "id": "E5RIrfPs95jD"
      }
    },
    {
      "cell_type": "code",
      "source": [
        "data = [[18,60],[75,15],[30,57],[54,20],[11,70],[5,49],\n",
        "        [66,34],[23,44],[40,7],[33,39],[58,13],[45,27]]\n",
        "import matplotlib.pyplot as plt\n",
        "import random\n",
        "for d in data :\n",
        "  plt.scatter(d[0], d[1], c='orange')\n",
        "meanA, meanB = [0,0], [0,0]\n",
        "while meanA == meanB :\n",
        "  meanA = random.choice(data)\n",
        "  meanB = random.choice(data)\n",
        "plt.scatter(meanA[0], meanA[1], c='red')\n",
        "plt.scatter(meanB[0], meanB[1], c='blue')\n",
        "\n",
        "plt.xlabel('action')\n",
        "plt.ylabel('remance')\n",
        "plt.show()"
      ],
      "metadata": {
        "colab": {
          "base_uri": "https://localhost:8080/",
          "height": 279
        },
        "id": "zHZKCRc2-A0D",
        "outputId": "6e7d04dc-92e4-4654-91cb-80a1b9acd6e4"
      },
      "execution_count": null,
      "outputs": [
        {
          "output_type": "display_data",
          "data": {
            "text/plain": [
              "<Figure size 432x288 with 1 Axes>"
            ],
            "image/png": "[encoded data removed]"
          },
          "metadata": {
            "needs_background": "light"
          }
        }
      ]
    },
    {
      "cell_type": "code",
      "source": [
        "def calulate_distance(dot1,dot2) :\n",
        "  x_dist = dot2[0] - dot1[0]\n",
        "  y_dist = dot2[0] - dot1[0]\n",
        "  distance = (x_dist ** 2 + y_dist ** 2) ** 0.5\n",
        "  return distance"
      ],
      "metadata": {
        "id": "p6cpwlAGABeE"
      },
      "execution_count": null,
      "outputs": []
    },
    {
      "cell_type": "code",
      "source": [
        "def grouping(dotA,dotB) :\n",
        "  A, B = [], []\n",
        "  for d in data :\n",
        "    distA = calulate_distance(d, dotA)\n",
        "    distB = calulate_distance(d, dotB)\n",
        "    if distA < distB :\n",
        "      A.append(d)\n",
        "    else :\n",
        "      B.append(d)\n",
        "  return A, B"
      ],
      "metadata": {
        "id": "JKhrtsEqBqzs"
      },
      "execution_count": null,
      "outputs": []
    },
    {
      "cell_type": "code",
      "source": [
        "def update_mean(group) :\n",
        " sum_x, sum_y = 0, 0\n",
        " for d in group :\n",
        "   sum_x += d[0]\n",
        "   sum_y += d[1]\n",
        " mean = [sum_x/len(group), sum_y/len(group)]\n",
        " return mean"
      ],
      "metadata": {
        "id": "ZNxqzwbxCgqF"
      },
      "execution_count": null,
      "outputs": []
    },
    {
      "cell_type": "code",
      "source": [
        "def draw_grouped(A, B, dotA, dotB, x_name = None, y_name = None) :\n",
        "  for d in A :\n",
        "    plt.scatter(d[0], d[1], c='red')\n",
        "\n",
        "  for d in B :\n",
        "    plt.scatter(d[0], d[1], c='blue')\n",
        "\n",
        "  plt.scatter(dotA[0], dotA[1], marker='^', s=100, c='pink')\n",
        "  plt.scatter(dotB[0], dotB[1], marker='^', s=100, c='skyblue')\n",
        "  plt.xlabel(x_name)\n",
        "  plt.ylabel(y_name)\n",
        "  plt.show()"
      ],
      "metadata": {
        "id": "V6KpCBeMDuVj"
      },
      "execution_count": null,
      "outputs": []
    },
    {
      "cell_type": "code",
      "source": [
        "groupA, groupB = grouping(meanA, meanB)\n",
        "print('A',groupA)\n",
        "print('B',groupB)\n",
        "meanA = update_mean(groupA)\n",
        "meanB = update_mean(groupB)\n",
        "\n",
        "draw_grouped(groupA, groupB, meanA, meanB, 'action','romance')"
      ],
      "metadata": {
        "colab": {
          "base_uri": "https://localhost:8080/",
          "height": 315
        },
        "id": "btNWA8veFHSZ",
        "outputId": "4851fba0-c669-4e33-93fd-bb2f5c15eb2d"
      },
      "execution_count": null,
      "outputs": [
        {
          "output_type": "stream",
          "name": "stdout",
          "text": [
            "A [[75, 15], [30, 57], [54, 20], [66, 34], [40, 7], [33, 39], [58, 13], [45, 27]]\n",
            "B [[18, 60], [11, 70], [5, 49], [23, 44]]\n"
          ]
        },
        {
          "output_type": "display_data",
          "data": {
            "text/plain": [
              "<Figure size 432x288 with 1 Axes>"
            ],
            "image/png": "[encoded data removed]"
          },
          "metadata": {
            "needs_background": "light"
          }
        }
      ]
    },
    {
      "cell_type": "code",
      "source": [
        "for i in range(4) :\n",
        "  groupA, groupB = grouping(meanA, meanB)\n",
        "  meanA = update_mean(groupA)\n",
        "  meanB = update_mean(groupB)\n",
        "  draw_grouped(groupA, groupB, meanA, meanB, 'action','romance')"
      ],
      "metadata": {
        "colab": {
          "base_uri": "https://localhost:8080/",
          "height": 1000
        },
        "id": "ZPQv7_OSG_81",
        "outputId": "a4d6e80b-8e1e-4db2-8db2-8deed081f5c4"
      },
      "execution_count": null,
      "outputs": [
        {
          "output_type": "display_data",
          "data": {
            "text/plain": [
              "<Figure size 432x288 with 1 Axes>"
            ],
            "image/png": "[encoded data removed]"
          },
          "metadata": {
            "needs_background": "light"
          }
        },
        {
          "output_type": "display_data",
          "data": {
            "text/plain": [
              "<Figure size 432x288 with 1 Axes>"
            ],
            "image/png": "[encoded data removed]"
          },
          "metadata": {
            "needs_background": "light"
          }
        },
        {
          "output_type": "display_data",
          "data": {
            "text/plain": [
              "<Figure size 432x288 with 1 Axes>"
            ],
            "image/png": "[encoded data removed]"
          },
          "metadata": {
            "needs_background": "light"
          }
        },
        {
          "output_type": "display_data",
          "data": {
            "text/plain": [
              "<Figure size 432x288 with 1 Axes>"
            ],
            "image/png": "[encoded data removed]"
          },
          "metadata": {
            "needs_background": "light"
          }
        }
      ]
    },
    {
      "cell_type": "code",
      "source": [
        "import matplotlib.pyplot as plt"
      ],
      "metadata": {
        "id": "7txg1zA2Qt9G"
      },
      "execution_count": null,
      "outputs": []
    },
    {
      "cell_type": "code",
      "source": [
        "from keras import datasets\n",
        "from keras import utils\n",
        "from keras import models\n",
        "from keras import layers"
      ],
      "metadata": {
        "id": "rm7cdmYDQxbz"
      },
      "execution_count": null,
      "outputs": []
    },
    {
      "cell_type": "code",
      "source": [
        "from keras.datasets import mnist"
      ],
      "metadata": {
        "id": "z8q_EaO7Q_uy"
      },
      "execution_count": null,
      "outputs": []
    },
    {
      "cell_type": "code",
      "source": [
        "(X_train,y_train),(X_test,y_test)=datasets.mnist.load_data()"
      ],
      "metadata": {
        "id": "GfXFstpdRD_-",
        "colab": {
          "base_uri": "https://localhost:8080/"
        },
        "outputId": "2d6c6924-a3eb-432d-ef7c-2b9b705709a0"
      },
      "execution_count": null,
      "outputs": [
        {
          "output_type": "stream",
          "name": "stdout",
          "text": [
            "Downloading data from https://storage.googleapis.com/tensorflow/tf-keras-datasets/mnist.npz\n",
            "11493376/11490434 [==============================] - 0s 0us/step\n",
            "11501568/11490434 [==============================] - 0s 0us/step\n"
          ]
        }
      ]
    },
    {
      "cell_type": "code",
      "source": [
        "print(X_train.shape)\n",
        "print(y_train.shape)\n",
        "print(X_test.shape)\n",
        "print(y_test.shape)"
      ],
      "metadata": {
        "colab": {
          "base_uri": "https://localhost:8080/"
        },
        "id": "jt0ClMfmRMVM",
        "outputId": "ce0227fc-5cf9-4a40-ae12-75f330689682"
      },
      "execution_count": null,
      "outputs": [
        {
          "output_type": "stream",
          "name": "stdout",
          "text": [
            "(60000, 28, 28)\n",
            "(60000,)\n",
            "(10000, 28, 28)\n",
            "(10000,)\n"
          ]
        }
      ]
    },
    {
      "cell_type": "code",
      "source": [
        "plt.imshow(X_train[0], cmap='Greys')\n",
        "plt.show()"
      ],
      "metadata": {
        "colab": {
          "base_uri": "https://localhost:8080/",
          "height": 265
        },
        "id": "OwK6WVFhRi1g",
        "outputId": "784aed3d-64df-4b6f-ee12-14c53a747405"
      },
      "execution_count": null,
      "outputs": [
        {
          "output_type": "display_data",
          "data": {
            "text/plain": [
              "<Figure size 432x288 with 1 Axes>"
            ],
            "image/png": "[encoded data removed]"
          },
          "metadata": {
            "needs_background": "light"
          }
        }
      ]
    },
    {
      "cell_type": "code",
      "source": [
        "X_train[0]"
      ],
      "metadata": {
        "colab": {
          "base_uri": "https://localhost:8080/"
        },
        "id": "it2kFU0-T1KR",
        "outputId": "74a24a33-4f49-47f2-c1e3-f1e9703f6cba"
      },
      "execution_count": null,
      "outputs": [
        {
          "output_type": "execute_result",
          "data": {
            "text/plain": [
              "array([[  0,   0,   0,   0,   0,   0,   0,   0,   0,   0,   0,   0,   0,\n",
              "          0,   0,   0,   0,   0,   0,   0,   0,   0,   0,   0,   0,   0,\n",
              "          0,   0],\n",
              "       [  0,   0,   0,   0,   0,   0,   0,   0,   0,   0,   0,   0,   0,\n",
              "          0,   0,   0,   0,   0,   0,   0,   0,   0,   0,   0,   0,   0,\n",
              "          0,   0],\n",
              "       [  0,   0,   0,   0,   0,   0,   0,   0,   0,   0,   0,   0,   0,\n",
              "          0,   0,   0,   0,   0,   0,   0,   0,   0,   0,   0,   0,   0,\n",
              "          0,   0],\n",
              "       [  0,   0,   0,   0,   0,   0,   0,   0,   0,   0,   0,   0,   0,\n",
              "          0,   0,   0,   0,   0,   0,   0,   0,   0,   0,   0,   0,   0,\n",
              "          0,   0],\n",
              "       [  0,   0,   0,   0,   0,   0,   0,   0,   0,   0,   0,   0,   0,\n",
              "          0,   0,   0,   0,   0,   0,   0,   0,   0,   0,   0,   0,   0,\n",
              "          0,   0],\n",
              "       [  0,   0,   0,   0,   0,   0,   0,   0,   0,   0,   0,   0,   3,\n",
              "         18,  18,  18, 126, 136, 175,  26, 166, 255, 247, 127,   0,   0,\n",
              "          0,   0],\n",
              "       [  0,   0,   0,   0,   0,   0,   0,   0,  30,  36,  94, 154, 170,\n",
              "        253, 253, 253, 253, 253, 225, 172, 253, 242, 195,  64,   0,   0,\n",
              "          0,   0],\n",
              "       [  0,   0,   0,   0,   0,   0,   0,  49, 238, 253, 253, 253, 253,\n",
              "        253, 253, 253, 253, 251,  93,  82,  82,  56,  39,   0,   0,   0,\n",
              "          0,   0],\n",
              "       [  0,   0,   0,   0,   0,   0,   0,  18, 219, 253, 253, 253, 253,\n",
              "        253, 198, 182, 247, 241,   0,   0,   0,   0,   0,   0,   0,   0,\n",
              "          0,   0],\n",
              "       [  0,   0,   0,   0,   0,   0,   0,   0,  80, 156, 107, 253, 253,\n",
              "        205,  11,   0,  43, 154,   0,   0,   0,   0,   0,   0,   0,   0,\n",
              "          0,   0],\n",
              "       [  0,   0,   0,   0,   0,   0,   0,   0,   0,  14,   1, 154, 253,\n",
              "         90,   0,   0,   0,   0,   0,   0,   0,   0,   0,   0,   0,   0,\n",
              "          0,   0],\n",
              "       [  0,   0,   0,   0,   0,   0,   0,   0,   0,   0,   0, 139, 253,\n",
              "        190,   2,   0,   0,   0,   0,   0,   0,   0,   0,   0,   0,   0,\n",
              "          0,   0],\n",
              "       [  0,   0,   0,   0,   0,   0,   0,   0,   0,   0,   0,  11, 190,\n",
              "        253,  70,   0,   0,   0,   0,   0,   0,   0,   0,   0,   0,   0,\n",
              "          0,   0],\n",
              "       [  0,   0,   0,   0,   0,   0,   0,   0,   0,   0,   0,   0,  35,\n",
              "        241, 225, 160, 108,   1,   0,   0,   0,   0,   0,   0,   0,   0,\n",
              "          0,   0],\n",
              "       [  0,   0,   0,   0,   0,   0,   0,   0,   0,   0,   0,   0,   0,\n",
              "         81, 240, 253, 253, 119,  25,   0,   0,   0,   0,   0,   0,   0,\n",
              "          0,   0],\n",
              "       [  0,   0,   0,   0,   0,   0,   0,   0,   0,   0,   0,   0,   0,\n",
              "          0,  45, 186, 253, 253, 150,  27,   0,   0,   0,   0,   0,   0,\n",
              "          0,   0],\n",
              "       [  0,   0,   0,   0,   0,   0,   0,   0,   0,   0,   0,   0,   0,\n",
              "          0,   0,  16,  93, 252, 253, 187,   0,   0,   0,   0,   0,   0,\n",
              "          0,   0],\n",
              "       [  0,   0,   0,   0,   0,   0,   0,   0,   0,   0,   0,   0,   0,\n",
              "          0,   0,   0,   0, 249, 253, 249,  64,   0,   0,   0,   0,   0,\n",
              "          0,   0],\n",
              "       [  0,   0,   0,   0,   0,   0,   0,   0,   0,   0,   0,   0,   0,\n",
              "          0,  46, 130, 183, 253, 253, 207,   2,   0,   0,   0,   0,   0,\n",
              "          0,   0],\n",
              "       [  0,   0,   0,   0,   0,   0,   0,   0,   0,   0,   0,   0,  39,\n",
              "        148, 229, 253, 253, 253, 250, 182,   0,   0,   0,   0,   0,   0,\n",
              "          0,   0],\n",
              "       [  0,   0,   0,   0,   0,   0,   0,   0,   0,   0,  24, 114, 221,\n",
              "        253, 253, 253, 253, 201,  78,   0,   0,   0,   0,   0,   0,   0,\n",
              "          0,   0],\n",
              "       [  0,   0,   0,   0,   0,   0,   0,   0,  23,  66, 213, 253, 253,\n",
              "        253, 253, 198,  81,   2,   0,   0,   0,   0,   0,   0,   0,   0,\n",
              "          0,   0],\n",
              "       [  0,   0,   0,   0,   0,   0,  18, 171, 219, 253, 253, 253, 253,\n",
              "        195,  80,   9,   0,   0,   0,   0,   0,   0,   0,   0,   0,   0,\n",
              "          0,   0],\n",
              "       [  0,   0,   0,   0,  55, 172, 226, 253, 253, 253, 253, 244, 133,\n",
              "         11,   0,   0,   0,   0,   0,   0,   0,   0,   0,   0,   0,   0,\n",
              "          0,   0],\n",
              "       [  0,   0,   0,   0, 136, 253, 253, 253, 212, 135, 132,  16,   0,\n",
              "          0,   0,   0,   0,   0,   0,   0,   0,   0,   0,   0,   0,   0,\n",
              "          0,   0],\n",
              "       [  0,   0,   0,   0,   0,   0,   0,   0,   0,   0,   0,   0,   0,\n",
              "          0,   0,   0,   0,   0,   0,   0,   0,   0,   0,   0,   0,   0,\n",
              "          0,   0],\n",
              "       [  0,   0,   0,   0,   0,   0,   0,   0,   0,   0,   0,   0,   0,\n",
              "          0,   0,   0,   0,   0,   0,   0,   0,   0,   0,   0,   0,   0,\n",
              "          0,   0],\n",
              "       [  0,   0,   0,   0,   0,   0,   0,   0,   0,   0,   0,   0,   0,\n",
              "          0,   0,   0,   0,   0,   0,   0,   0,   0,   0,   0,   0,   0,\n",
              "          0,   0]], dtype=uint8)"
            ]
          },
          "metadata": {},
          "execution_count": 18
        }
      ]
    },
    {
      "cell_type": "code",
      "source": [
        "y_train[0]"
      ],
      "metadata": {
        "colab": {
          "base_uri": "https://localhost:8080/"
        },
        "id": "uBjJJ34wUPyj",
        "outputId": "c59eccdf-ca85-4127-bb3a-ba5ba77d06a8"
      },
      "execution_count": null,
      "outputs": [
        {
          "output_type": "execute_result",
          "data": {
            "text/plain": [
              "5"
            ]
          },
          "metadata": {},
          "execution_count": 19
        }
      ]
    },
    {
      "cell_type": "code",
      "source": [
        "y_train"
      ],
      "metadata": {
        "colab": {
          "base_uri": "https://localhost:8080/"
        },
        "id": "yeXpA3SCUsxq",
        "outputId": "40e208d2-3508-486d-df52-dea7d0397fc8"
      },
      "execution_count": null,
      "outputs": [
        {
          "output_type": "execute_result",
          "data": {
            "text/plain": [
              "array([5, 0, 4, ..., 5, 6, 8], dtype=uint8)"
            ]
          },
          "metadata": {},
          "execution_count": 20
        }
      ]
    },
    {
      "cell_type": "code",
      "source": [
        "X_train = X_train.reshape(60000,784)\n",
        "X_train = X_train.astype('float32')/255\n",
        "X_test = X_test.reshape(10000,784)\n",
        "X_test = X_test.astype('float32')/255\n",
        "\n",
        "X_train.shape"
      ],
      "metadata": {
        "colab": {
          "base_uri": "https://localhost:8080/"
        },
        "id": "9LQ8WbURUyLn",
        "outputId": "562d0262-6136-425b-c3d1-a1fd713bd362"
      },
      "execution_count": null,
      "outputs": [
        {
          "output_type": "execute_result",
          "data": {
            "text/plain": [
              "(60000, 784)"
            ]
          },
          "metadata": {},
          "execution_count": 21
        }
      ]
    },
    {
      "cell_type": "code",
      "source": [
        "X_train[0]"
      ],
      "metadata": {
        "colab": {
          "base_uri": "https://localhost:8080/"
        },
        "id": "OjqF5JiIVXLF",
        "outputId": "f9170931-c8ae-417e-ab69-81ab9bd595df"
      },
      "execution_count": null,
      "outputs": [
        {
          "output_type": "execute_result",
          "data": {
            "text/plain": [
              "array([0.        , 0.        , 0.        , 0.        , 0.        ,\n",
              "       0.        , 0.        , 0.        , 0.        , 0.        ,\n",
              "       0.        , 0.        , 0.        , 0.        , 0.        ,\n",
              "       0.        , 0.        , 0.        , 0.        , 0.        ,\n",
              "       0.        , 0.        , 0.        , 0.        , 0.        ,\n",
              "       0.        , 0.        , 0.        , 0.        , 0.        ,\n",
              "       0.        , 0.        , 0.        , 0.        , 0.        ,\n",
              "       0.        , 0.        , 0.        , 0.        , 0.        ,\n",
              "       0.        , 0.        , 0.        , 0.        , 0.        ,\n",
              "       0.        , 0.        , 0.        , 0.        , 0.        ,\n",
              "       0.        , 0.        , 0.        , 0.        , 0.        ,\n",
              "       0.        , 0.        , 0.        , 0.        , 0.        ,\n",
              "       0.        , 0.        , 0.        , 0.        , 0.        ,\n",
              "       0.        , 0.        , 0.        , 0.        , 0.        ,\n",
              "       0.        , 0.        , 0.        , 0.        , 0.        ,\n",
              "       0.        , 0.        , 0.        , 0.        , 0.        ,\n",
              "       0.        , 0.        , 0.        , 0.        , 0.        ,\n",
              "       0.        , 0.        , 0.        , 0.        , 0.        ,\n",
              "       0.        , 0.        , 0.        , 0.        , 0.        ,\n",
              "       0.        , 0.        , 0.        , 0.        , 0.        ,\n",
              "       0.        , 0.        , 0.        , 0.        , 0.        ,\n",
              "       0.        , 0.        , 0.        , 0.        , 0.        ,\n",
              "       0.        , 0.        , 0.        , 0.        , 0.        ,\n",
              "       0.        , 0.        , 0.        , 0.        , 0.        ,\n",
              "       0.        , 0.        , 0.        , 0.        , 0.        ,\n",
              "       0.        , 0.        , 0.        , 0.        , 0.        ,\n",
              "       0.        , 0.        , 0.        , 0.        , 0.        ,\n",
              "       0.        , 0.        , 0.        , 0.        , 0.        ,\n",
              "       0.        , 0.        , 0.        , 0.        , 0.        ,\n",
              "       0.        , 0.        , 0.        , 0.        , 0.        ,\n",
              "       0.        , 0.        , 0.01176471, 0.07058824, 0.07058824,\n",
              "       0.07058824, 0.49411765, 0.53333336, 0.6862745 , 0.10196079,\n",
              "       0.6509804 , 1.        , 0.96862745, 0.49803922, 0.        ,\n",
              "       0.        , 0.        , 0.        , 0.        , 0.        ,\n",
              "       0.        , 0.        , 0.        , 0.        , 0.        ,\n",
              "       0.        , 0.11764706, 0.14117648, 0.36862746, 0.6039216 ,\n",
              "       0.6666667 , 0.99215686, 0.99215686, 0.99215686, 0.99215686,\n",
              "       0.99215686, 0.88235295, 0.6745098 , 0.99215686, 0.9490196 ,\n",
              "       0.7647059 , 0.2509804 , 0.        , 0.        , 0.        ,\n",
              "       0.        , 0.        , 0.        , 0.        , 0.        ,\n",
              "       0.        , 0.        , 0.        , 0.19215687, 0.93333334,\n",
              "       0.99215686, 0.99215686, 0.99215686, 0.99215686, 0.99215686,\n",
              "       0.99215686, 0.99215686, 0.99215686, 0.9843137 , 0.3647059 ,\n",
              "       0.32156864, 0.32156864, 0.21960784, 0.15294118, 0.        ,\n",
              "       0.        , 0.        , 0.        , 0.        , 0.        ,\n",
              "       0.        , 0.        , 0.        , 0.        , 0.        ,\n",
              "       0.        , 0.07058824, 0.85882354, 0.99215686, 0.99215686,\n",
              "       0.99215686, 0.99215686, 0.99215686, 0.7764706 , 0.7137255 ,\n",
              "       0.96862745, 0.94509804, 0.        , 0.        , 0.        ,\n",
              "       0.        , 0.        , 0.        , 0.        , 0.        ,\n",
              "       0.        , 0.        , 0.        , 0.        , 0.        ,\n",
              "       0.        , 0.        , 0.        , 0.        , 0.        ,\n",
              "       0.3137255 , 0.6117647 , 0.41960785, 0.99215686, 0.99215686,\n",
              "       0.8039216 , 0.04313726, 0.        , 0.16862746, 0.6039216 ,\n",
              "       0.        , 0.        , 0.        , 0.        , 0.        ,\n",
              "       0.        , 0.        , 0.        , 0.        , 0.        ,\n",
              "       0.        , 0.        , 0.        , 0.        , 0.        ,\n",
              "       0.        , 0.        , 0.        , 0.        , 0.05490196,\n",
              "       0.00392157, 0.6039216 , 0.99215686, 0.3529412 , 0.        ,\n",
              "       0.        , 0.        , 0.        , 0.        , 0.        ,\n",
              "       0.        , 0.        , 0.        , 0.        , 0.        ,\n",
              "       0.        , 0.        , 0.        , 0.        , 0.        ,\n",
              "       0.        , 0.        , 0.        , 0.        , 0.        ,\n",
              "       0.        , 0.        , 0.        , 0.        , 0.54509807,\n",
              "       0.99215686, 0.74509805, 0.00784314, 0.        , 0.        ,\n",
              "       0.        , 0.        , 0.        , 0.        , 0.        ,\n",
              "       0.        , 0.        , 0.        , 0.        , 0.        ,\n",
              "       0.        , 0.        , 0.        , 0.        , 0.        ,\n",
              "       0.        , 0.        , 0.        , 0.        , 0.        ,\n",
              "       0.        , 0.        , 0.04313726, 0.74509805, 0.99215686,\n",
              "       0.27450982, 0.        , 0.        , 0.        , 0.        ,\n",
              "       0.        , 0.        , 0.        , 0.        , 0.        ,\n",
              "       0.        , 0.        , 0.        , 0.        , 0.        ,\n",
              "       0.        , 0.        , 0.        , 0.        , 0.        ,\n",
              "       0.        , 0.        , 0.        , 0.        , 0.        ,\n",
              "       0.        , 0.13725491, 0.94509804, 0.88235295, 0.627451  ,\n",
              "       0.42352942, 0.00392157, 0.        , 0.        , 0.        ,\n",
              "       0.        , 0.        , 0.        , 0.        , 0.        ,\n",
              "       0.        , 0.        , 0.        , 0.        , 0.        ,\n",
              "       0.        , 0.        , 0.        , 0.        , 0.        ,\n",
              "       0.        , 0.        , 0.        , 0.        , 0.        ,\n",
              "       0.31764707, 0.9411765 , 0.99215686, 0.99215686, 0.46666667,\n",
              "       0.09803922, 0.        , 0.        , 0.        , 0.        ,\n",
              "       0.        , 0.        , 0.        , 0.        , 0.        ,\n",
              "       0.        , 0.        , 0.        , 0.        , 0.        ,\n",
              "       0.        , 0.        , 0.        , 0.        , 0.        ,\n",
              "       0.        , 0.        , 0.        , 0.        , 0.1764706 ,\n",
              "       0.7294118 , 0.99215686, 0.99215686, 0.5882353 , 0.10588235,\n",
              "       0.        , 0.        , 0.        , 0.        , 0.        ,\n",
              "       0.        , 0.        , 0.        , 0.        , 0.        ,\n",
              "       0.        , 0.        , 0.        , 0.        , 0.        ,\n",
              "       0.        , 0.        , 0.        , 0.        , 0.        ,\n",
              "       0.        , 0.        , 0.        , 0.0627451 , 0.3647059 ,\n",
              "       0.9882353 , 0.99215686, 0.73333335, 0.        , 0.        ,\n",
              "       0.        , 0.        , 0.        , 0.        , 0.        ,\n",
              "       0.        , 0.        , 0.        , 0.        , 0.        ,\n",
              "       0.        , 0.        , 0.        , 0.        , 0.        ,\n",
              "       0.        , 0.        , 0.        , 0.        , 0.        ,\n",
              "       0.        , 0.        , 0.        , 0.9764706 , 0.99215686,\n",
              "       0.9764706 , 0.2509804 , 0.        , 0.        , 0.        ,\n",
              "       0.        , 0.        , 0.        , 0.        , 0.        ,\n",
              "       0.        , 0.        , 0.        , 0.        , 0.        ,\n",
              "       0.        , 0.        , 0.        , 0.        , 0.        ,\n",
              "       0.        , 0.        , 0.        , 0.18039216, 0.50980395,\n",
              "       0.7176471 , 0.99215686, 0.99215686, 0.8117647 , 0.00784314,\n",
              "       0.        , 0.        , 0.        , 0.        , 0.        ,\n",
              "       0.        , 0.        , 0.        , 0.        , 0.        ,\n",
              "       0.        , 0.        , 0.        , 0.        , 0.        ,\n",
              "       0.        , 0.        , 0.        , 0.        , 0.15294118,\n",
              "       0.5803922 , 0.8980392 , 0.99215686, 0.99215686, 0.99215686,\n",
              "       0.98039216, 0.7137255 , 0.        , 0.        , 0.        ,\n",
              "       0.        , 0.        , 0.        , 0.        , 0.        ,\n",
              "       0.        , 0.        , 0.        , 0.        , 0.        ,\n",
              "       0.        , 0.        , 0.        , 0.        , 0.        ,\n",
              "       0.09411765, 0.44705883, 0.8666667 , 0.99215686, 0.99215686,\n",
              "       0.99215686, 0.99215686, 0.7882353 , 0.30588236, 0.        ,\n",
              "       0.        , 0.        , 0.        , 0.        , 0.        ,\n",
              "       0.        , 0.        , 0.        , 0.        , 0.        ,\n",
              "       0.        , 0.        , 0.        , 0.        , 0.        ,\n",
              "       0.        , 0.09019608, 0.25882354, 0.8352941 , 0.99215686,\n",
              "       0.99215686, 0.99215686, 0.99215686, 0.7764706 , 0.31764707,\n",
              "       0.00784314, 0.        , 0.        , 0.        , 0.        ,\n",
              "       0.        , 0.        , 0.        , 0.        , 0.        ,\n",
              "       0.        , 0.        , 0.        , 0.        , 0.        ,\n",
              "       0.        , 0.        , 0.07058824, 0.67058825, 0.85882354,\n",
              "       0.99215686, 0.99215686, 0.99215686, 0.99215686, 0.7647059 ,\n",
              "       0.3137255 , 0.03529412, 0.        , 0.        , 0.        ,\n",
              "       0.        , 0.        , 0.        , 0.        , 0.        ,\n",
              "       0.        , 0.        , 0.        , 0.        , 0.        ,\n",
              "       0.        , 0.        , 0.        , 0.21568628, 0.6745098 ,\n",
              "       0.8862745 , 0.99215686, 0.99215686, 0.99215686, 0.99215686,\n",
              "       0.95686275, 0.52156866, 0.04313726, 0.        , 0.        ,\n",
              "       0.        , 0.        , 0.        , 0.        , 0.        ,\n",
              "       0.        , 0.        , 0.        , 0.        , 0.        ,\n",
              "       0.        , 0.        , 0.        , 0.        , 0.        ,\n",
              "       0.        , 0.53333336, 0.99215686, 0.99215686, 0.99215686,\n",
              "       0.83137256, 0.5294118 , 0.5176471 , 0.0627451 , 0.        ,\n",
              "       0.        , 0.        , 0.        , 0.        , 0.        ,\n",
              "       0.        , 0.        , 0.        , 0.        , 0.        ,\n",
              "       0.        , 0.        , 0.        , 0.        , 0.        ,\n",
              "       0.        , 0.        , 0.        , 0.        , 0.        ,\n",
              "       0.        , 0.        , 0.        , 0.        , 0.        ,\n",
              "       0.        , 0.        , 0.        , 0.        , 0.        ,\n",
              "       0.        , 0.        , 0.        , 0.        , 0.        ,\n",
              "       0.        , 0.        , 0.        , 0.        , 0.        ,\n",
              "       0.        , 0.        , 0.        , 0.        , 0.        ,\n",
              "       0.        , 0.        , 0.        , 0.        , 0.        ,\n",
              "       0.        , 0.        , 0.        , 0.        , 0.        ,\n",
              "       0.        , 0.        , 0.        , 0.        , 0.        ,\n",
              "       0.        , 0.        , 0.        , 0.        , 0.        ,\n",
              "       0.        , 0.        , 0.        , 0.        , 0.        ,\n",
              "       0.        , 0.        , 0.        , 0.        , 0.        ,\n",
              "       0.        , 0.        , 0.        , 0.        , 0.        ,\n",
              "       0.        , 0.        , 0.        , 0.        , 0.        ,\n",
              "       0.        , 0.        , 0.        , 0.        , 0.        ,\n",
              "       0.        , 0.        , 0.        , 0.        , 0.        ,\n",
              "       0.        , 0.        , 0.        , 0.        ], dtype=float32)"
            ]
          },
          "metadata": {},
          "execution_count": 22
        }
      ]
    },
    {
      "cell_type": "code",
      "source": [
        "from tensorflow import keras"
      ],
      "metadata": {
        "id": "HFHD8xPlV28w"
      },
      "execution_count": null,
      "outputs": []
    },
    {
      "cell_type": "code",
      "source": [
        "y_train = keras.utils.to_categorical(y_train, num_classes=10)\n",
        "y_test = keras.utils.to_categorical(y_test, num_classes=10)"
      ],
      "metadata": {
        "id": "edtBUpVcWHxb"
      },
      "execution_count": null,
      "outputs": []
    },
    {
      "cell_type": "code",
      "source": [
        "y_train.shape"
      ],
      "metadata": {
        "colab": {
          "base_uri": "https://localhost:8080/"
        },
        "id": "4A-WoED1WXcH",
        "outputId": "1a106bd3-afb2-4f22-950f-5891c80c78db"
      },
      "execution_count": null,
      "outputs": [
        {
          "output_type": "execute_result",
          "data": {
            "text/plain": [
              "(60000, 10)"
            ]
          },
          "metadata": {},
          "execution_count": 25
        }
      ]
    },
    {
      "cell_type": "code",
      "source": [
        "y_train[0]"
      ],
      "metadata": {
        "colab": {
          "base_uri": "https://localhost:8080/"
        },
        "id": "8rMJjOCMWZM_",
        "outputId": "fc741e75-4e9c-4215-a796-63e9683dd9e5"
      },
      "execution_count": null,
      "outputs": [
        {
          "output_type": "execute_result",
          "data": {
            "text/plain": [
              "array([0., 0., 0., 0., 0., 1., 0., 0., 0., 0.], dtype=float32)"
            ]
          },
          "metadata": {},
          "execution_count": 26
        }
      ]
    },
    {
      "cell_type": "markdown",
      "source": [
        "신경망 구조 디자인 하기"
      ],
      "metadata": {
        "id": "yTkF8wz0XK1K"
      }
    },
    {
      "cell_type": "code",
      "source": [
        "model = models.Sequential()"
      ],
      "metadata": {
        "id": "CKtaOcdHWbM1"
      },
      "execution_count": null,
      "outputs": []
    },
    {
      "cell_type": "code",
      "source": [
        "model.add(layers.Dense(64,activation='sigmoid',input_shape=(784,)))\n",
        "model.add(layers.Dense(10,activation='softmax'))"
      ],
      "metadata": {
        "id": "VbbnU7_wXIFs"
      },
      "execution_count": null,
      "outputs": []
    },
    {
      "cell_type": "code",
      "source": [
        "model.compile(loss='MSE',optimizer='SGD',metrics=['accuracy'])\n",
        "model.summary()"
      ],
      "metadata": {
        "colab": {
          "base_uri": "https://localhost:8080/"
        },
        "id": "XFwUEribXQaG",
        "outputId": "eba6ab4e-015f-43b2-d7ad-8ee0cd7d02a9"
      },
      "execution_count": null,
      "outputs": [
        {
          "output_type": "stream",
          "name": "stdout",
          "text": [
            "Model: \"sequential\"\n",
            "_________________________________________________________________\n",
            " Layer (type)                Output Shape              Param #   \n",
            "=================================================================\n",
            " dense (Dense)               (None, 64)                50240     \n",
            "                                                                 \n",
            " dense_1 (Dense)             (None, 10)                650       \n",
            "                                                                 \n",
            "=================================================================\n",
            "Total params: 50,890\n",
            "Trainable params: 50,890\n",
            "Non-trainable params: 0\n",
            "_________________________________________________________________\n"
          ]
        }
      ]
    },
    {
      "cell_type": "code",
      "source": [
        "model.fit(X_train,y_train,\n",
        "          batch_size=128,\n",
        "          epochs=10,\n",
        "          verbose=1,\n",
        "          )"
      ],
      "metadata": {
        "colab": {
          "base_uri": "https://localhost:8080/"
        },
        "id": "EXQ_JG3MafW2",
        "outputId": "037f3070-c747-47c0-84a7-bb251ea95427"
      },
      "execution_count": null,
      "outputs": [
        {
          "output_type": "stream",
          "name": "stdout",
          "text": [
            "Epoch 1/10\n",
            "469/469 [==============================] - 1s 3ms/step - loss: 0.0874 - accuracy: 0.2889\n",
            "Epoch 2/10\n",
            "469/469 [==============================] - 1s 3ms/step - loss: 0.0871 - accuracy: 0.3012\n",
            "Epoch 3/10\n",
            "469/469 [==============================] - 1s 3ms/step - loss: 0.0867 - accuracy: 0.3157\n",
            "Epoch 4/10\n",
            "469/469 [==============================] - 1s 3ms/step - loss: 0.0864 - accuracy: 0.3283\n",
            "Epoch 5/10\n",
            "469/469 [==============================] - 1s 3ms/step - loss: 0.0861 - accuracy: 0.3413\n",
            "Epoch 6/10\n",
            "469/469 [==============================] - 1s 3ms/step - loss: 0.0857 - accuracy: 0.3581\n",
            "Epoch 7/10\n",
            "469/469 [==============================] - 1s 3ms/step - loss: 0.0854 - accuracy: 0.3726\n",
            "Epoch 8/10\n",
            "469/469 [==============================] - 1s 3ms/step - loss: 0.0850 - accuracy: 0.3866\n",
            "Epoch 9/10\n",
            "469/469 [==============================] - 1s 3ms/step - loss: 0.0847 - accuracy: 0.4017\n",
            "Epoch 10/10\n",
            "469/469 [==============================] - 1s 3ms/step - loss: 0.0843 - accuracy: 0.4136\n"
          ]
        },
        {
          "output_type": "execute_result",
          "data": {
            "text/plain": [
              "<keras.callbacks.History at 0x7fd1855fd490>"
            ]
          },
          "metadata": {},
          "execution_count": 31
        }
      ]
    },
    {
      "cell_type": "code",
      "source": [],
      "metadata": {
        "id": "gGnbsph5bHWX"
      },
      "execution_count": null,
      "outputs": []
    }
  ]
}