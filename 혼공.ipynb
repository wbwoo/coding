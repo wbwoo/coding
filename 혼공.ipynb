{
  "nbformat": 4,
  "nbformat_minor": 0,
  "metadata": {
    "colab": {
      "provenance": [],
      "authorship_tag": "ABX9TyPHyJmXxy1e/soF3fD2e6ev",
      "include_colab_link": true
    },
    "kernelspec": {
      "name": "python3",
      "display_name": "Python 3"
    },
    "language_info": {
      "name": "python"
    }
  },
  "cells": [
    {
      "cell_type": "markdown",
      "metadata": {
        "id": "view-in-github",
        "colab_type": "text"
      },
      "source": [
        "<a href=\"https://colab.research.google.com/github/wbwoo/colab/blob/main/%ED%98%BC%EA%B3%B5.ipynb\" target=\"_parent\"><img src=\"https://colab.research.google.com/assets/colab-badge.svg\" alt=\"Open In Colab\"/></a>"
      ]
    },
    {
      "cell_type": "code",
      "execution_count": null,
      "metadata": {
        "colab": {
          "base_uri": "https://localhost:8080/"
        },
        "id": "7L5dAOGdA7Td",
        "outputId": "a777a150-4248-4096-dd1f-fcec1017b6a1"
      },
      "outputs": [
        {
          "output_type": "stream",
          "name": "stdout",
          "text": [
            "<class 'int'> <class 'str'> <class 'list'> <class 'dict'> <class 'tuple'> <class 'set'>\n",
            "94126905752064 140269568129136 140269195221264 140269167649888 140269167605152 140269231230320\n"
          ]
        }
      ],
      "source": [
        "#변수\n",
        "a=1 ; b=\"python\" ; c=[1,2,3]\n",
        "d={'name':'phd','age':'56'}\n",
        "e=(1,2,3) ; f=set([1,2,3])\n",
        "print(type(a),type(b),type(c),type(d),type(e),type(f))\n",
        "print(id(a), id(b), id(c), id(d), id(e), id(f))"
      ]
    },
    {
      "cell_type": "code",
      "source": [
        "# a와 b가 동일한 메모리 할당\n",
        "a=[1,2,3] ; b=a ; print(a,b)\n",
        "print(id(a), id(b))\n",
        "print(a is b)\n",
        "a[1]=4 ; print(a,b)\n",
        "print(\"~~~~~~~~~~~~~~~~~~~\")\n",
        "# a와 b가 다른 메모리 할당\n",
        "a=[1,2,3] ; b=a[:] ; print(a,b)\n",
        "print(id(a), id(b))\n",
        "print(a is b)\n",
        "a[1]=4 ; print(a,b)"
      ],
      "metadata": {
        "colab": {
          "base_uri": "https://localhost:8080/"
        },
        "id": "gtB9A0GNGFw_",
        "outputId": "13a36267-e3a9-4ca0-dc15-d41744912a40"
      },
      "execution_count": null,
      "outputs": [
        {
          "output_type": "stream",
          "name": "stdout",
          "text": [
            "[1, 2, 3] [1, 2, 3]\n",
            "140269023267488 140269023267488\n",
            "True\n",
            "[1, 4, 3] [1, 4, 3]\n",
            "~~~~~~~~~~~~~~~~~~~\n",
            "[1, 2, 3] [1, 2, 3]\n",
            "140269023491728 140269022910096\n",
            "False\n",
            "[1, 4, 3] [1, 2, 3]\n"
          ]
        }
      ]
    },
    {
      "cell_type": "code",
      "source": [
        "# a[:] 와 copy 모듈은 다른 메모리 할당.\n",
        "from copy import copy\n",
        "a=[1,2,3]\n",
        "b=copy(a)\n",
        "print(a is b)\n",
        "print(id(a), id(b))"
      ],
      "metadata": {
        "colab": {
          "base_uri": "https://localhost:8080/"
        },
        "id": "Uuz1ScWjIqga",
        "outputId": "4343af8f-6108-461c-c75e-7db88eaa931c"
      },
      "execution_count": null,
      "outputs": [
        {
          "output_type": "stream",
          "name": "stdout",
          "text": [
            "False\n",
            "140269022391024 140269022391984\n"
          ]
        }
      ]
    },
    {
      "cell_type": "code",
      "source": [
        "# 변수를 만드는 여러 가지 방법\n",
        "a,b='python','life' ; print(a,b)\n",
        "(a,b)=('python','life') ; print(a,b)\n",
        "[a,b]=['python','life'] ; print(a,b)\n",
        "a=b='python';print(a,b)"
      ],
      "metadata": {
        "colab": {
          "base_uri": "https://localhost:8080/"
        },
        "id": "XBx_eZepJ7Zg",
        "outputId": "fd7d7cf8-84b0-4027-9a22-6e3d0ea2cf9c"
      },
      "execution_count": null,
      "outputs": [
        {
          "output_type": "stream",
          "name": "stdout",
          "text": [
            "python life\n",
            "python life\n",
            "python life\n",
            "python python\n"
          ]
        }
      ]
    },
    {
      "cell_type": "code",
      "source": [
        "# 변수 값 바꾸기\n",
        "a=3;b=5;print(a,b)\n",
        "a,b=b,a;print(a,b)\n",
        "#세 값 교체하기\n",
        "a=3;b=5;c=7;print(a,b,c)\n",
        "a,b,c,=b,c,a;print(a,b,c)"
      ],
      "metadata": {
        "colab": {
          "base_uri": "https://localhost:8080/"
        },
        "id": "F2rph_h9K0Gd",
        "outputId": "adc12024-8900-4b2b-94c2-2751cab77d3e"
      },
      "execution_count": null,
      "outputs": [
        {
          "output_type": "stream",
          "name": "stdout",
          "text": [
            "3 5\n",
            "5 3\n",
            "3 5 7\n",
            "5 7 3\n"
          ]
        }
      ]
    },
    {
      "cell_type": "code",
      "source": [
        "#숫자 자료 유형\n",
        "#정수형\n",
        "a=123;b=-178;c=0\n",
        "print(a,b,c)\n",
        "print(type(a),type(b),type(c))\n",
        "\n",
        "#실수형\n",
        "f1=1.2; f2=-3.45\n",
        "print(f1,f2)\n",
        "print(type(f1),type(f2))\n",
        "\n",
        "#지수형\n",
        "e1=4.2E3; e2=4.2e-3\n",
        "print(e1,e2)\n",
        "print(type(e1),type(e2))"
      ],
      "metadata": {
        "colab": {
          "base_uri": "https://localhost:8080/"
        },
        "id": "WftnUm4OLWeo",
        "outputId": "ba8c6aae-9ea2-4a98-b7ed-94e581719499"
      },
      "execution_count": null,
      "outputs": [
        {
          "output_type": "stream",
          "name": "stdout",
          "text": [
            "123 -178 0\n",
            "<class 'int'> <class 'int'> <class 'int'>\n",
            "1.2 -3.45\n",
            "<class 'float'> <class 'float'>\n",
            "4200.0 0.0042\n",
            "<class 'float'> <class 'float'>\n"
          ]
        }
      ]
    },
    {
      "cell_type": "code",
      "source": [
        "#8진수\n",
        "o1=0O11;o2=0o12\n",
        "print(o1,o2)\n",
        "print(type(o1),type(o2))\n",
        "\n",
        "#16진수\n",
        "x1=0X11; x2=0x12\n",
        "print(x1,x2)\n",
        "print(type(x1),type(x2))"
      ],
      "metadata": {
        "colab": {
          "base_uri": "https://localhost:8080/"
        },
        "id": "nf1zwo4NNPMr",
        "outputId": "376ecb21-df33-42f3-8d91-802f9c35a4b4"
      },
      "execution_count": null,
      "outputs": [
        {
          "output_type": "stream",
          "name": "stdout",
          "text": [
            "9 10\n",
            "<class 'int'> <class 'int'>\n",
            "17 18\n",
            "<class 'int'> <class 'int'>\n"
          ]
        }
      ]
    },
    {
      "cell_type": "code",
      "source": [
        "#사칙연산\n",
        "a=5;b=3\n",
        "#덧셈,뺄셈\n",
        "print(a+b);print(a-b)\n",
        "#곱셈,나눗셈\n",
        "print(a*b);print(a/b)\n",
        "#몫을 반환,나머지를 반환\n",
        "print(a//b);print(a%b)\n",
        "#제곱\n",
        "print(a**b)"
      ],
      "metadata": {
        "colab": {
          "base_uri": "https://localhost:8080/"
        },
        "id": "H02XMmhGPBil",
        "outputId": "7d54d45e-162f-4819-a22b-fe88cfc63ce2"
      },
      "execution_count": null,
      "outputs": [
        {
          "output_type": "stream",
          "name": "stdout",
          "text": [
            "8\n",
            "2\n",
            "15\n",
            "1.6666666666666667\n",
            "1\n",
            "2\n",
            "125\n"
          ]
        }
      ]
    },
    {
      "cell_type": "code",
      "source": [
        "'''사용자 입력값 받기 input()\n",
        "입력되는 모든 값은 문자열이다.'''\n",
        "b=10\n",
        "a=int(input())\n",
        "print(type(a))\n",
        "b=a+b; print(b)"
      ],
      "metadata": {
        "id": "r0m7eG5QPv6l",
        "colab": {
          "base_uri": "https://localhost:8080/"
        },
        "outputId": "1f4c85b6-c69d-4b28-fb10-4924dda37290"
      },
      "execution_count": null,
      "outputs": [
        {
          "output_type": "stream",
          "name": "stdout",
          "text": [
            "3\n",
            "<class 'int'>\n",
            "13\n"
          ]
        }
      ]
    },
    {
      "cell_type": "code",
      "source": [
        "#프롬프트를 띄워 안내 후 입력 받기\n",
        "number=int(input('숫자를 입력하세요 : '))\n",
        "print('입력하신 값은 %d 입니다.' % number)"
      ],
      "metadata": {
        "colab": {
          "base_uri": "https://localhost:8080/"
        },
        "id": "Fj_NP_xZfXeN",
        "outputId": "83d42234-2284-4bb4-e3fa-468dd0d7ce98"
      },
      "execution_count": null,
      "outputs": [
        {
          "output_type": "stream",
          "name": "stdout",
          "text": [
            "숫자를 입력하세요 : 3\n",
            "입력하신 값은 3 입니다.\n"
          ]
        }
      ]
    },
    {
      "cell_type": "code",
      "source": [
        "# 여러 개 값을 받아 리스트에 저장하기\n",
        "a = input('값을 3개 입력해 주세요(ex:1 2 3) ')\n",
        "print(a)\n",
        "b=list(a.split(' '))\n",
        "print(b);print(type(b))\n",
        "\n",
        "# 문자데이터를 정수로 바꾸어 리스트에 담기\n",
        "int_b=[int(k) for k in b]\n",
        "print(int_b)"
      ],
      "metadata": {
        "colab": {
          "base_uri": "https://localhost:8080/"
        },
        "id": "TqTiLN-Kfow1",
        "outputId": "ad8c8803-c250-4fe5-c8fa-ad60481d1f4c"
      },
      "execution_count": null,
      "outputs": [
        {
          "output_type": "stream",
          "name": "stdout",
          "text": [
            "값을 3개 입력해 주세요(ex:1 2 3) 1 4 5\n",
            "1 4 5\n",
            "['1', '4', '5']\n",
            "<class 'list'>\n",
            "[1, 4, 5]\n"
          ]
        }
      ]
    },
    {
      "cell_type": "code",
      "source": [
        "# 여러 개 값을 받아 리스트에 저장하기\n",
        "a = input('값을 입력해 주세요(ex:1 2 3) ')\n",
        "print(a)\n",
        "b=list(a.split(' '))\n",
        "print(b);print(type(b))\n",
        "\n",
        "# 문자데이터를 정수로 바꾸어 연산\n",
        "s=0\n",
        "for k in b :\n",
        "  s = s + int(k)\n",
        "print(s)"
      ],
      "metadata": {
        "colab": {
          "base_uri": "https://localhost:8080/"
        },
        "id": "19hFUhU2f17o",
        "outputId": "75d14849-a02a-42fc-d4be-44da8d6db566"
      },
      "execution_count": null,
      "outputs": [
        {
          "output_type": "stream",
          "name": "stdout",
          "text": [
            "값을 입력해 주세요(ex:1 2 3) 1 2 3 3 4 23 4 253\n",
            "1 2 3 3 4 23 4 253\n",
            "['1', '2', '3', '3', '4', '23', '4', '253']\n",
            "<class 'list'>\n",
            "293\n"
          ]
        }
      ]
    },
    {
      "cell_type": "code",
      "source": [
        "#파일 생성하기[file open mode w:쓰기, r:읽기, a:추가]\n",
        "f = open(\"a.txt\",'w')\n",
        "f.close()"
      ],
      "metadata": {
        "id": "juqiJ3DDghTH"
      },
      "execution_count": null,
      "outputs": []
    },
    {
      "cell_type": "code",
      "source": [
        " #파일 쓰기 모드로 열고 파일에 쓰기\n",
        "f = open(\"a.txt\",'w')\n",
        "for i in range(1,6) :\n",
        "  data = \"%d 번째 줄입니다.\\n\" % i\n",
        "  f.write(data)\n",
        "f.close()"
      ],
      "metadata": {
        "id": "JvbtY_zvhVKl"
      },
      "execution_count": null,
      "outputs": []
    },
    {
      "cell_type": "code",
      "source": [
        "#프로그램 외부 파일을 읽는 방법\n",
        "#첫 줄 읽고 화면 출력\n",
        "f = open(\"a.txt\",'r')\n",
        "line = f.readline()\n",
        "print(line)\n",
        "f.close(); print()\n",
        "\n",
        "#모든 줄 읽고 화면 출력\n",
        "f = open(\"a.txt\",'r')\n",
        "while True :\n",
        "  line = f.readline()\n",
        "  if not line : break\n",
        "  print(line)\n",
        "f.close()"
      ],
      "metadata": {
        "colab": {
          "base_uri": "https://localhost:8080/"
        },
        "id": "wY57uwyThkkT",
        "outputId": "d31a7d7a-13ea-47bd-e869-421b71b54364"
      },
      "execution_count": null,
      "outputs": [
        {
          "output_type": "stream",
          "name": "stdout",
          "text": [
            "1 번째 줄입니다.\n",
            "\n",
            "\n",
            "1 번째 줄입니다.\n",
            "\n",
            "2 번째 줄입니다.\n",
            "\n",
            "3 번째 줄입니다.\n",
            "\n",
            "4 번째 줄입니다.\n",
            "\n",
            "5 번째 줄입니다.\n",
            "\n"
          ]
        }
      ]
    },
    {
      "cell_type": "code",
      "source": [
        "#read 함수 사용\n",
        "f = open(\"a.txt\",'r')\n",
        "data = f.read()\n",
        "print(data)\n",
        "f.close()"
      ],
      "metadata": {
        "colab": {
          "base_uri": "https://localhost:8080/"
        },
        "id": "ymo874Wqir1T",
        "outputId": "ffd6ff47-34a9-46c4-ea29-965c93af653f"
      },
      "execution_count": null,
      "outputs": [
        {
          "output_type": "stream",
          "name": "stdout",
          "text": [
            "1 번째 줄입니다.\n",
            "2 번째 줄입니다.\n",
            "3 번째 줄입니다.\n",
            "4 번째 줄입니다.\n",
            "5 번째 줄입니다.\n",
            "\n"
          ]
        }
      ]
    },
    {
      "cell_type": "code",
      "source": [
        "#파일에 새로운 내용 추가하기\n",
        "f = open(\"a.txt\",'a')\n",
        "for i in range(6,8) :\n",
        "  data = \"%d 번째 줄입니다.\\n\" % i\n",
        "  f.write(data)\n",
        "f.close()"
      ],
      "metadata": {
        "id": "smpodSTjjaWf"
      },
      "execution_count": null,
      "outputs": []
    },
    {
      "cell_type": "code",
      "source": [
        "#파일에 새로운 내용 한번 더 추가하기\n",
        "f = open(\"a.txt\",'a')\n",
        "for i in range(8,11) :\n",
        "  data = \"%d 번째 줄입니다.\\n\" % i\n",
        "  f.write(data)\n",
        "f.close()"
      ],
      "metadata": {
        "id": "Q3YovZ-bjgE-"
      },
      "execution_count": null,
      "outputs": []
    },
    {
      "cell_type": "code",
      "source": [
        "# 파일을 열고 닫기 자동 with\n",
        "with open(\"a.txt\",'a') as f :\n",
        "  f.write(\"python\")\n",
        "  f.write(\" is good!!!\")\n",
        "with open(\"a.txt\",'r') as f :\n",
        "  data = f.read()\n",
        "  print(data)"
      ],
      "metadata": {
        "colab": {
          "base_uri": "https://localhost:8080/"
        },
        "id": "kBOgb0wpjiMk",
        "outputId": "af4d9de1-e450-4c1e-80a1-a04395a39d30"
      },
      "execution_count": null,
      "outputs": [
        {
          "output_type": "stream",
          "name": "stdout",
          "text": [
            "1 번째 줄입니다.\n",
            "2 번째 줄입니다.\n",
            "3 번째 줄입니다.\n",
            "4 번째 줄입니다.\n",
            "5 번째 줄입니다.\n",
            "6 번째 줄입니다.\n",
            "7 번째 줄입니다.\n",
            "8 번째 줄입니다.\n",
            "9 번째 줄입니다.\n",
            "10 번째 줄입니다.\n",
            "python is good!!!python is good!!!\n",
            "python is good!!!\\/python is good!!!python is good!!!python is good!!!python is good!!!python is good!!!python is good!!!\n"
          ]
        }
      ]
    },
    {
      "cell_type": "code",
      "source": [],
      "metadata": {
        "id": "i6dlpG5Ejk2y"
      },
      "execution_count": null,
      "outputs": []
    }
  ]
}